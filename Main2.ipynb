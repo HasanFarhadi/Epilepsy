{
 "cells": [
  {
   "cell_type": "code",
   "execution_count": 1,
   "metadata": {},
   "outputs": [],
   "source": [
    "import os\n",
    "import warnings\n",
    "os.environ[\"KMP_DUPLICATE_LIB_OK\"]=\"TRUE\"\n",
    "#os.environ['CUDA_LAUNCH_BLOCKING'] = str(1)\n",
    "#os.environ[\"TORCH_USE_CUDA_DSA\"]= str(0)\n",
    "warnings.filterwarnings('ignore') \n"
   ]
  },
  {
   "cell_type": "code",
   "execution_count": 2,
   "metadata": {},
   "outputs": [],
   "source": [
    "import copy\n",
    "import torch\n",
    "import torch.nn as nn\n",
    "from torch.nn import functional as F\n",
    "from torch.utils.data import Dataset\n",
    "import torch.optim as optim\n",
    "from torch.autograd import Variable\n",
    "from tqdm import tqdm\n",
    "import numpy as np\n",
    "import pandas as pd\n",
    "import matplotlib.pyplot as plt\n",
    "import time\n",
    "import math\n",
    "from collections import OrderedDict\n",
    "import random\n",
    "from torchsummary import summary\n",
    "from torchvision import transforms\n",
    "from torch.utils.data import Dataset\n",
    "import sys\n",
    "import torch\n",
    "import numpy as np\n",
    "from tqdm import trange\n",
    "from torch.utils.data import DataLoader\n",
    "from sklearn.metrics import accuracy_score\n",
    "from sklearn.model_selection import train_test_split\n",
    "import mne\n",
    "from sklearn.preprocessing import StandardScaler\n",
    "import logging\n",
    "from torch.nn.utils.rnn import pack_sequence, pad_packed_sequence\n",
    "import statistics\n",
    "import torch.optim.lr_scheduler as lr_scheduler\n",
    "from scipy.special import softmax\n",
    "from sklearn.model_selection import StratifiedKFold"
   ]
  },
  {
   "cell_type": "code",
   "execution_count": 3,
   "metadata": {},
   "outputs": [
    {
     "name": "stdout",
     "output_type": "stream",
     "text": [
      "importing Jupyter notebook from Dataloader2.ipynb\n"
     ]
    }
   ],
   "source": [
    "logging.getLogger('mne').setLevel(logging.WARNING)\n",
    "device = torch.device(\"cuda\" if torch.cuda.is_available() else \"cpu\")\n",
    "import import_ipynb\n",
    "#from Model import net\n",
    "from Dataloader2 import EEGDataset"
   ]
  },
  {
   "cell_type": "code",
   "execution_count": 4,
   "metadata": {},
   "outputs": [],
   "source": [
    "def Accuracy(y_pred, y, train_count):\n",
    "    max_values, _ = torch.max(y_pred, dim=1, keepdim=True)\n",
    "    mask = y_pred == max_values\n",
    "    y_pred = mask.int()\n",
    "    correct_num = torch.sum(torch.all(torch.eq(y, y_pred), dim=1)).item()\n",
    "    accuracy = correct_num / train_count\n",
    "    return accuracy * 100"
   ]
  },
  {
   "cell_type": "code",
   "execution_count": 5,
   "metadata": {},
   "outputs": [],
   "source": [
    "def test(model, test_path, test_class, verbose=True):\n",
    "    \n",
    "\n",
    "    x_test = mne.read_epochs(test_path, preload=False).get_data(picks='eeg');\n",
    "    normals = []\n",
    "    scaler = StandardScaler()\n",
    "    for idx in range(len(x_test)):\n",
    "        normals.append(scaler.fit_transform(x_test[idx]))\n",
    "    normals = torch.tensor(normals).cuda().float()\n",
    "    result = torch.argmax(model(normals), axis=1)\n",
    "    unique_elements, counts = torch.unique(result, return_counts=True)\n",
    "\n",
    "    votes = np.zeros([4])\n",
    "    for i in range(len(unique_elements)):\n",
    "        votes[unique_elements[i]] = counts[i]\n",
    "\n",
    "\n",
    "    if(verbose):\n",
    "        print(f\"Test Accuracy: {(votes[test_class] / result.shape[0]) * 100}\")\n",
    "    return votes\n"
   ]
  },
  {
   "cell_type": "code",
   "execution_count": 6,
   "metadata": {},
   "outputs": [],
   "source": [
    "class net(nn.Module):\n",
    "    def __init__(self, T, C, input_size, hidden_size, num_layers, spatial_num, dropout, pool):\n",
    "        super(net, self).__init__()\n",
    "        \n",
    "        self.T = T\n",
    "        self.C = C\n",
    "        self.spatial_num = spatial_num\n",
    "        self.dropout = dropout\n",
    "        self.pool = pool\n",
    "\n",
    "        self.input_size = input_size\n",
    "        self.hidden_size = hidden_size\n",
    "        self.num_layers = num_layers\n",
    "\n",
    "        self.cell_count = self.T // self.input_size\n",
    "\n",
    "        self.fcn_in = (spatial_num * self.hidden_size)\n",
    "\n",
    "        self._lstm = nn.LSTM(self.input_size, self.hidden_size, self.num_layers, batch_first=True)\n",
    "\n",
    "        self.lstm = nn.ModuleList([self._lstm for i in range(self.C)])\n",
    "\n",
    "        self.cnn_block = nn.Sequential(nn.Conv2d(1, self.spatial_num, (self.C, 1)),\n",
    "                                       nn.BatchNorm2d(self.spatial_num),\n",
    "                                       nn.ELU(),\n",
    "\n",
    "\n",
    "\n",
    "                                       nn.Dropout(self.dropout))\n",
    "\n",
    "        \n",
    "        self.fcn = nn.Sequential(nn.Linear(self.fcn_in, 128), \n",
    "                                 nn.ReLU(),\n",
    "                                 nn.Linear(128, 16),\n",
    "                                 nn.Dropout(self.dropout),\n",
    "                                 nn.ReLU(),\n",
    "                                 nn.Linear(16, 4))\n",
    "\n",
    "        #self.fcn = nn.Linear(self.fcn_in, 4)\n",
    "        self.results = nn.Softmax(dim=1)\n",
    "    def forward(self, x):\n",
    "        x = x.reshape(-1, 1, 19, 3000)\n",
    "        self.N = x.shape[0]\n",
    "        x = x.reshape(self.N, self.C, self.cell_count, self.input_size)\n",
    "        _x = None\n",
    "\n",
    "        for index, cell in enumerate(self.lstm):\n",
    "            cell_out, _ = cell(x[:, index, :, :], None)\n",
    "            last_layer_out = cell_out[:, -1, :]\n",
    "            \n",
    "            last_layer_out = last_layer_out.unsqueeze(0)\n",
    "            if _x is None:\n",
    "                _x = last_layer_out\n",
    "            else:\n",
    "                _x = torch.cat((_x, last_layer_out), dim=0)\n",
    "            \n",
    "\n",
    "        x = _x.permute(1, 0, 2).unsqueeze(1)\n",
    "\n",
    "        x = self.cnn_block(x)\n",
    "\n",
    "\n",
    "        x = x.reshape(self.N, -1)\n",
    "\n",
    "        x = self.fcn(x)\n",
    "        x = self.results(x)\n",
    "\n",
    "        return x"
   ]
  },
  {
   "cell_type": "code",
   "execution_count": 7,
   "metadata": {},
   "outputs": [
    {
     "data": {
      "text/plain": [
       "torch.Size([7, 4])"
      ]
     },
     "execution_count": 7,
     "metadata": {},
     "output_type": "execute_result"
    }
   ],
   "source": [
    "class CNN_LSTM(nn.Module):\n",
    "    def __init__(self, num_classes, hidden_size):\n",
    "        super(CNN_LSTM, self).__init__()\n",
    "        \n",
    "        self.num_classes = num_classes\n",
    "        self.hidden_size =hidden_size\n",
    "        self.dropout = 0.5\n",
    "        # CNN layers\n",
    "        self.conv1 = nn.Conv1d(19, 32, kernel_size=3, stride=1, padding=1)\n",
    "        self.conv2 = nn.Conv1d(32, 64, kernel_size=3, stride=1, padding=1)\n",
    "        self.conv3 = nn.Conv1d(64, 128, kernel_size=3, stride=1, padding=1)\n",
    "        self.pool = nn.MaxPool1d(2)\n",
    "        \n",
    "        # LSTM layers\n",
    "        self.lstm = nn.LSTM(3000, self.hidden_size, num_layers=1, batch_first=True)\n",
    "        \n",
    "        # Fully connected layer\n",
    "        self.fc = nn.Sequential(nn.Linear(self.hidden_size * 128, 128), \n",
    "                                 nn.ReLU(),\n",
    "                                 nn.Linear(128, 16),\n",
    "                                 nn.Dropout(self.dropout),\n",
    "                                 nn.ReLU(),\n",
    "                                 nn.Linear(16, self.num_classes))\n",
    "        \n",
    "\n",
    "        self.results = nn.Softmax(dim=1)\n",
    "        \n",
    "        \n",
    "    def forward(self, x):\n",
    "        x = x.reshape(-1, 19, 3000)\n",
    "        self.N = x.shape[0]\n",
    "        # Apply CNN\n",
    "        x = F.relu(self.conv1(x))\n",
    "        #x = self.pool(x)\n",
    "        \n",
    "        \n",
    "        x = F.relu(self.conv2(x))\n",
    "        #x = self.pool(x)\n",
    "        \n",
    "        x = F.relu(self.conv3(x))\n",
    "        # Reshape for LSTM\n",
    "        \n",
    "        #x = x.transpose(1, 2)\n",
    "        xx = x\n",
    "        # Apply LSTM\n",
    "        h_n, (__, _) = self.lstm(x)\n",
    "\n",
    "        x = h_n[:, :, :]\n",
    "        \n",
    "        # Apply fully connected layer\n",
    "        x = x.reshape(self.N, -1)\n",
    "        x = self.fc(x)\n",
    "        x = self.results(x)\n",
    "        \"\"\"\n",
    "        \"\"\"\n",
    "        return x\n",
    "    \n",
    "model = CNN_LSTM(num_classes=4, hidden_size=100).cuda()\n",
    "model(torch.rand(7, 19, 3000).cuda()).shape"
   ]
  },
  {
   "cell_type": "code",
   "execution_count": 8,
   "metadata": {},
   "outputs": [],
   "source": [
    "MNE_Data = EEGDataset(root_dir=r\"C:\\Users\\admin\\Desktop\\MNE Data\")\n",
    "labels = MNE_Data.labels\n",
    "#MNE_Data = EEGDataset(root_dir=r\"D:\\TEST MNE\")\n",
    "test_path = r\"C:\\Users\\admin\\Desktop\\TEST\\amirifateme.fif\"\n",
    "test_class = 0"
   ]
  },
  {
   "cell_type": "code",
   "execution_count": 9,
   "metadata": {},
   "outputs": [],
   "source": [
    "train_dataloader = DataLoader(MNE_Data, batch_size=1, shuffle=True)"
   ]
  },
  {
   "cell_type": "code",
   "execution_count": 10,
   "metadata": {},
   "outputs": [
    {
     "name": "stdout",
     "output_type": "stream",
     "text": [
      "Number of parameters: 5089660\n"
     ]
    }
   ],
   "source": [
    "model = net(T = 3000, C = 19, input_size = 3000, hidden_size = 100, num_layers=1, spatial_num= 300, dropout=0.5, pool=1).to(device)\n",
    "#model = CNN_LSTM(num_classes=4, hidden_size=100).cuda()\n",
    "num_params = sum(p.numel() for p in model.parameters())\n",
    "print(\"Number of parameters:\", num_params)"
   ]
  },
  {
   "cell_type": "code",
   "execution_count": 11,
   "metadata": {},
   "outputs": [],
   "source": [
    "criterion = nn.CrossEntropyLoss(weight = torch.Tensor([6.3125, 2.8333, 2.5417, 6.6667]).cuda())\n",
    "\n",
    "optimizer = optim.Adam(model.parameters(), lr=0.001)\n",
    "#optimizer = optim.Adagrad(model.parameters(), lr=0.001)\n",
    "\n",
    "\n",
    "scheduler = lr_scheduler.ExponentialLR(optimizer, gamma=0.1)\n",
    "epochs = 30\n",
    "kf = StratifiedKFold(n_splits=5)"
   ]
  },
  {
   "cell_type": "code",
   "execution_count": 12,
   "metadata": {},
   "outputs": [
    {
     "name": "stderr",
     "output_type": "stream",
     "text": [
      "  3%|▎         | 1/30 [00:39<18:58, 39.26s/it]"
     ]
    },
    {
     "name": "stdout",
     "output_type": "stream",
     "text": [
      "tensor([0.3077, 0.1509, 0.3488, 0.1926], device='cuda:0',\n",
      "       grad_fn=<SelectBackward0>)\n",
      "tensor([1., 0., 0., 0.], device='cuda:0')\n",
      "Epoch: 0, Validation Loss: 5.6198, Validation Accuracy: 28.57%\n"
     ]
    },
    {
     "name": "stderr",
     "output_type": "stream",
     "text": [
      "  7%|▋         | 2/30 [01:20<18:45, 40.18s/it]"
     ]
    },
    {
     "name": "stdout",
     "output_type": "stream",
     "text": [
      "tensor([0.2793, 0.2346, 0.3079, 0.1782], device='cuda:0',\n",
      "       grad_fn=<SelectBackward0>)\n",
      "tensor([1., 0., 0., 0.], device='cuda:0')\n",
      "Epoch: 1, Validation Loss: 5.6157, Validation Accuracy: 28.55%\n"
     ]
    },
    {
     "name": "stderr",
     "output_type": "stream",
     "text": [
      " 10%|█         | 3/30 [01:52<16:27, 36.59s/it]"
     ]
    },
    {
     "name": "stdout",
     "output_type": "stream",
     "text": [
      "tensor([0.2776, 0.1820, 0.2826, 0.2578], device='cuda:0',\n",
      "       grad_fn=<SelectBackward0>)\n",
      "tensor([1., 0., 0., 0.], device='cuda:0')\n",
      "Epoch: 2, Validation Loss: 5.6089, Validation Accuracy: 28.43%\n"
     ]
    },
    {
     "name": "stderr",
     "output_type": "stream",
     "text": [
      " 13%|█▎        | 4/30 [02:45<18:40, 43.11s/it]"
     ]
    },
    {
     "name": "stdout",
     "output_type": "stream",
     "text": [
      "tensor([0.3341, 0.2524, 0.2287, 0.1848], device='cuda:0',\n",
      "       grad_fn=<SelectBackward0>)\n",
      "tensor([0., 1., 0., 0.], device='cuda:0')\n",
      "Epoch: 3, Validation Loss: 5.5898, Validation Accuracy: 23.09%\n"
     ]
    },
    {
     "name": "stderr",
     "output_type": "stream",
     "text": [
      " 17%|█▋        | 5/30 [03:40<19:47, 47.49s/it]"
     ]
    },
    {
     "name": "stdout",
     "output_type": "stream",
     "text": [
      "tensor([0.2783, 0.2025, 0.2688, 0.2505], device='cuda:0',\n",
      "       grad_fn=<SelectBackward0>)\n",
      "tensor([0., 1., 0., 0.], device='cuda:0')\n",
      "Epoch: 4, Validation Loss: 5.5837, Validation Accuracy: 23.67%\n"
     ]
    },
    {
     "name": "stderr",
     "output_type": "stream",
     "text": [
      " 20%|██        | 6/30 [04:16<17:23, 43.47s/it]"
     ]
    },
    {
     "name": "stdout",
     "output_type": "stream",
     "text": [
      "tensor([0.8762, 0.0690, 0.0301, 0.0247], device='cuda:0',\n",
      "       grad_fn=<SelectBackward0>)\n",
      "tensor([1., 0., 0., 0.], device='cuda:0')\n",
      "Epoch: 5, Validation Loss: 5.5027, Validation Accuracy: 26.49%\n"
     ]
    },
    {
     "name": "stderr",
     "output_type": "stream",
     "text": [
      " 23%|██▎       | 7/30 [04:49<15:21, 40.05s/it]"
     ]
    },
    {
     "name": "stdout",
     "output_type": "stream",
     "text": [
      "tensor([0.3579, 0.0465, 0.1504, 0.4453], device='cuda:0',\n",
      "       grad_fn=<SelectBackward0>)\n",
      "tensor([0., 0., 0., 1.], device='cuda:0')\n",
      "Epoch: 6, Validation Loss: 5.4717, Validation Accuracy: 22.24%\n"
     ]
    },
    {
     "name": "stderr",
     "output_type": "stream",
     "text": [
      " 27%|██▋       | 8/30 [05:22<13:54, 37.92s/it]"
     ]
    },
    {
     "name": "stdout",
     "output_type": "stream",
     "text": [
      "tensor([1.0588e-01, 3.4725e-04, 5.4065e-03, 8.8837e-01], device='cuda:0',\n",
      "       grad_fn=<SelectBackward0>)\n",
      "tensor([1., 0., 0., 0.], device='cuda:0')\n",
      "Epoch: 7, Validation Loss: 5.6766, Validation Accuracy: 20.44%\n"
     ]
    },
    {
     "name": "stderr",
     "output_type": "stream",
     "text": [
      " 30%|███       | 9/30 [05:56<12:46, 36.48s/it]"
     ]
    },
    {
     "name": "stdout",
     "output_type": "stream",
     "text": [
      "tensor([0.2041, 0.7451, 0.0206, 0.0302], device='cuda:0',\n",
      "       grad_fn=<SelectBackward0>)\n",
      "tensor([0., 1., 0., 0.], device='cuda:0')\n",
      "Epoch: 8, Validation Loss: 5.5369, Validation Accuracy: 23.32%\n"
     ]
    },
    {
     "name": "stderr",
     "output_type": "stream",
     "text": [
      " 33%|███▎      | 10/30 [06:29<11:49, 35.47s/it]"
     ]
    },
    {
     "name": "stdout",
     "output_type": "stream",
     "text": [
      "tensor([0.2903, 0.6834, 0.0209, 0.0054], device='cuda:0',\n",
      "       grad_fn=<SelectBackward0>)\n",
      "tensor([0., 1., 0., 0.], device='cuda:0')\n",
      "Epoch: 9, Validation Loss: 5.6404, Validation Accuracy: 26.41%\n"
     ]
    },
    {
     "name": "stderr",
     "output_type": "stream",
     "text": [
      " 37%|███▋      | 11/30 [07:02<10:59, 34.72s/it]"
     ]
    },
    {
     "name": "stdout",
     "output_type": "stream",
     "text": [
      "tensor([7.1080e-05, 9.9962e-01, 2.9843e-04, 1.3631e-05], device='cuda:0',\n",
      "       grad_fn=<SelectBackward0>)\n",
      "tensor([0., 1., 0., 0.], device='cuda:0')\n",
      "Epoch: 10, Validation Loss: 5.7648, Validation Accuracy: 27.46%\n"
     ]
    },
    {
     "name": "stderr",
     "output_type": "stream",
     "text": [
      " 40%|████      | 12/30 [07:35<10:14, 34.16s/it]"
     ]
    },
    {
     "name": "stdout",
     "output_type": "stream",
     "text": [
      "tensor([1.0000e+00, 3.9484e-10, 1.1557e-10, 9.7392e-12], device='cuda:0',\n",
      "       grad_fn=<SelectBackward0>)\n",
      "tensor([1., 0., 0., 0.], device='cuda:0')\n",
      "Epoch: 11, Validation Loss: 5.6852, Validation Accuracy: 25.61%\n"
     ]
    },
    {
     "name": "stderr",
     "output_type": "stream",
     "text": [
      " 43%|████▎     | 13/30 [08:08<09:38, 34.02s/it]"
     ]
    },
    {
     "name": "stdout",
     "output_type": "stream",
     "text": [
      "tensor([0.0025, 0.0049, 0.0264, 0.9661], device='cuda:0',\n",
      "       grad_fn=<SelectBackward0>)\n",
      "tensor([0., 0., 1., 0.], device='cuda:0')\n",
      "Epoch: 12, Validation Loss: 5.7745, Validation Accuracy: 26.43%\n"
     ]
    },
    {
     "name": "stderr",
     "output_type": "stream",
     "text": [
      " 47%|████▋     | 14/30 [08:42<08:59, 33.74s/it]"
     ]
    },
    {
     "name": "stdout",
     "output_type": "stream",
     "text": [
      "tensor([0.0268, 0.0054, 0.0149, 0.9530], device='cuda:0',\n",
      "       grad_fn=<SelectBackward0>)\n",
      "tensor([0., 0., 0., 1.], device='cuda:0')\n",
      "Epoch: 13, Validation Loss: 5.8168, Validation Accuracy: 28.13%\n"
     ]
    },
    {
     "name": "stderr",
     "output_type": "stream",
     "text": [
      " 50%|█████     | 15/30 [09:15<08:26, 33.78s/it]"
     ]
    },
    {
     "name": "stdout",
     "output_type": "stream",
     "text": [
      "tensor([0.0023, 0.2612, 0.6817, 0.0548], device='cuda:0',\n",
      "       grad_fn=<SelectBackward0>)\n",
      "tensor([0., 0., 1., 0.], device='cuda:0')\n",
      "Epoch: 14, Validation Loss: 5.8753, Validation Accuracy: 25.85%\n"
     ]
    },
    {
     "name": "stderr",
     "output_type": "stream",
     "text": [
      " 53%|█████▎    | 16/30 [09:49<07:51, 33.67s/it]"
     ]
    },
    {
     "name": "stdout",
     "output_type": "stream",
     "text": [
      "tensor([1.6004e-05, 6.8451e-03, 6.2828e-02, 9.3031e-01], device='cuda:0',\n",
      "       grad_fn=<SelectBackward0>)\n",
      "tensor([0., 1., 0., 0.], device='cuda:0')\n",
      "Epoch: 15, Validation Loss: 5.7875, Validation Accuracy: 24.85%\n"
     ]
    },
    {
     "name": "stderr",
     "output_type": "stream",
     "text": [
      " 57%|█████▋    | 17/30 [10:22<07:15, 33.49s/it]"
     ]
    },
    {
     "name": "stdout",
     "output_type": "stream",
     "text": [
      "tensor([1.5258e-04, 9.8198e-01, 1.7755e-02, 1.1452e-04], device='cuda:0',\n",
      "       grad_fn=<SelectBackward0>)\n",
      "tensor([0., 0., 1., 0.], device='cuda:0')\n",
      "Epoch: 16, Validation Loss: 5.8131, Validation Accuracy: 26.75%\n"
     ]
    },
    {
     "name": "stderr",
     "output_type": "stream",
     "text": [
      " 60%|██████    | 18/30 [10:55<06:41, 33.46s/it]"
     ]
    },
    {
     "name": "stdout",
     "output_type": "stream",
     "text": [
      "tensor([2.1849e-08, 1.1097e-13, 2.0697e-11, 1.0000e+00], device='cuda:0',\n",
      "       grad_fn=<SelectBackward0>)\n",
      "tensor([0., 0., 0., 1.], device='cuda:0')\n",
      "Epoch: 17, Validation Loss: 5.8611, Validation Accuracy: 25.54%\n"
     ]
    },
    {
     "name": "stderr",
     "output_type": "stream",
     "text": [
      " 63%|██████▎   | 19/30 [11:29<06:08, 33.53s/it]"
     ]
    },
    {
     "name": "stdout",
     "output_type": "stream",
     "text": [
      "tensor([1.0000e+00, 7.4906e-11, 1.5565e-11, 2.3797e-12], device='cuda:0',\n",
      "       grad_fn=<SelectBackward0>)\n",
      "tensor([1., 0., 0., 0.], device='cuda:0')\n",
      "Epoch: 18, Validation Loss: 5.8406, Validation Accuracy: 25.45%\n"
     ]
    },
    {
     "name": "stderr",
     "output_type": "stream",
     "text": [
      " 67%|██████▋   | 20/30 [12:03<05:36, 33.63s/it]"
     ]
    },
    {
     "name": "stdout",
     "output_type": "stream",
     "text": [
      "tensor([1.5069e-04, 9.9884e-01, 9.9836e-04, 1.3530e-05], device='cuda:0',\n",
      "       grad_fn=<SelectBackward0>)\n",
      "tensor([0., 0., 1., 0.], device='cuda:0')\n",
      "Epoch: 19, Validation Loss: 5.8741, Validation Accuracy: 26.84%\n"
     ]
    },
    {
     "name": "stderr",
     "output_type": "stream",
     "text": [
      " 70%|███████   | 21/30 [12:37<05:03, 33.67s/it]"
     ]
    },
    {
     "name": "stdout",
     "output_type": "stream",
     "text": [
      "tensor([1.0000e+00, 1.7242e-12, 1.5203e-15, 5.4060e-19], device='cuda:0',\n",
      "       grad_fn=<SelectBackward0>)\n",
      "tensor([1., 0., 0., 0.], device='cuda:0')\n",
      "Epoch: 20, Validation Loss: 5.8935, Validation Accuracy: 25.64%\n"
     ]
    },
    {
     "name": "stderr",
     "output_type": "stream",
     "text": [
      " 73%|███████▎  | 22/30 [13:11<04:30, 33.80s/it]"
     ]
    },
    {
     "name": "stdout",
     "output_type": "stream",
     "text": [
      "tensor([1.3806e-02, 1.8401e-03, 2.7157e-04, 9.8408e-01], device='cuda:0',\n",
      "       grad_fn=<SelectBackward0>)\n",
      "tensor([0., 0., 1., 0.], device='cuda:0')\n",
      "Epoch: 21, Validation Loss: 5.9140, Validation Accuracy: 26.56%\n"
     ]
    },
    {
     "name": "stderr",
     "output_type": "stream",
     "text": [
      " 77%|███████▋  | 23/30 [13:44<03:56, 33.74s/it]"
     ]
    },
    {
     "name": "stdout",
     "output_type": "stream",
     "text": [
      "tensor([3.4968e-08, 9.9583e-01, 4.1699e-03, 1.1381e-07], device='cuda:0',\n",
      "       grad_fn=<SelectBackward0>)\n",
      "tensor([0., 1., 0., 0.], device='cuda:0')\n",
      "Epoch: 22, Validation Loss: 5.8358, Validation Accuracy: 26.60%\n"
     ]
    },
    {
     "name": "stderr",
     "output_type": "stream",
     "text": [
      " 80%|████████  | 24/30 [14:18<03:22, 33.68s/it]"
     ]
    },
    {
     "name": "stdout",
     "output_type": "stream",
     "text": [
      "tensor([9.9980e-01, 1.9871e-04, 2.3147e-09, 1.4281e-12], device='cuda:0',\n",
      "       grad_fn=<SelectBackward0>)\n",
      "tensor([1., 0., 0., 0.], device='cuda:0')\n",
      "Epoch: 23, Validation Loss: 5.9133, Validation Accuracy: 27.24%\n"
     ]
    },
    {
     "name": "stderr",
     "output_type": "stream",
     "text": [
      " 83%|████████▎ | 25/30 [14:52<02:48, 33.80s/it]"
     ]
    },
    {
     "name": "stdout",
     "output_type": "stream",
     "text": [
      "tensor([0.0292, 0.9180, 0.0517, 0.0012], device='cuda:0',\n",
      "       grad_fn=<SelectBackward0>)\n",
      "tensor([0., 1., 0., 0.], device='cuda:0')\n",
      "Epoch: 24, Validation Loss: 5.9037, Validation Accuracy: 26.53%\n"
     ]
    },
    {
     "name": "stderr",
     "output_type": "stream",
     "text": [
      " 87%|████████▋ | 26/30 [15:26<02:15, 33.83s/it]"
     ]
    },
    {
     "name": "stdout",
     "output_type": "stream",
     "text": [
      "tensor([1.2823e-18, 1.0000e+00, 2.9360e-16, 5.9426e-25], device='cuda:0',\n",
      "       grad_fn=<SelectBackward0>)\n",
      "tensor([0., 1., 0., 0.], device='cuda:0')\n",
      "Epoch: 25, Validation Loss: 5.8755, Validation Accuracy: 26.91%\n"
     ]
    },
    {
     "name": "stderr",
     "output_type": "stream",
     "text": [
      " 90%|█████████ | 27/30 [15:59<01:41, 33.71s/it]"
     ]
    },
    {
     "name": "stdout",
     "output_type": "stream",
     "text": [
      "tensor([1.0000e+00, 5.4053e-13, 1.1176e-11, 2.3137e-12], device='cuda:0',\n",
      "       grad_fn=<SelectBackward0>)\n",
      "tensor([1., 0., 0., 0.], device='cuda:0')\n",
      "Epoch: 26, Validation Loss: 5.7983, Validation Accuracy: 27.10%\n"
     ]
    },
    {
     "name": "stderr",
     "output_type": "stream",
     "text": [
      " 93%|█████████▎| 28/30 [16:33<01:07, 33.76s/it]"
     ]
    },
    {
     "name": "stdout",
     "output_type": "stream",
     "text": [
      "tensor([5.2888e-05, 9.9991e-01, 3.3657e-05, 8.9696e-08], device='cuda:0',\n",
      "       grad_fn=<SelectBackward0>)\n",
      "tensor([0., 1., 0., 0.], device='cuda:0')\n",
      "Epoch: 27, Validation Loss: 5.8704, Validation Accuracy: 28.13%\n"
     ]
    },
    {
     "name": "stderr",
     "output_type": "stream",
     "text": [
      " 97%|█████████▋| 29/30 [17:07<00:33, 33.73s/it]"
     ]
    },
    {
     "name": "stdout",
     "output_type": "stream",
     "text": [
      "tensor([1.1302e-06, 6.2402e-04, 9.9623e-01, 3.1477e-03], device='cuda:0',\n",
      "       grad_fn=<SelectBackward0>)\n",
      "tensor([0., 0., 1., 0.], device='cuda:0')\n",
      "Epoch: 28, Validation Loss: 5.8623, Validation Accuracy: 26.21%\n"
     ]
    },
    {
     "name": "stderr",
     "output_type": "stream",
     "text": [
      "100%|██████████| 30/30 [17:41<00:00, 35.37s/it]\n"
     ]
    },
    {
     "name": "stdout",
     "output_type": "stream",
     "text": [
      "tensor([3.2744e-19, 3.4923e-11, 1.0000e+00, 3.8717e-09], device='cuda:0',\n",
      "       grad_fn=<SelectBackward0>)\n",
      "tensor([0., 0., 1., 0.], device='cuda:0')\n",
      "Epoch: 29, Validation Loss: 5.8842, Validation Accuracy: 27.80%\n"
     ]
    },
    {
     "name": "stderr",
     "output_type": "stream",
     "text": [
      "  3%|▎         | 1/30 [00:33<16:22, 33.88s/it]"
     ]
    },
    {
     "name": "stdout",
     "output_type": "stream",
     "text": [
      "tensor([3.2374e-06, 5.0503e-04, 9.9902e-01, 4.7364e-04], device='cuda:0',\n",
      "       grad_fn=<SelectBackward0>)\n",
      "tensor([0., 0., 1., 0.], device='cuda:0')\n",
      "Epoch: 0, Validation Loss: 3.8462, Validation Accuracy: 80.87%\n"
     ]
    },
    {
     "name": "stderr",
     "output_type": "stream",
     "text": [
      "  7%|▋         | 2/30 [01:07<15:44, 33.74s/it]"
     ]
    },
    {
     "name": "stdout",
     "output_type": "stream",
     "text": [
      "tensor([8.0561e-08, 3.5040e-04, 9.9947e-01, 1.8358e-04], device='cuda:0',\n",
      "       grad_fn=<SelectBackward0>)\n",
      "tensor([0., 1., 0., 0.], device='cuda:0')\n",
      "Epoch: 1, Validation Loss: 3.9264, Validation Accuracy: 78.75%\n"
     ]
    },
    {
     "name": "stderr",
     "output_type": "stream",
     "text": [
      " 10%|█         | 3/30 [01:41<15:16, 33.94s/it]"
     ]
    },
    {
     "name": "stdout",
     "output_type": "stream",
     "text": [
      "tensor([0.0012, 0.9649, 0.0325, 0.0014], device='cuda:0',\n",
      "       grad_fn=<SelectBackward0>)\n",
      "tensor([0., 1., 0., 0.], device='cuda:0')\n",
      "Epoch: 2, Validation Loss: 4.0193, Validation Accuracy: 77.73%\n"
     ]
    },
    {
     "name": "stderr",
     "output_type": "stream",
     "text": [
      " 13%|█▎        | 4/30 [02:15<14:40, 33.87s/it]"
     ]
    },
    {
     "name": "stdout",
     "output_type": "stream",
     "text": [
      "tensor([8.2039e-05, 2.0845e-03, 8.9881e-01, 9.9023e-02], device='cuda:0',\n",
      "       grad_fn=<SelectBackward0>)\n",
      "tensor([0., 1., 0., 0.], device='cuda:0')\n",
      "Epoch: 3, Validation Loss: 4.0554, Validation Accuracy: 75.54%\n"
     ]
    },
    {
     "name": "stderr",
     "output_type": "stream",
     "text": [
      " 17%|█▋        | 5/30 [02:49<14:08, 33.94s/it]"
     ]
    },
    {
     "name": "stdout",
     "output_type": "stream",
     "text": [
      "tensor([4.2676e-10, 1.0000e+00, 7.1311e-11, 5.1634e-16], device='cuda:0',\n",
      "       grad_fn=<SelectBackward0>)\n",
      "tensor([0., 1., 0., 0.], device='cuda:0')\n",
      "Epoch: 4, Validation Loss: 4.0818, Validation Accuracy: 75.73%\n"
     ]
    },
    {
     "name": "stderr",
     "output_type": "stream",
     "text": [
      " 20%|██        | 6/30 [03:23<13:32, 33.84s/it]"
     ]
    },
    {
     "name": "stdout",
     "output_type": "stream",
     "text": [
      "tensor([9.9990e-01, 2.3903e-07, 3.5165e-06, 1.0057e-04], device='cuda:0',\n",
      "       grad_fn=<SelectBackward0>)\n",
      "tensor([0., 1., 0., 0.], device='cuda:0')\n",
      "Epoch: 5, Validation Loss: 4.1345, Validation Accuracy: 75.35%\n"
     ]
    },
    {
     "name": "stderr",
     "output_type": "stream",
     "text": [
      " 23%|██▎       | 7/30 [03:56<12:56, 33.75s/it]"
     ]
    },
    {
     "name": "stdout",
     "output_type": "stream",
     "text": [
      "tensor([1.4107e-08, 2.7006e-16, 1.0485e-13, 1.0000e+00], device='cuda:0',\n",
      "       grad_fn=<SelectBackward0>)\n",
      "tensor([0., 0., 0., 1.], device='cuda:0')\n",
      "Epoch: 6, Validation Loss: 4.1825, Validation Accuracy: 73.86%\n"
     ]
    },
    {
     "name": "stderr",
     "output_type": "stream",
     "text": [
      " 27%|██▋       | 8/30 [04:30<12:23, 33.81s/it]"
     ]
    },
    {
     "name": "stdout",
     "output_type": "stream",
     "text": [
      "tensor([3.7516e-04, 3.2298e-08, 1.2608e-06, 9.9962e-01], device='cuda:0',\n",
      "       grad_fn=<SelectBackward0>)\n",
      "tensor([0., 0., 0., 1.], device='cuda:0')\n",
      "Epoch: 7, Validation Loss: 4.2464, Validation Accuracy: 70.82%\n"
     ]
    },
    {
     "name": "stderr",
     "output_type": "stream",
     "text": [
      " 30%|███       | 9/30 [05:04<11:48, 33.75s/it]"
     ]
    },
    {
     "name": "stdout",
     "output_type": "stream",
     "text": [
      "tensor([0.4034, 0.5407, 0.0263, 0.0296], device='cuda:0',\n",
      "       grad_fn=<SelectBackward0>)\n",
      "tensor([0., 0., 1., 0.], device='cuda:0')\n",
      "Epoch: 8, Validation Loss: 4.2811, Validation Accuracy: 71.71%\n"
     ]
    },
    {
     "name": "stderr",
     "output_type": "stream",
     "text": [
      " 33%|███▎      | 10/30 [05:37<11:13, 33.67s/it]"
     ]
    },
    {
     "name": "stdout",
     "output_type": "stream",
     "text": [
      "tensor([8.3524e-04, 5.9679e-05, 9.9901e-01, 9.4267e-05], device='cuda:0',\n",
      "       grad_fn=<SelectBackward0>)\n",
      "tensor([0., 0., 1., 0.], device='cuda:0')\n",
      "Epoch: 9, Validation Loss: 4.3180, Validation Accuracy: 70.31%\n"
     ]
    },
    {
     "name": "stderr",
     "output_type": "stream",
     "text": [
      " 37%|███▋      | 11/30 [06:11<10:39, 33.66s/it]"
     ]
    },
    {
     "name": "stdout",
     "output_type": "stream",
     "text": [
      "tensor([2.8018e-15, 1.0000e+00, 2.8704e-16, 4.0750e-24], device='cuda:0',\n",
      "       grad_fn=<SelectBackward0>)\n",
      "tensor([0., 1., 0., 0.], device='cuda:0')\n",
      "Epoch: 10, Validation Loss: 4.3749, Validation Accuracy: 69.55%\n"
     ]
    },
    {
     "name": "stderr",
     "output_type": "stream",
     "text": [
      " 40%|████      | 12/30 [06:45<10:06, 33.71s/it]"
     ]
    },
    {
     "name": "stdout",
     "output_type": "stream",
     "text": [
      "tensor([1.7433e-05, 9.9998e-01, 9.9882e-08, 4.4022e-11], device='cuda:0',\n",
      "       grad_fn=<SelectBackward0>)\n",
      "tensor([0., 1., 0., 0.], device='cuda:0')\n",
      "Epoch: 11, Validation Loss: 4.4295, Validation Accuracy: 68.90%\n"
     ]
    },
    {
     "name": "stderr",
     "output_type": "stream",
     "text": [
      " 43%|████▎     | 13/30 [07:19<09:33, 33.73s/it]"
     ]
    },
    {
     "name": "stdout",
     "output_type": "stream",
     "text": [
      "tensor([1.0000e+00, 2.5444e-16, 9.9482e-16, 1.8683e-20], device='cuda:0',\n",
      "       grad_fn=<SelectBackward0>)\n",
      "tensor([1., 0., 0., 0.], device='cuda:0')\n",
      "Epoch: 12, Validation Loss: 4.4332, Validation Accuracy: 68.07%\n"
     ]
    },
    {
     "name": "stderr",
     "output_type": "stream",
     "text": [
      " 47%|████▋     | 14/30 [07:52<08:59, 33.74s/it]"
     ]
    },
    {
     "name": "stdout",
     "output_type": "stream",
     "text": [
      "tensor([1.0070e-01, 8.9579e-01, 3.4375e-03, 7.2369e-05], device='cuda:0',\n",
      "       grad_fn=<SelectBackward0>)\n",
      "tensor([1., 0., 0., 0.], device='cuda:0')\n",
      "Epoch: 13, Validation Loss: 4.5485, Validation Accuracy: 64.88%\n"
     ]
    },
    {
     "name": "stderr",
     "output_type": "stream",
     "text": [
      " 50%|█████     | 15/30 [08:26<08:25, 33.67s/it]"
     ]
    },
    {
     "name": "stdout",
     "output_type": "stream",
     "text": [
      "tensor([1.6182e-13, 1.0000e+00, 7.7654e-14, 5.9860e-21], device='cuda:0',\n",
      "       grad_fn=<SelectBackward0>)\n",
      "tensor([0., 1., 0., 0.], device='cuda:0')\n",
      "Epoch: 14, Validation Loss: 4.5754, Validation Accuracy: 66.07%\n"
     ]
    },
    {
     "name": "stderr",
     "output_type": "stream",
     "text": [
      " 53%|█████▎    | 16/30 [08:59<07:50, 33.63s/it]"
     ]
    },
    {
     "name": "stdout",
     "output_type": "stream",
     "text": [
      "tensor([3.0190e-08, 1.0000e+00, 5.6262e-08, 2.2599e-11], device='cuda:0',\n",
      "       grad_fn=<SelectBackward0>)\n",
      "tensor([0., 1., 0., 0.], device='cuda:0')\n",
      "Epoch: 15, Validation Loss: 4.5896, Validation Accuracy: 64.29%\n"
     ]
    },
    {
     "name": "stderr",
     "output_type": "stream",
     "text": [
      " 57%|█████▋    | 17/30 [09:33<07:17, 33.63s/it]"
     ]
    },
    {
     "name": "stdout",
     "output_type": "stream",
     "text": [
      "tensor([5.8981e-08, 1.0000e+00, 2.5651e-07, 2.6883e-11], device='cuda:0',\n",
      "       grad_fn=<SelectBackward0>)\n",
      "tensor([0., 1., 0., 0.], device='cuda:0')\n",
      "Epoch: 16, Validation Loss: 4.6602, Validation Accuracy: 64.14%\n"
     ]
    },
    {
     "name": "stderr",
     "output_type": "stream",
     "text": [
      " 60%|██████    | 18/30 [10:08<06:48, 34.05s/it]"
     ]
    },
    {
     "name": "stdout",
     "output_type": "stream",
     "text": [
      "tensor([1.0000e+00, 1.1145e-37, 2.4904e-31, 1.0634e-38], device='cuda:0',\n",
      "       grad_fn=<SelectBackward0>)\n",
      "tensor([1., 0., 0., 0.], device='cuda:0')\n",
      "Epoch: 17, Validation Loss: 4.5938, Validation Accuracy: 63.63%\n"
     ]
    },
    {
     "name": "stderr",
     "output_type": "stream",
     "text": [
      " 63%|██████▎   | 19/30 [10:44<06:21, 34.67s/it]"
     ]
    },
    {
     "name": "stdout",
     "output_type": "stream",
     "text": [
      "tensor([1.0000e+00, 1.8153e-35, 1.1080e-31, 2.8080e-38], device='cuda:0',\n",
      "       grad_fn=<SelectBackward0>)\n",
      "tensor([1., 0., 0., 0.], device='cuda:0')\n",
      "Epoch: 18, Validation Loss: 4.6167, Validation Accuracy: 62.68%\n"
     ]
    }
   ],
   "source": [
    "for train_indices, val_indices in kf.split(MNE_Data, labels):\n",
    "    train_dataset = torch.utils.data.Subset(MNE_Data, train_indices)\n",
    "    val_dataset = torch.utils.data.Subset(MNE_Data, val_indices)\n",
    "\n",
    "    train_dataloader = torch.utils.data.DataLoader(train_dataset, batch_size=1, shuffle=True)\n",
    "    val_dataloader = torch.utils.data.DataLoader(val_dataset, batch_size=1, shuffle=False)\n",
    "\n",
    "    test_log = []\n",
    "    log = []\n",
    "\n",
    "    for epoch in trange(epochs):\n",
    "\n",
    "        model.train()   \n",
    "        for index, data in enumerate(train_dataloader):\n",
    "                \n",
    "                x, y = data\n",
    "                y = y.to(torch.float64)\n",
    "                x = x.reshape(-1, 1, 19, 3000).float()\n",
    "                x = x[torch.randperm(x.shape[0])]\n",
    "                y = F.one_hot(torch.tensor(torch.tensor([y.item()]).to(torch.int64)), num_classes=4).expand(x.shape[0], -1).float()\n",
    "                \n",
    "                train_count = x.shape[0]\n",
    "                x, y = x.to(device), y.to(device)\n",
    "                y_pred = model(x)\n",
    "                loss = criterion(y_pred, y)\n",
    "                \n",
    "                optimizer.zero_grad()\n",
    "                loss.backward()\n",
    "                optimizer.step()\n",
    "                #scheduler.step()\n",
    "                torch.cuda.empty_cache()\n",
    "\n",
    "\n",
    "        model.eval()\n",
    "        val_loss = 0\n",
    "        val_log = []\n",
    "        with torch.no_grad():\n",
    "            for batch_idx, (data, target) in enumerate(val_dataloader):\n",
    "                        data = data.reshape(-1, 1, 19, 3000).float().cuda()\n",
    "                        target = F.one_hot(torch.tensor(torch.tensor([target.item()]).to(torch.int64)), num_classes=4).expand(data.shape[0], -1).float().cuda()\n",
    "                        \n",
    "\n",
    "                        output = model(data)\n",
    "\n",
    "                        \n",
    "\n",
    "                        loss = criterion(output, target)\n",
    "                        \n",
    "                        val_loss += loss.item()\n",
    "\n",
    "                        val_log.append(Accuracy(output, target, target.shape[0]))\n",
    "\n",
    "        print(model(x.cuda())[-1])     \n",
    "        print(y[-1])           \n",
    "        print('Epoch: {}, Validation Loss: {:.4f}, Validation Accuracy: {:.2f}%'.format(\n",
    "                    epoch, val_loss / len(val_dataloader), statistics.mean(val_log)))\n",
    "\n",
    "        \n",
    "\n",
    "\n",
    "    \n"
   ]
  },
  {
   "cell_type": "code",
   "execution_count": null,
   "metadata": {},
   "outputs": [
    {
     "name": "stdout",
     "output_type": "stream",
     "text": [
      "Test Accuracy: 100.0\n"
     ]
    },
    {
     "data": {
      "text/plain": [
       "array([627.,   0.,   0.,   0.])"
      ]
     },
     "execution_count": 21,
     "metadata": {},
     "output_type": "execute_result"
    }
   ],
   "source": [
    "test(test_path=r\"C:\\Users\\admin\\Desktop\\TEST\\FOCAL\\amirifateme.fif\", model=model, test_class= 0)"
   ]
  },
  {
   "cell_type": "code",
   "execution_count": null,
   "metadata": {},
   "outputs": [
    {
     "data": {
      "text/plain": [
       "<All keys matched successfully>"
      ]
     },
     "execution_count": 32,
     "metadata": {},
     "output_type": "execute_result"
    }
   ],
   "source": [
    "file_path = 'D:\\model weights\\model_weights.pth'\n",
    "torch.save(model.state_dict(), file_path)\n",
    "model.load_state_dict(torch.load(file_path))"
   ]
  }
 ],
 "metadata": {
  "kernelspec": {
   "display_name": "base",
   "language": "python",
   "name": "python3"
  },
  "language_info": {
   "codemirror_mode": {
    "name": "ipython",
    "version": 3
   },
   "file_extension": ".py",
   "mimetype": "text/x-python",
   "name": "python",
   "nbconvert_exporter": "python",
   "pygments_lexer": "ipython3",
   "version": "3.9.13"
  }
 },
 "nbformat": 4,
 "nbformat_minor": 2
}
