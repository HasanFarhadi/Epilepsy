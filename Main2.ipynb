{
 "cells": [
  {
   "cell_type": "code",
   "execution_count": 1,
   "metadata": {},
   "outputs": [],
   "source": [
    "import os\n",
    "import warnings\n",
    "os.environ[\"KMP_DUPLICATE_LIB_OK\"]=\"TRUE\"\n",
    "#os.environ['CUDA_LAUNCH_BLOCKING'] = str(1)\n",
    "#os.environ[\"TORCH_USE_CUDA_DSA\"]= str(0)\n",
    "warnings.filterwarnings('ignore') \n"
   ]
  },
  {
   "cell_type": "code",
   "execution_count": 2,
   "metadata": {},
   "outputs": [],
   "source": [
    "import copy\n",
    "import torch\n",
    "import torch.nn as nn\n",
    "from torch.nn import functional as F\n",
    "from torch.utils.data import Dataset\n",
    "import torch.optim as optim\n",
    "from torch.autograd import Variable\n",
    "from tqdm import tqdm\n",
    "import numpy as np\n",
    "import pandas as pd\n",
    "import matplotlib.pyplot as plt\n",
    "import time\n",
    "import math\n",
    "from collections import OrderedDict\n",
    "import random\n",
    "from torchsummary import summary\n",
    "from torchvision import transforms\n",
    "from torch.utils.data import Dataset\n",
    "import sys\n",
    "import torch\n",
    "import numpy as np\n",
    "from tqdm import trange\n",
    "from torch.utils.data import DataLoader\n",
    "from sklearn.metrics import accuracy_score\n",
    "from sklearn.model_selection import train_test_split\n",
    "import mne\n",
    "from sklearn.preprocessing import StandardScaler\n",
    "import logging\n",
    "from torch.nn.utils.rnn import pack_sequence, pad_packed_sequence\n",
    "import statistics\n",
    "import torch.optim.lr_scheduler as lr_scheduler\n",
    "from scipy.special import softmax\n",
    "from sklearn.model_selection import StratifiedKFold"
   ]
  },
  {
   "cell_type": "code",
   "execution_count": 3,
   "metadata": {},
   "outputs": [
    {
     "name": "stdout",
     "output_type": "stream",
     "text": [
      "importing Jupyter notebook from Dataloader2.ipynb\n"
     ]
    }
   ],
   "source": [
    "logging.getLogger('mne').setLevel(logging.WARNING)\n",
    "device = torch.device(\"cuda\" if torch.cuda.is_available() else \"cpu\")\n",
    "import import_ipynb\n",
    "#from Model import net\n",
    "from Dataloader2 import EEGDataset"
   ]
  },
  {
   "cell_type": "code",
   "execution_count": 4,
   "metadata": {},
   "outputs": [],
   "source": [
    "def Accuracy(y_pred, y, train_count):\n",
    "    max_values, _ = torch.max(y_pred, dim=1, keepdim=True)\n",
    "    mask = y_pred == max_values\n",
    "    y_pred = mask.int()\n",
    "    correct_num = torch.sum(torch.all(torch.eq(y, y_pred), dim=1)).item()\n",
    "    accuracy = correct_num / train_count\n",
    "    return accuracy * 100"
   ]
  },
  {
   "cell_type": "code",
   "execution_count": 5,
   "metadata": {},
   "outputs": [],
   "source": [
    "def test(model, test_path, test_class, verbose=True):\n",
    "    \n",
    "\n",
    "    x_test = mne.read_epochs(test_path, preload=False).get_data(picks='eeg');\n",
    "    normals = []\n",
    "    scaler = StandardScaler()\n",
    "    for idx in range(len(x_test)):\n",
    "        normals.append(scaler.fit_transform(x_test[idx]))\n",
    "    normals = torch.tensor(normals).cuda().float()\n",
    "    out = model(normals)\n",
    "    result = torch.argmax(out, axis=1)\n",
    "    unique_elements, counts = torch.unique(result, return_counts=True)\n",
    "\n",
    "    votes = np.zeros([4])\n",
    "    for i in range(len(unique_elements)):\n",
    "        votes[unique_elements[i]] = counts[i]\n",
    "\n",
    "\n",
    "    if(verbose):\n",
    "        print(f\"Test Accuracy: {(votes[test_class] / result.shape[0]) * 100}\")\n",
    "    return votes, out\n"
   ]
  },
  {
   "cell_type": "code",
   "execution_count": 6,
   "metadata": {},
   "outputs": [],
   "source": [
    "class net(nn.Module):\n",
    "    def __init__(self, T, C, input_size, hidden_size, num_layers, spatial_num, dropout, pool):\n",
    "        super(net, self).__init__()\n",
    "        \n",
    "        self.T = T\n",
    "        self.C = C\n",
    "        self.spatial_num = spatial_num\n",
    "        self.dropout = dropout\n",
    "        self.pool = pool\n",
    "\n",
    "        self.input_size = input_size\n",
    "        self.hidden_size = hidden_size\n",
    "        self.num_layers = num_layers\n",
    "\n",
    "        self.cell_count = self.T // self.input_size\n",
    "\n",
    "        self.fcn_in = (spatial_num * self.hidden_size)\n",
    "\n",
    "        self._lstm = nn.LSTM(self.input_size, self.hidden_size, self.num_layers, batch_first=True)\n",
    "\n",
    "        self.lstm = nn.ModuleList([self._lstm for i in range(self.C)])\n",
    "\n",
    "        self.cnn_block = nn.Sequential(nn.Conv2d(1, self.spatial_num, (self.C, 1)),\n",
    "                                       nn.BatchNorm2d(self.spatial_num),\n",
    "                                       nn.ELU(),\n",
    "\n",
    "\n",
    "\n",
    "                                       nn.Dropout(self.dropout))\n",
    "\n",
    "        \n",
    "        self.fcn = nn.Sequential(nn.Linear(self.fcn_in, 128), \n",
    "                                 nn.ReLU(),\n",
    "                                 nn.Linear(128, 16),\n",
    "                                 nn.Dropout(self.dropout),\n",
    "                                 nn.ReLU(),\n",
    "                                 nn.Linear(16, 4))\n",
    "\n",
    "        #self.fcn = nn.Linear(self.fcn_in, 4)\n",
    "        self.results = nn.Softmax(dim=1)\n",
    "    def forward(self, x):\n",
    "        x = x.reshape(-1, 1, 19, 3000)\n",
    "        self.N = x.shape[0]\n",
    "        x = x.reshape(self.N, self.C, self.cell_count, self.input_size)\n",
    "        _x = None\n",
    "\n",
    "        for index, cell in enumerate(self.lstm):\n",
    "            cell_out, _ = cell(x[:, index, :, :], None)\n",
    "            last_layer_out = cell_out[:, -1, :]\n",
    "            \n",
    "            last_layer_out = last_layer_out.unsqueeze(0)\n",
    "            if _x is None:\n",
    "                _x = last_layer_out\n",
    "            else:\n",
    "                _x = torch.cat((_x, last_layer_out), dim=0)\n",
    "            \n",
    "\n",
    "        x = _x.permute(1, 0, 2).unsqueeze(1)\n",
    "\n",
    "        x = self.cnn_block(x)\n",
    "\n",
    "\n",
    "        x = x.reshape(self.N, -1)\n",
    "\n",
    "        x = self.fcn(x)\n",
    "        x = self.results(x)\n",
    "\n",
    "        return x"
   ]
  },
  {
   "cell_type": "code",
   "execution_count": 7,
   "metadata": {},
   "outputs": [
    {
     "data": {
      "text/plain": [
       "torch.Size([7, 4])"
      ]
     },
     "execution_count": 7,
     "metadata": {},
     "output_type": "execute_result"
    }
   ],
   "source": [
    "class CNN_LSTM(nn.Module):\n",
    "    def __init__(self, num_classes, hidden_size):\n",
    "        super(CNN_LSTM, self).__init__()\n",
    "        \n",
    "        self.num_classes = num_classes\n",
    "        self.hidden_size =hidden_size\n",
    "        self.dropout = 0.5\n",
    "        # CNN layers\n",
    "        self.conv1 = nn.Conv2d(19, 8, kernel_size=3, stride=1, padding=1)\n",
    "        self.conv2 = nn.Conv2d(8, 4, kernel_size=3, stride=1, padding=1)\n",
    "        self.conv3 = nn.Conv2d(4, 1, kernel_size=3, stride=1, padding=1)\n",
    "        self.pool = nn.MaxPool2d(2)\n",
    "        \n",
    "        # LSTM layers\n",
    "        self.lstm = nn.LSTM(3000, self.hidden_size, num_layers=1, batch_first=True)\n",
    "        \n",
    "        # Fully connected layer\n",
    "        self.fc = nn.Sequential(nn.Linear(self.hidden_size , 16),\n",
    "                                 nn.ReLU(),\n",
    "                                 nn.Linear(16, self.num_classes))\n",
    "        \n",
    "\n",
    "        self.results = nn.Softmax(dim=1)\n",
    "        \n",
    "        \n",
    "    def forward(self, x):\n",
    "        x = x.reshape(-1, 19, 3000)\n",
    "        self.N = x.shape[0]\n",
    "\n",
    "        x = x.reshape(-1, 19, 1, 3000)\n",
    "        # Apply CNN\n",
    "        \n",
    "        x = F.relu(self.conv1(x))\n",
    "        #x = self.pool(x)\n",
    "        xx = x\n",
    "        \n",
    "        x = F.relu(self.conv2(x))\n",
    "        #x = self.pool(x)\n",
    "        \n",
    "        x = F.relu(self.conv3(x))\n",
    "        # Reshape for LSTM\n",
    "        \n",
    "        #x = x.transpose(1, 2)\n",
    "        \n",
    "        # Apply LSTM\n",
    "        \n",
    "        x = x.reshape(-1, 1, 3000)\n",
    "        \n",
    "        h_n, (__, _) = self.lstm(x)\n",
    "\n",
    "        x = h_n[:, :, :]\n",
    "        \n",
    "        \n",
    "        # Apply fully connected layer\n",
    "        x = x.reshape(self.N, -1)\n",
    "        x = self.fc(x)\n",
    "        x = self.results(x)\n",
    "        \"\"\"\n",
    "        \"\"\"\n",
    "        return x\n",
    "    \n",
    "model = CNN_LSTM(num_classes=4, hidden_size=100).cuda()\n",
    "model(torch.rand(7, 19, 3000).cuda()).shape"
   ]
  },
  {
   "cell_type": "code",
   "execution_count": 8,
   "metadata": {},
   "outputs": [],
   "source": [
    "MNE_Data = EEGDataset(root_dir=r\"C:\\Users\\admin\\Desktop\\MNE_Data\")\n",
    "labels = MNE_Data.labels\n",
    "#MNE_Data = EEGDataset(root_dir=r\"D:\\TEST MNE\")\n",
    "test_path = r\"C:\\Users\\admin\\Desktop\\TEST\\amirifateme.fif\"\n",
    "test_class = 0"
   ]
  },
  {
   "cell_type": "code",
   "execution_count": 9,
   "metadata": {},
   "outputs": [],
   "source": [
    "train_dataloader = DataLoader(MNE_Data, batch_size=1, shuffle=True)"
   ]
  },
  {
   "cell_type": "code",
   "execution_count": 10,
   "metadata": {},
   "outputs": [
    {
     "name": "stdout",
     "output_type": "stream",
     "text": [
      "Number of parameters: 1244189\n"
     ]
    }
   ],
   "source": [
    "config = net(T = 3000, C = 19, input_size = 3000, hidden_size = 10, num_layers=1, spatial_num= 300, dropout=0.5, pool=1).to(device)\n",
    "#config = CNN_LSTM(num_classes=4, hidden_size=100).cuda()\n",
    "num_params = sum(p.numel() for p in model.parameters())\n",
    "print(\"Number of parameters:\", num_params)"
   ]
  },
  {
   "cell_type": "code",
   "execution_count": 11,
   "metadata": {},
   "outputs": [],
   "source": [
    "#criterion = nn.CrossEntropyLoss(weight = torch.Tensor([5.3125, 1.8333, 3.5417, 6.6667]).cuda())\n",
    "criterion = nn.CrossEntropyLoss()\n",
    "\n",
    "optimizer = optim.Adam(model.parameters(), lr=0.001)\n",
    "#optimizer = optim.Adagrad(model.parameters(), lr=0.001)\n",
    "\n",
    "\n",
    "scheduler = lr_scheduler.ExponentialLR(optimizer, gamma=0.1)\n",
    "epochs = 100\n",
    "kf = StratifiedKFold(n_splits=10, shuffle=True, random_state=42)\n",
    "model_list = []"
   ]
  },
  {
   "cell_type": "code",
   "execution_count": 12,
   "metadata": {},
   "outputs": [
    {
     "name": "stderr",
     "output_type": "stream",
     "text": [
      "  1%|          | 1/100 [00:59<1:37:35, 59.15s/it]"
     ]
    },
    {
     "name": "stdout",
     "output_type": "stream",
     "text": [
      "tensor([0.2377, 0.3146, 0.2145, 0.2332], device='cuda:0',\n",
      "       grad_fn=<SelectBackward0>)\n",
      "tensor([0., 0., 0., 1.], device='cuda:0')\n",
      "Epoch: 0, Validation Loss: 1.3870, Validation Accuracy: 25.03%\n"
     ]
    },
    {
     "name": "stderr",
     "output_type": "stream",
     "text": [
      "  2%|▏         | 2/100 [01:56<1:35:14, 58.32s/it]"
     ]
    },
    {
     "name": "stdout",
     "output_type": "stream",
     "text": [
      "tensor([0.2288, 0.3212, 0.2187, 0.2313], device='cuda:0',\n",
      "       grad_fn=<SelectBackward0>)\n",
      "tensor([0., 0., 1., 0.], device='cuda:0')\n",
      "Epoch: 1, Validation Loss: 1.3868, Validation Accuracy: 25.15%\n"
     ]
    },
    {
     "name": "stderr",
     "output_type": "stream",
     "text": [
      "  3%|▎         | 3/100 [02:55<1:34:17, 58.32s/it]"
     ]
    },
    {
     "name": "stdout",
     "output_type": "stream",
     "text": [
      "tensor([0.2388, 0.3112, 0.2155, 0.2345], device='cuda:0',\n",
      "       grad_fn=<SelectBackward0>)\n",
      "tensor([0., 1., 0., 0.], device='cuda:0')\n",
      "Epoch: 2, Validation Loss: 1.3854, Validation Accuracy: 24.82%\n"
     ]
    },
    {
     "name": "stderr",
     "output_type": "stream",
     "text": [
      "  4%|▍         | 4/100 [03:54<1:33:53, 58.68s/it]"
     ]
    },
    {
     "name": "stdout",
     "output_type": "stream",
     "text": [
      "tensor([0.0086, 0.2802, 0.6828, 0.0284], device='cuda:0',\n",
      "       grad_fn=<SelectBackward0>)\n",
      "tensor([0., 0., 0., 1.], device='cuda:0')\n",
      "Epoch: 3, Validation Loss: 1.3894, Validation Accuracy: 25.33%\n"
     ]
    },
    {
     "name": "stderr",
     "output_type": "stream",
     "text": [
      "  5%|▌         | 5/100 [04:54<1:33:41, 59.17s/it]"
     ]
    },
    {
     "name": "stdout",
     "output_type": "stream",
     "text": [
      "tensor([9.9857e-01, 3.0301e-04, 6.1874e-04, 5.0673e-04], device='cuda:0',\n",
      "       grad_fn=<SelectBackward0>)\n",
      "tensor([0., 0., 0., 1.], device='cuda:0')\n",
      "Epoch: 4, Validation Loss: 1.3948, Validation Accuracy: 26.66%\n"
     ]
    },
    {
     "name": "stderr",
     "output_type": "stream",
     "text": [
      "  6%|▌         | 6/100 [05:54<1:32:58, 59.34s/it]"
     ]
    },
    {
     "name": "stdout",
     "output_type": "stream",
     "text": [
      "tensor([0.5053, 0.1118, 0.1062, 0.2766], device='cuda:0',\n",
      "       grad_fn=<SelectBackward0>)\n",
      "tensor([0., 0., 0., 1.], device='cuda:0')\n",
      "Epoch: 5, Validation Loss: 1.3866, Validation Accuracy: 27.04%\n"
     ]
    },
    {
     "name": "stderr",
     "output_type": "stream",
     "text": [
      "  7%|▋         | 7/100 [06:53<1:32:10, 59.46s/it]"
     ]
    },
    {
     "name": "stdout",
     "output_type": "stream",
     "text": [
      "tensor([9.9705e-01, 4.4707e-04, 7.4229e-04, 1.7591e-03], device='cuda:0',\n",
      "       grad_fn=<SelectBackward0>)\n",
      "tensor([0., 1., 0., 0.], device='cuda:0')\n",
      "Epoch: 6, Validation Loss: 1.3784, Validation Accuracy: 28.46%\n"
     ]
    },
    {
     "name": "stderr",
     "output_type": "stream",
     "text": [
      "  8%|▊         | 8/100 [07:53<1:31:18, 59.55s/it]"
     ]
    },
    {
     "name": "stdout",
     "output_type": "stream",
     "text": [
      "tensor([0.0008, 0.5064, 0.2895, 0.2033], device='cuda:0',\n",
      "       grad_fn=<SelectBackward0>)\n",
      "tensor([1., 0., 0., 0.], device='cuda:0')\n",
      "Epoch: 7, Validation Loss: 1.3786, Validation Accuracy: 30.10%\n"
     ]
    },
    {
     "name": "stderr",
     "output_type": "stream",
     "text": [
      "  9%|▉         | 9/100 [08:53<1:30:15, 59.51s/it]"
     ]
    },
    {
     "name": "stdout",
     "output_type": "stream",
     "text": [
      "tensor([5.1656e-05, 5.2639e-01, 2.9871e-01, 1.7484e-01], device='cuda:0',\n",
      "       grad_fn=<SelectBackward0>)\n",
      "tensor([0., 0., 1., 0.], device='cuda:0')\n",
      "Epoch: 8, Validation Loss: 1.3794, Validation Accuracy: 29.40%\n"
     ]
    },
    {
     "name": "stderr",
     "output_type": "stream",
     "text": [
      " 10%|█         | 10/100 [09:51<1:28:55, 59.28s/it]"
     ]
    },
    {
     "name": "stdout",
     "output_type": "stream",
     "text": [
      "tensor([0.1119, 0.3334, 0.2017, 0.3530], device='cuda:0',\n",
      "       grad_fn=<SelectBackward0>)\n",
      "tensor([0., 1., 0., 0.], device='cuda:0')\n",
      "Epoch: 9, Validation Loss: 1.3779, Validation Accuracy: 30.32%\n"
     ]
    },
    {
     "name": "stderr",
     "output_type": "stream",
     "text": [
      " 11%|█         | 11/100 [10:50<1:27:52, 59.25s/it]"
     ]
    },
    {
     "name": "stdout",
     "output_type": "stream",
     "text": [
      "tensor([0.9582, 0.0165, 0.0115, 0.0137], device='cuda:0',\n",
      "       grad_fn=<SelectBackward0>)\n",
      "tensor([0., 0., 1., 0.], device='cuda:0')\n",
      "Epoch: 10, Validation Loss: 1.3938, Validation Accuracy: 30.12%\n"
     ]
    },
    {
     "name": "stderr",
     "output_type": "stream",
     "text": [
      " 12%|█▏        | 12/100 [11:48<1:26:18, 58.85s/it]"
     ]
    },
    {
     "name": "stdout",
     "output_type": "stream",
     "text": [
      "tensor([0.8800, 0.0476, 0.0273, 0.0451], device='cuda:0',\n",
      "       grad_fn=<SelectBackward0>)\n",
      "tensor([1., 0., 0., 0.], device='cuda:0')\n",
      "Epoch: 11, Validation Loss: 1.3823, Validation Accuracy: 31.82%\n"
     ]
    },
    {
     "name": "stderr",
     "output_type": "stream",
     "text": [
      " 13%|█▎        | 13/100 [12:46<1:24:46, 58.46s/it]"
     ]
    },
    {
     "name": "stdout",
     "output_type": "stream",
     "text": [
      "tensor([4.7293e-04, 7.3345e-03, 3.4180e-04, 9.9185e-01], device='cuda:0',\n",
      "       grad_fn=<SelectBackward0>)\n",
      "tensor([0., 0., 0., 1.], device='cuda:0')\n",
      "Epoch: 12, Validation Loss: 1.3789, Validation Accuracy: 33.01%\n"
     ]
    },
    {
     "name": "stderr",
     "output_type": "stream",
     "text": [
      " 14%|█▍        | 14/100 [13:45<1:24:06, 58.68s/it]"
     ]
    },
    {
     "name": "stdout",
     "output_type": "stream",
     "text": [
      "tensor([0.0433, 0.4356, 0.3093, 0.2119], device='cuda:0',\n",
      "       grad_fn=<SelectBackward0>)\n",
      "tensor([0., 0., 0., 1.], device='cuda:0')\n",
      "Epoch: 13, Validation Loss: 1.3779, Validation Accuracy: 31.56%\n"
     ]
    },
    {
     "name": "stderr",
     "output_type": "stream",
     "text": [
      " 15%|█▌        | 15/100 [14:43<1:22:52, 58.50s/it]"
     ]
    },
    {
     "name": "stdout",
     "output_type": "stream",
     "text": [
      "tensor([0.0149, 0.3025, 0.1708, 0.5119], device='cuda:0',\n",
      "       grad_fn=<SelectBackward0>)\n",
      "tensor([0., 1., 0., 0.], device='cuda:0')\n",
      "Epoch: 14, Validation Loss: 1.3844, Validation Accuracy: 31.94%\n"
     ]
    },
    {
     "name": "stderr",
     "output_type": "stream",
     "text": [
      " 16%|█▌        | 16/100 [15:41<1:21:29, 58.21s/it]"
     ]
    },
    {
     "name": "stdout",
     "output_type": "stream",
     "text": [
      "tensor([0.0061, 0.4725, 0.3960, 0.1253], device='cuda:0',\n",
      "       grad_fn=<SelectBackward0>)\n",
      "tensor([0., 0., 0., 1.], device='cuda:0')\n",
      "Epoch: 15, Validation Loss: 1.3734, Validation Accuracy: 33.03%\n"
     ]
    },
    {
     "name": "stderr",
     "output_type": "stream",
     "text": [
      " 17%|█▋        | 17/100 [16:39<1:20:25, 58.13s/it]"
     ]
    },
    {
     "name": "stdout",
     "output_type": "stream",
     "text": [
      "tensor([7.5794e-08, 9.1337e-05, 1.8510e-07, 9.9991e-01], device='cuda:0',\n",
      "       grad_fn=<SelectBackward0>)\n",
      "tensor([0., 0., 0., 1.], device='cuda:0')\n",
      "Epoch: 16, Validation Loss: 1.3760, Validation Accuracy: 32.88%\n"
     ]
    },
    {
     "name": "stderr",
     "output_type": "stream",
     "text": [
      " 18%|█▊        | 18/100 [17:36<1:19:16, 58.00s/it]"
     ]
    },
    {
     "name": "stdout",
     "output_type": "stream",
     "text": [
      "tensor([0.0018, 0.0418, 0.0030, 0.9534], device='cuda:0',\n",
      "       grad_fn=<SelectBackward0>)\n",
      "tensor([0., 0., 0., 1.], device='cuda:0')\n",
      "Epoch: 17, Validation Loss: 1.3764, Validation Accuracy: 33.15%\n"
     ]
    },
    {
     "name": "stderr",
     "output_type": "stream",
     "text": [
      " 19%|█▉        | 19/100 [18:35<1:18:20, 58.04s/it]"
     ]
    },
    {
     "name": "stdout",
     "output_type": "stream",
     "text": [
      "tensor([0.1267, 0.3648, 0.2586, 0.2500], device='cuda:0',\n",
      "       grad_fn=<SelectBackward0>)\n",
      "tensor([0., 1., 0., 0.], device='cuda:0')\n",
      "Epoch: 18, Validation Loss: 1.3710, Validation Accuracy: 34.04%\n"
     ]
    },
    {
     "name": "stderr",
     "output_type": "stream",
     "text": [
      " 20%|██        | 20/100 [19:33<1:17:22, 58.03s/it]"
     ]
    },
    {
     "name": "stdout",
     "output_type": "stream",
     "text": [
      "tensor([9.2168e-08, 2.3347e-05, 1.4915e-08, 9.9998e-01], device='cuda:0',\n",
      "       grad_fn=<SelectBackward0>)\n",
      "tensor([0., 0., 1., 0.], device='cuda:0')\n",
      "Epoch: 19, Validation Loss: 1.3790, Validation Accuracy: 33.02%\n"
     ]
    },
    {
     "name": "stderr",
     "output_type": "stream",
     "text": [
      " 21%|██        | 21/100 [20:30<1:16:19, 57.97s/it]"
     ]
    },
    {
     "name": "stdout",
     "output_type": "stream",
     "text": [
      "tensor([0.0018, 0.4716, 0.4539, 0.0728], device='cuda:0',\n",
      "       grad_fn=<SelectBackward0>)\n",
      "tensor([0., 1., 0., 0.], device='cuda:0')\n",
      "Epoch: 20, Validation Loss: 1.3675, Validation Accuracy: 33.04%\n"
     ]
    },
    {
     "name": "stderr",
     "output_type": "stream",
     "text": [
      " 22%|██▏       | 22/100 [21:28<1:15:18, 57.93s/it]"
     ]
    },
    {
     "name": "stdout",
     "output_type": "stream",
     "text": [
      "tensor([1.0000e+00, 5.8143e-16, 3.9856e-17, 1.6152e-16], device='cuda:0',\n",
      "       grad_fn=<SelectBackward0>)\n",
      "tensor([1., 0., 0., 0.], device='cuda:0')\n",
      "Epoch: 21, Validation Loss: 1.3664, Validation Accuracy: 34.20%\n"
     ]
    },
    {
     "name": "stderr",
     "output_type": "stream",
     "text": [
      " 23%|██▎       | 23/100 [22:27<1:14:37, 58.15s/it]"
     ]
    },
    {
     "name": "stdout",
     "output_type": "stream",
     "text": [
      "tensor([0.5961, 0.1137, 0.0246, 0.2657], device='cuda:0',\n",
      "       grad_fn=<SelectBackward0>)\n",
      "tensor([1., 0., 0., 0.], device='cuda:0')\n",
      "Epoch: 22, Validation Loss: 1.3676, Validation Accuracy: 34.10%\n"
     ]
    },
    {
     "name": "stderr",
     "output_type": "stream",
     "text": [
      " 24%|██▍       | 24/100 [23:25<1:13:34, 58.09s/it]"
     ]
    },
    {
     "name": "stdout",
     "output_type": "stream",
     "text": [
      "tensor([2.7059e-05, 4.6054e-01, 5.2460e-01, 1.4839e-02], device='cuda:0',\n",
      "       grad_fn=<SelectBackward0>)\n",
      "tensor([1., 0., 0., 0.], device='cuda:0')\n",
      "Epoch: 23, Validation Loss: 1.3701, Validation Accuracy: 33.60%\n"
     ]
    },
    {
     "name": "stderr",
     "output_type": "stream",
     "text": [
      " 25%|██▌       | 25/100 [24:23<1:12:30, 58.01s/it]"
     ]
    },
    {
     "name": "stdout",
     "output_type": "stream",
     "text": [
      "tensor([1.0000e+00, 3.9033e-08, 6.3736e-09, 1.0345e-08], device='cuda:0',\n",
      "       grad_fn=<SelectBackward0>)\n",
      "tensor([1., 0., 0., 0.], device='cuda:0')\n",
      "Epoch: 24, Validation Loss: 1.3764, Validation Accuracy: 33.35%\n"
     ]
    },
    {
     "name": "stderr",
     "output_type": "stream",
     "text": [
      " 26%|██▌       | 26/100 [25:21<1:11:33, 58.02s/it]"
     ]
    },
    {
     "name": "stdout",
     "output_type": "stream",
     "text": [
      "tensor([0.9899, 0.0043, 0.0016, 0.0042], device='cuda:0',\n",
      "       grad_fn=<SelectBackward0>)\n",
      "tensor([0., 1., 0., 0.], device='cuda:0')\n",
      "Epoch: 25, Validation Loss: 1.3720, Validation Accuracy: 34.13%\n"
     ]
    },
    {
     "name": "stderr",
     "output_type": "stream",
     "text": [
      " 27%|██▋       | 27/100 [26:19<1:10:40, 58.09s/it]"
     ]
    },
    {
     "name": "stdout",
     "output_type": "stream",
     "text": [
      "tensor([2.0722e-13, 6.7721e-02, 9.3227e-01, 8.9520e-06], device='cuda:0',\n",
      "       grad_fn=<SelectBackward0>)\n",
      "tensor([0., 0., 1., 0.], device='cuda:0')\n",
      "Epoch: 26, Validation Loss: 1.3736, Validation Accuracy: 33.37%\n"
     ]
    },
    {
     "name": "stderr",
     "output_type": "stream",
     "text": [
      " 28%|██▊       | 28/100 [27:17<1:09:43, 58.10s/it]"
     ]
    },
    {
     "name": "stdout",
     "output_type": "stream",
     "text": [
      "tensor([2.0675e-11, 1.2535e-01, 8.7460e-01, 4.2219e-05], device='cuda:0',\n",
      "       grad_fn=<SelectBackward0>)\n",
      "tensor([0., 1., 0., 0.], device='cuda:0')\n",
      "Epoch: 27, Validation Loss: 1.3664, Validation Accuracy: 34.33%\n"
     ]
    },
    {
     "name": "stderr",
     "output_type": "stream",
     "text": [
      " 29%|██▉       | 29/100 [28:15<1:08:36, 57.98s/it]"
     ]
    },
    {
     "name": "stdout",
     "output_type": "stream",
     "text": [
      "tensor([0.0068, 0.7777, 0.1504, 0.0651], device='cuda:0',\n",
      "       grad_fn=<SelectBackward0>)\n",
      "tensor([1., 0., 0., 0.], device='cuda:0')\n",
      "Epoch: 28, Validation Loss: 1.3632, Validation Accuracy: 34.27%\n"
     ]
    },
    {
     "name": "stderr",
     "output_type": "stream",
     "text": [
      " 30%|███       | 30/100 [29:12<1:07:16, 57.66s/it]"
     ]
    },
    {
     "name": "stdout",
     "output_type": "stream",
     "text": [
      "tensor([0.0114, 0.5174, 0.3039, 0.1673], device='cuda:0',\n",
      "       grad_fn=<SelectBackward0>)\n",
      "tensor([1., 0., 0., 0.], device='cuda:0')\n",
      "Epoch: 29, Validation Loss: 1.3637, Validation Accuracy: 34.23%\n"
     ]
    },
    {
     "name": "stderr",
     "output_type": "stream",
     "text": [
      " 31%|███       | 31/100 [30:09<1:06:17, 57.64s/it]"
     ]
    },
    {
     "name": "stdout",
     "output_type": "stream",
     "text": [
      "tensor([0.5545, 0.1894, 0.0566, 0.1995], device='cuda:0',\n",
      "       grad_fn=<SelectBackward0>)\n",
      "tensor([1., 0., 0., 0.], device='cuda:0')\n",
      "Epoch: 30, Validation Loss: 1.3700, Validation Accuracy: 34.27%\n"
     ]
    },
    {
     "name": "stderr",
     "output_type": "stream",
     "text": [
      " 32%|███▏      | 32/100 [31:07<1:05:16, 57.60s/it]"
     ]
    },
    {
     "name": "stdout",
     "output_type": "stream",
     "text": [
      "tensor([2.2389e-12, 3.4529e-02, 9.6546e-01, 7.7891e-06], device='cuda:0',\n",
      "       grad_fn=<SelectBackward0>)\n",
      "tensor([0., 1., 0., 0.], device='cuda:0')\n",
      "Epoch: 31, Validation Loss: 1.3633, Validation Accuracy: 35.15%\n"
     ]
    },
    {
     "name": "stderr",
     "output_type": "stream",
     "text": [
      " 33%|███▎      | 33/100 [32:05<1:04:37, 57.87s/it]"
     ]
    },
    {
     "name": "stdout",
     "output_type": "stream",
     "text": [
      "tensor([1.0000e+00, 3.2560e-21, 1.5663e-24, 1.5874e-23], device='cuda:0',\n",
      "       grad_fn=<SelectBackward0>)\n",
      "tensor([1., 0., 0., 0.], device='cuda:0')\n",
      "Epoch: 32, Validation Loss: 1.3603, Validation Accuracy: 35.06%\n"
     ]
    },
    {
     "name": "stderr",
     "output_type": "stream",
     "text": [
      " 34%|███▍      | 34/100 [33:04<1:03:46, 57.98s/it]"
     ]
    },
    {
     "name": "stdout",
     "output_type": "stream",
     "text": [
      "tensor([1.6876e-31, 2.0462e-04, 9.9980e-01, 2.5062e-15], device='cuda:0',\n",
      "       grad_fn=<SelectBackward0>)\n",
      "tensor([1., 0., 0., 0.], device='cuda:0')\n",
      "Epoch: 33, Validation Loss: 1.3673, Validation Accuracy: 34.87%\n"
     ]
    },
    {
     "name": "stderr",
     "output_type": "stream",
     "text": [
      " 35%|███▌      | 35/100 [34:02<1:02:48, 57.98s/it]"
     ]
    },
    {
     "name": "stdout",
     "output_type": "stream",
     "text": [
      "tensor([0.9407, 0.0495, 0.0047, 0.0051], device='cuda:0',\n",
      "       grad_fn=<SelectBackward0>)\n",
      "tensor([0., 1., 0., 0.], device='cuda:0')\n",
      "Epoch: 34, Validation Loss: 1.3764, Validation Accuracy: 33.21%\n"
     ]
    },
    {
     "name": "stderr",
     "output_type": "stream",
     "text": [
      " 36%|███▌      | 36/100 [34:59<1:01:35, 57.75s/it]"
     ]
    },
    {
     "name": "stdout",
     "output_type": "stream",
     "text": [
      "tensor([1.5352e-07, 7.8932e-05, 3.0926e-08, 9.9992e-01], device='cuda:0',\n",
      "       grad_fn=<SelectBackward0>)\n",
      "tensor([0., 1., 0., 0.], device='cuda:0')\n",
      "Epoch: 35, Validation Loss: 1.3725, Validation Accuracy: 33.74%\n"
     ]
    },
    {
     "name": "stderr",
     "output_type": "stream",
     "text": [
      " 37%|███▋      | 37/100 [35:57<1:00:40, 57.79s/it]"
     ]
    },
    {
     "name": "stdout",
     "output_type": "stream",
     "text": [
      "tensor([1.9388e-08, 1.2248e-05, 1.6723e-09, 9.9999e-01], device='cuda:0',\n",
      "       grad_fn=<SelectBackward0>)\n",
      "tensor([0., 0., 0., 1.], device='cuda:0')\n",
      "Epoch: 36, Validation Loss: 1.3631, Validation Accuracy: 34.69%\n"
     ]
    },
    {
     "name": "stderr",
     "output_type": "stream",
     "text": [
      " 38%|███▊      | 38/100 [36:53<59:25, 57.51s/it]  "
     ]
    },
    {
     "name": "stdout",
     "output_type": "stream",
     "text": [
      "tensor([0.0601, 0.2140, 0.0412, 0.6846], device='cuda:0',\n",
      "       grad_fn=<SelectBackward0>)\n",
      "tensor([0., 0., 0., 1.], device='cuda:0')\n",
      "Epoch: 37, Validation Loss: 1.3627, Validation Accuracy: 34.71%\n"
     ]
    },
    {
     "name": "stderr",
     "output_type": "stream",
     "text": [
      " 39%|███▉      | 39/100 [37:52<58:40, 57.70s/it]"
     ]
    },
    {
     "name": "stdout",
     "output_type": "stream",
     "text": [
      "tensor([1.0000e+00, 9.8474e-10, 1.0019e-11, 3.0632e-11], device='cuda:0',\n",
      "       grad_fn=<SelectBackward0>)\n",
      "tensor([0., 1., 0., 0.], device='cuda:0')\n",
      "Epoch: 38, Validation Loss: 1.3587, Validation Accuracy: 35.57%\n"
     ]
    },
    {
     "name": "stderr",
     "output_type": "stream",
     "text": [
      " 40%|████      | 40/100 [38:50<57:53, 57.90s/it]"
     ]
    },
    {
     "name": "stdout",
     "output_type": "stream",
     "text": [
      "tensor([7.8736e-11, 1.2982e-01, 8.7017e-01, 1.3022e-05], device='cuda:0',\n",
      "       grad_fn=<SelectBackward0>)\n",
      "tensor([1., 0., 0., 0.], device='cuda:0')\n",
      "Epoch: 39, Validation Loss: 1.3591, Validation Accuracy: 35.40%\n"
     ]
    },
    {
     "name": "stderr",
     "output_type": "stream",
     "text": [
      " 41%|████      | 41/100 [39:47<56:49, 57.79s/it]"
     ]
    },
    {
     "name": "stdout",
     "output_type": "stream",
     "text": [
      "tensor([2.5454e-27, 2.3972e-03, 9.9760e-01, 6.3715e-14], device='cuda:0',\n",
      "       grad_fn=<SelectBackward0>)\n",
      "tensor([0., 0., 0., 1.], device='cuda:0')\n",
      "Epoch: 40, Validation Loss: 1.3561, Validation Accuracy: 35.66%\n"
     ]
    },
    {
     "name": "stderr",
     "output_type": "stream",
     "text": [
      " 42%|████▏     | 42/100 [40:45<55:45, 57.68s/it]"
     ]
    },
    {
     "name": "stdout",
     "output_type": "stream",
     "text": [
      "tensor([9.7613e-05, 9.2511e-01, 6.3019e-02, 1.1776e-02], device='cuda:0',\n",
      "       grad_fn=<SelectBackward0>)\n",
      "tensor([0., 1., 0., 0.], device='cuda:0')\n",
      "Epoch: 41, Validation Loss: 1.3567, Validation Accuracy: 35.67%\n"
     ]
    },
    {
     "name": "stderr",
     "output_type": "stream",
     "text": [
      " 43%|████▎     | 43/100 [41:42<54:40, 57.56s/it]"
     ]
    },
    {
     "name": "stdout",
     "output_type": "stream",
     "text": [
      "tensor([1.0000e+00, 1.4507e-08, 6.9924e-11, 2.6369e-10], device='cuda:0',\n",
      "       grad_fn=<SelectBackward0>)\n",
      "tensor([1., 0., 0., 0.], device='cuda:0')\n",
      "Epoch: 42, Validation Loss: 1.3623, Validation Accuracy: 34.69%\n"
     ]
    },
    {
     "name": "stderr",
     "output_type": "stream",
     "text": [
      " 44%|████▍     | 44/100 [42:40<53:39, 57.48s/it]"
     ]
    },
    {
     "name": "stdout",
     "output_type": "stream",
     "text": [
      "tensor([2.1471e-06, 1.8451e-04, 2.1856e-07, 9.9981e-01], device='cuda:0',\n",
      "       grad_fn=<SelectBackward0>)\n",
      "tensor([0., 0., 0., 1.], device='cuda:0')\n",
      "Epoch: 43, Validation Loss: 1.3575, Validation Accuracy: 35.65%\n"
     ]
    },
    {
     "name": "stderr",
     "output_type": "stream",
     "text": [
      " 45%|████▌     | 45/100 [43:37<52:48, 57.60s/it]"
     ]
    },
    {
     "name": "stdout",
     "output_type": "stream",
     "text": [
      "tensor([1.0000e+00, 1.2197e-21, 3.4225e-27, 7.3975e-26], device='cuda:0',\n",
      "       grad_fn=<SelectBackward0>)\n",
      "tensor([1., 0., 0., 0.], device='cuda:0')\n",
      "Epoch: 44, Validation Loss: 1.3546, Validation Accuracy: 36.31%\n"
     ]
    },
    {
     "name": "stderr",
     "output_type": "stream",
     "text": [
      " 46%|████▌     | 46/100 [44:35<51:50, 57.61s/it]"
     ]
    },
    {
     "name": "stdout",
     "output_type": "stream",
     "text": [
      "tensor([0.0040, 0.6950, 0.1943, 0.1066], device='cuda:0',\n",
      "       grad_fn=<SelectBackward0>)\n",
      "tensor([0., 0., 1., 0.], device='cuda:0')\n",
      "Epoch: 45, Validation Loss: 1.3604, Validation Accuracy: 35.43%\n"
     ]
    },
    {
     "name": "stderr",
     "output_type": "stream",
     "text": [
      " 47%|████▋     | 47/100 [45:33<50:58, 57.70s/it]"
     ]
    },
    {
     "name": "stdout",
     "output_type": "stream",
     "text": [
      "tensor([0.4523, 0.3090, 0.1458, 0.0929], device='cuda:0',\n",
      "       grad_fn=<SelectBackward0>)\n",
      "tensor([0., 1., 0., 0.], device='cuda:0')\n",
      "Epoch: 46, Validation Loss: 1.3602, Validation Accuracy: 35.40%\n"
     ]
    },
    {
     "name": "stderr",
     "output_type": "stream",
     "text": [
      " 48%|████▊     | 48/100 [46:30<49:55, 57.60s/it]"
     ]
    },
    {
     "name": "stdout",
     "output_type": "stream",
     "text": [
      "tensor([6.5081e-11, 7.4201e-08, 6.7073e-13, 1.0000e+00], device='cuda:0',\n",
      "       grad_fn=<SelectBackward0>)\n",
      "tensor([0., 0., 0., 1.], device='cuda:0')\n",
      "Epoch: 47, Validation Loss: 1.3612, Validation Accuracy: 35.75%\n"
     ]
    },
    {
     "name": "stderr",
     "output_type": "stream",
     "text": [
      " 49%|████▉     | 49/100 [47:28<49:03, 57.71s/it]"
     ]
    },
    {
     "name": "stdout",
     "output_type": "stream",
     "text": [
      "tensor([1.0000e+00, 3.9020e-14, 2.1648e-17, 7.2862e-17], device='cuda:0',\n",
      "       grad_fn=<SelectBackward0>)\n",
      "tensor([1., 0., 0., 0.], device='cuda:0')\n",
      "Epoch: 48, Validation Loss: 1.3515, Validation Accuracy: 36.51%\n"
     ]
    },
    {
     "name": "stderr",
     "output_type": "stream",
     "text": [
      " 50%|█████     | 50/100 [48:25<47:52, 57.45s/it]"
     ]
    },
    {
     "name": "stdout",
     "output_type": "stream",
     "text": [
      "tensor([1.4957e-25, 9.9950e-05, 9.9990e-01, 9.5840e-15], device='cuda:0',\n",
      "       grad_fn=<SelectBackward0>)\n",
      "tensor([0., 0., 1., 0.], device='cuda:0')\n",
      "Epoch: 49, Validation Loss: 1.3497, Validation Accuracy: 36.81%\n"
     ]
    },
    {
     "name": "stderr",
     "output_type": "stream",
     "text": [
      " 51%|█████     | 51/100 [49:23<47:00, 57.57s/it]"
     ]
    },
    {
     "name": "stdout",
     "output_type": "stream",
     "text": [
      "tensor([5.4075e-05, 9.1630e-01, 7.7257e-02, 6.3897e-03], device='cuda:0',\n",
      "       grad_fn=<SelectBackward0>)\n",
      "tensor([0., 0., 1., 0.], device='cuda:0')\n",
      "Epoch: 50, Validation Loss: 1.3500, Validation Accuracy: 36.47%\n"
     ]
    },
    {
     "name": "stderr",
     "output_type": "stream",
     "text": [
      " 52%|█████▏    | 52/100 [50:20<46:02, 57.55s/it]"
     ]
    },
    {
     "name": "stdout",
     "output_type": "stream",
     "text": [
      "tensor([0.0264, 0.5217, 0.0729, 0.3791], device='cuda:0',\n",
      "       grad_fn=<SelectBackward0>)\n",
      "tensor([0., 1., 0., 0.], device='cuda:0')\n",
      "Epoch: 51, Validation Loss: 1.3566, Validation Accuracy: 35.93%\n"
     ]
    },
    {
     "name": "stderr",
     "output_type": "stream",
     "text": [
      " 53%|█████▎    | 53/100 [51:18<45:09, 57.66s/it]"
     ]
    },
    {
     "name": "stdout",
     "output_type": "stream",
     "text": [
      "tensor([6.6365e-15, 5.0113e-03, 9.9499e-01, 9.3021e-09], device='cuda:0',\n",
      "       grad_fn=<SelectBackward0>)\n",
      "tensor([0., 0., 1., 0.], device='cuda:0')\n",
      "Epoch: 52, Validation Loss: 1.3562, Validation Accuracy: 36.29%\n"
     ]
    },
    {
     "name": "stderr",
     "output_type": "stream",
     "text": [
      " 54%|█████▍    | 54/100 [52:17<44:19, 57.81s/it]"
     ]
    },
    {
     "name": "stdout",
     "output_type": "stream",
     "text": [
      "tensor([2.7113e-21, 1.6421e-01, 8.3579e-01, 3.0658e-11], device='cuda:0',\n",
      "       grad_fn=<SelectBackward0>)\n",
      "tensor([0., 0., 1., 0.], device='cuda:0')\n",
      "Epoch: 53, Validation Loss: 1.3544, Validation Accuracy: 36.53%\n"
     ]
    },
    {
     "name": "stderr",
     "output_type": "stream",
     "text": [
      " 55%|█████▌    | 55/100 [53:14<43:16, 57.71s/it]"
     ]
    },
    {
     "name": "stdout",
     "output_type": "stream",
     "text": [
      "tensor([2.0533e-14, 2.2855e-02, 9.7715e-01, 2.2415e-08], device='cuda:0',\n",
      "       grad_fn=<SelectBackward0>)\n",
      "tensor([0., 0., 1., 0.], device='cuda:0')\n",
      "Epoch: 54, Validation Loss: 1.3587, Validation Accuracy: 35.92%\n"
     ]
    },
    {
     "name": "stderr",
     "output_type": "stream",
     "text": [
      " 56%|█████▌    | 56/100 [54:12<42:28, 57.91s/it]"
     ]
    },
    {
     "name": "stdout",
     "output_type": "stream",
     "text": [
      "tensor([0.0186, 0.7200, 0.1811, 0.0802], device='cuda:0',\n",
      "       grad_fn=<SelectBackward0>)\n",
      "tensor([0., 1., 0., 0.], device='cuda:0')\n",
      "Epoch: 55, Validation Loss: 1.3543, Validation Accuracy: 36.86%\n"
     ]
    },
    {
     "name": "stderr",
     "output_type": "stream",
     "text": [
      " 57%|█████▋    | 57/100 [55:10<41:31, 57.94s/it]"
     ]
    },
    {
     "name": "stdout",
     "output_type": "stream",
     "text": [
      "tensor([7.5039e-14, 5.9329e-10, 3.2241e-16, 1.0000e+00], device='cuda:0',\n",
      "       grad_fn=<SelectBackward0>)\n",
      "tensor([0., 0., 0., 1.], device='cuda:0')\n",
      "Epoch: 56, Validation Loss: 1.3627, Validation Accuracy: 35.57%\n"
     ]
    },
    {
     "name": "stderr",
     "output_type": "stream",
     "text": [
      " 58%|█████▊    | 58/100 [56:08<40:33, 57.94s/it]"
     ]
    },
    {
     "name": "stdout",
     "output_type": "stream",
     "text": [
      "tensor([6.2979e-10, 2.6200e-07, 1.0621e-11, 1.0000e+00], device='cuda:0',\n",
      "       grad_fn=<SelectBackward0>)\n",
      "tensor([0., 0., 0., 1.], device='cuda:0')\n",
      "Epoch: 57, Validation Loss: 1.3614, Validation Accuracy: 35.81%\n"
     ]
    },
    {
     "name": "stderr",
     "output_type": "stream",
     "text": [
      " 59%|█████▉    | 59/100 [57:07<39:45, 58.18s/it]"
     ]
    },
    {
     "name": "stdout",
     "output_type": "stream",
     "text": [
      "tensor([9.3337e-25, 1.6091e-03, 9.9839e-01, 3.4780e-14], device='cuda:0',\n",
      "       grad_fn=<SelectBackward0>)\n",
      "tensor([0., 1., 0., 0.], device='cuda:0')\n",
      "Epoch: 58, Validation Loss: 1.3618, Validation Accuracy: 35.94%\n"
     ]
    },
    {
     "name": "stderr",
     "output_type": "stream",
     "text": [
      " 60%|██████    | 60/100 [58:05<38:43, 58.09s/it]"
     ]
    },
    {
     "name": "stdout",
     "output_type": "stream",
     "text": [
      "tensor([4.4491e-05, 9.1797e-01, 7.7456e-02, 4.5306e-03], device='cuda:0',\n",
      "       grad_fn=<SelectBackward0>)\n",
      "tensor([1., 0., 0., 0.], device='cuda:0')\n",
      "Epoch: 59, Validation Loss: 1.3557, Validation Accuracy: 36.66%\n"
     ]
    },
    {
     "name": "stderr",
     "output_type": "stream",
     "text": [
      " 61%|██████    | 61/100 [59:03<37:46, 58.13s/it]"
     ]
    },
    {
     "name": "stdout",
     "output_type": "stream",
     "text": [
      "tensor([0.0000e+00, 1.9150e-10, 1.0000e+00, 4.8564e-28], device='cuda:0',\n",
      "       grad_fn=<SelectBackward0>)\n",
      "tensor([0., 0., 1., 0.], device='cuda:0')\n",
      "Epoch: 60, Validation Loss: 1.3493, Validation Accuracy: 36.98%\n"
     ]
    },
    {
     "name": "stderr",
     "output_type": "stream",
     "text": [
      " 62%|██████▏   | 62/100 [1:00:01<36:45, 58.03s/it]"
     ]
    },
    {
     "name": "stdout",
     "output_type": "stream",
     "text": [
      "tensor([1.0000e+00, 9.9755e-25, 7.1242e-30, 2.1396e-29], device='cuda:0',\n",
      "       grad_fn=<SelectBackward0>)\n",
      "tensor([1., 0., 0., 0.], device='cuda:0')\n",
      "Epoch: 61, Validation Loss: 1.3526, Validation Accuracy: 36.75%\n"
     ]
    },
    {
     "name": "stderr",
     "output_type": "stream",
     "text": [
      " 63%|██████▎   | 63/100 [1:00:58<35:38, 57.79s/it]"
     ]
    },
    {
     "name": "stdout",
     "output_type": "stream",
     "text": [
      "tensor([3.2826e-28, 9.8935e-07, 1.0000e+00, 1.8696e-17], device='cuda:0',\n",
      "       grad_fn=<SelectBackward0>)\n",
      "tensor([0., 0., 1., 0.], device='cuda:0')\n",
      "Epoch: 62, Validation Loss: 1.3557, Validation Accuracy: 36.52%\n"
     ]
    },
    {
     "name": "stderr",
     "output_type": "stream",
     "text": [
      " 64%|██████▍   | 64/100 [1:01:56<34:43, 57.88s/it]"
     ]
    },
    {
     "name": "stdout",
     "output_type": "stream",
     "text": [
      "tensor([1.0000e+00, 4.2647e-18, 3.4425e-22, 6.2648e-22], device='cuda:0',\n",
      "       grad_fn=<SelectBackward0>)\n",
      "tensor([1., 0., 0., 0.], device='cuda:0')\n",
      "Epoch: 63, Validation Loss: 1.3507, Validation Accuracy: 37.40%\n"
     ]
    },
    {
     "name": "stderr",
     "output_type": "stream",
     "text": [
      " 65%|██████▌   | 65/100 [1:02:54<33:47, 57.94s/it]"
     ]
    },
    {
     "name": "stdout",
     "output_type": "stream",
     "text": [
      "tensor([0.0044, 0.0320, 0.0018, 0.9619], device='cuda:0',\n",
      "       grad_fn=<SelectBackward0>)\n",
      "tensor([0., 1., 0., 0.], device='cuda:0')\n",
      "Epoch: 64, Validation Loss: 1.3566, Validation Accuracy: 36.93%\n"
     ]
    },
    {
     "name": "stderr",
     "output_type": "stream",
     "text": [
      " 66%|██████▌   | 66/100 [1:03:52<32:43, 57.76s/it]"
     ]
    },
    {
     "name": "stdout",
     "output_type": "stream",
     "text": [
      "tensor([0.5103, 0.4340, 0.0493, 0.0065], device='cuda:0',\n",
      "       grad_fn=<SelectBackward0>)\n",
      "tensor([1., 0., 0., 0.], device='cuda:0')\n",
      "Epoch: 65, Validation Loss: 1.3565, Validation Accuracy: 36.16%\n"
     ]
    },
    {
     "name": "stderr",
     "output_type": "stream",
     "text": [
      " 67%|██████▋   | 67/100 [1:04:50<31:49, 57.86s/it]"
     ]
    },
    {
     "name": "stdout",
     "output_type": "stream",
     "text": [
      "tensor([5.1522e-11, 4.0430e-01, 5.9570e-01, 1.7170e-06], device='cuda:0',\n",
      "       grad_fn=<SelectBackward0>)\n",
      "tensor([0., 1., 0., 0.], device='cuda:0')\n",
      "Epoch: 66, Validation Loss: 1.3510, Validation Accuracy: 36.80%\n"
     ]
    },
    {
     "name": "stderr",
     "output_type": "stream",
     "text": [
      " 68%|██████▊   | 68/100 [1:05:47<30:45, 57.66s/it]"
     ]
    },
    {
     "name": "stdout",
     "output_type": "stream",
     "text": [
      "tensor([1.0000e+00, 5.6752e-16, 2.0997e-19, 5.0933e-19], device='cuda:0',\n",
      "       grad_fn=<SelectBackward0>)\n",
      "tensor([1., 0., 0., 0.], device='cuda:0')\n",
      "Epoch: 67, Validation Loss: 1.3521, Validation Accuracy: 37.02%\n"
     ]
    },
    {
     "name": "stderr",
     "output_type": "stream",
     "text": [
      " 69%|██████▉   | 69/100 [1:06:44<29:44, 57.57s/it]"
     ]
    },
    {
     "name": "stdout",
     "output_type": "stream",
     "text": [
      "tensor([1.0000e+00, 4.3600e-07, 8.2828e-09, 1.4368e-08], device='cuda:0',\n",
      "       grad_fn=<SelectBackward0>)\n",
      "tensor([0., 0., 1., 0.], device='cuda:0')\n",
      "Epoch: 68, Validation Loss: 1.3612, Validation Accuracy: 36.27%\n"
     ]
    },
    {
     "name": "stderr",
     "output_type": "stream",
     "text": [
      " 70%|███████   | 70/100 [1:07:42<28:50, 57.68s/it]"
     ]
    },
    {
     "name": "stdout",
     "output_type": "stream",
     "text": [
      "tensor([9.9956e-01, 3.0128e-04, 1.3710e-05, 1.2227e-04], device='cuda:0',\n",
      "       grad_fn=<SelectBackward0>)\n",
      "tensor([0., 1., 0., 0.], device='cuda:0')\n",
      "Epoch: 69, Validation Loss: 1.3447, Validation Accuracy: 38.23%\n"
     ]
    },
    {
     "name": "stderr",
     "output_type": "stream",
     "text": [
      " 71%|███████   | 71/100 [1:08:40<27:55, 57.79s/it]"
     ]
    },
    {
     "name": "stdout",
     "output_type": "stream",
     "text": [
      "tensor([1.7256e-32, 1.4620e-06, 1.0000e+00, 2.6834e-20], device='cuda:0',\n",
      "       grad_fn=<SelectBackward0>)\n",
      "tensor([0., 1., 0., 0.], device='cuda:0')\n",
      "Epoch: 70, Validation Loss: 1.3534, Validation Accuracy: 36.91%\n"
     ]
    },
    {
     "name": "stderr",
     "output_type": "stream",
     "text": [
      " 72%|███████▏  | 72/100 [1:09:38<26:54, 57.67s/it]"
     ]
    },
    {
     "name": "stdout",
     "output_type": "stream",
     "text": [
      "tensor([9.9993e-01, 6.0924e-05, 2.7803e-06, 2.6188e-06], device='cuda:0',\n",
      "       grad_fn=<SelectBackward0>)\n",
      "tensor([0., 1., 0., 0.], device='cuda:0')\n",
      "Epoch: 71, Validation Loss: 1.3454, Validation Accuracy: 37.69%\n"
     ]
    },
    {
     "name": "stderr",
     "output_type": "stream",
     "text": [
      " 73%|███████▎  | 73/100 [1:10:35<25:56, 57.64s/it]"
     ]
    },
    {
     "name": "stdout",
     "output_type": "stream",
     "text": [
      "tensor([1.9806e-06, 7.9927e-01, 2.0032e-01, 4.0726e-04], device='cuda:0',\n",
      "       grad_fn=<SelectBackward0>)\n",
      "tensor([0., 1., 0., 0.], device='cuda:0')\n",
      "Epoch: 72, Validation Loss: 1.3523, Validation Accuracy: 37.01%\n"
     ]
    },
    {
     "name": "stderr",
     "output_type": "stream",
     "text": [
      " 74%|███████▍  | 74/100 [1:11:33<25:02, 57.80s/it]"
     ]
    },
    {
     "name": "stdout",
     "output_type": "stream",
     "text": [
      "tensor([0.0009, 0.8126, 0.1715, 0.0150], device='cuda:0',\n",
      "       grad_fn=<SelectBackward0>)\n",
      "tensor([0., 0., 1., 0.], device='cuda:0')\n",
      "Epoch: 73, Validation Loss: 1.3497, Validation Accuracy: 37.87%\n"
     ]
    },
    {
     "name": "stderr",
     "output_type": "stream",
     "text": [
      " 75%|███████▌  | 75/100 [1:12:33<24:16, 58.28s/it]"
     ]
    },
    {
     "name": "stdout",
     "output_type": "stream",
     "text": [
      "tensor([1.0000e+00, 2.9353e-10, 1.1842e-12, 2.5911e-12], device='cuda:0',\n",
      "       grad_fn=<SelectBackward0>)\n",
      "tensor([1., 0., 0., 0.], device='cuda:0')\n",
      "Epoch: 74, Validation Loss: 1.3479, Validation Accuracy: 37.71%\n"
     ]
    },
    {
     "name": "stderr",
     "output_type": "stream",
     "text": [
      " 76%|███████▌  | 76/100 [1:13:33<23:34, 58.95s/it]"
     ]
    },
    {
     "name": "stdout",
     "output_type": "stream",
     "text": [
      "tensor([1., 0., 0., 0.], device='cuda:0', grad_fn=<SelectBackward0>)\n",
      "tensor([1., 0., 0., 0.], device='cuda:0')\n",
      "Epoch: 75, Validation Loss: 1.3494, Validation Accuracy: 37.15%\n"
     ]
    },
    {
     "name": "stderr",
     "output_type": "stream",
     "text": [
      " 77%|███████▋  | 77/100 [1:14:34<22:48, 59.49s/it]"
     ]
    },
    {
     "name": "stdout",
     "output_type": "stream",
     "text": [
      "tensor([0.2641, 0.4114, 0.1395, 0.1850], device='cuda:0',\n",
      "       grad_fn=<SelectBackward0>)\n",
      "tensor([1., 0., 0., 0.], device='cuda:0')\n",
      "Epoch: 76, Validation Loss: 1.3393, Validation Accuracy: 38.55%\n"
     ]
    },
    {
     "name": "stderr",
     "output_type": "stream",
     "text": [
      " 78%|███████▊  | 78/100 [1:15:34<21:54, 59.76s/it]"
     ]
    },
    {
     "name": "stdout",
     "output_type": "stream",
     "text": [
      "tensor([6.0472e-34, 4.4301e-07, 1.0000e+00, 2.4464e-22], device='cuda:0',\n",
      "       grad_fn=<SelectBackward0>)\n",
      "tensor([0., 0., 1., 0.], device='cuda:0')\n",
      "Epoch: 77, Validation Loss: 1.3575, Validation Accuracy: 37.21%\n"
     ]
    },
    {
     "name": "stderr",
     "output_type": "stream",
     "text": [
      " 79%|███████▉  | 79/100 [1:16:35<20:56, 59.83s/it]"
     ]
    },
    {
     "name": "stdout",
     "output_type": "stream",
     "text": [
      "tensor([1.0000e+00, 8.1972e-24, 3.6367e-28, 2.9014e-28], device='cuda:0',\n",
      "       grad_fn=<SelectBackward0>)\n",
      "tensor([1., 0., 0., 0.], device='cuda:0')\n",
      "Epoch: 78, Validation Loss: 1.3490, Validation Accuracy: 37.33%\n"
     ]
    },
    {
     "name": "stderr",
     "output_type": "stream",
     "text": [
      " 80%|████████  | 80/100 [1:17:36<20:05, 60.25s/it]"
     ]
    },
    {
     "name": "stdout",
     "output_type": "stream",
     "text": [
      "tensor([1.6808e-07, 8.6129e-02, 9.1382e-01, 5.5839e-05], device='cuda:0',\n",
      "       grad_fn=<SelectBackward0>)\n",
      "tensor([0., 0., 1., 0.], device='cuda:0')\n",
      "Epoch: 79, Validation Loss: 1.3467, Validation Accuracy: 37.76%\n"
     ]
    },
    {
     "name": "stderr",
     "output_type": "stream",
     "text": [
      " 81%|████████  | 81/100 [1:18:37<19:10, 60.54s/it]"
     ]
    },
    {
     "name": "stdout",
     "output_type": "stream",
     "text": [
      "tensor([5.3115e-08, 9.6549e-06, 7.1480e-08, 9.9999e-01], device='cuda:0',\n",
      "       grad_fn=<SelectBackward0>)\n",
      "tensor([0., 0., 0., 1.], device='cuda:0')\n",
      "Epoch: 80, Validation Loss: 1.3461, Validation Accuracy: 38.05%\n"
     ]
    },
    {
     "name": "stderr",
     "output_type": "stream",
     "text": [
      " 82%|████████▏ | 82/100 [1:19:38<18:13, 60.76s/it]"
     ]
    },
    {
     "name": "stdout",
     "output_type": "stream",
     "text": [
      "tensor([1.0000e+00, 1.9606e-11, 1.0359e-13, 7.1447e-14], device='cuda:0',\n",
      "       grad_fn=<SelectBackward0>)\n",
      "tensor([1., 0., 0., 0.], device='cuda:0')\n",
      "Epoch: 81, Validation Loss: 1.3515, Validation Accuracy: 37.49%\n"
     ]
    },
    {
     "name": "stderr",
     "output_type": "stream",
     "text": [
      " 83%|████████▎ | 83/100 [1:20:39<17:13, 60.77s/it]"
     ]
    },
    {
     "name": "stdout",
     "output_type": "stream",
     "text": [
      "tensor([1.0000e+00, 2.0271e-19, 6.2425e-23, 3.2479e-23], device='cuda:0',\n",
      "       grad_fn=<SelectBackward0>)\n",
      "tensor([1., 0., 0., 0.], device='cuda:0')\n",
      "Epoch: 82, Validation Loss: 1.3526, Validation Accuracy: 37.46%\n"
     ]
    },
    {
     "name": "stderr",
     "output_type": "stream",
     "text": [
      " 84%|████████▍ | 84/100 [1:21:38<16:04, 60.26s/it]"
     ]
    },
    {
     "name": "stdout",
     "output_type": "stream",
     "text": [
      "tensor([1.0000e+00, 1.0988e-06, 6.2796e-08, 4.9007e-09], device='cuda:0',\n",
      "       grad_fn=<SelectBackward0>)\n",
      "tensor([0., 0., 1., 0.], device='cuda:0')\n",
      "Epoch: 83, Validation Loss: 1.3496, Validation Accuracy: 37.68%\n"
     ]
    }
   ],
   "source": [
    "for train_indices, val_indices in kf.split(MNE_Data, labels):\n",
    "    train_dataset = torch.utils.data.Subset(MNE_Data, train_indices)\n",
    "    val_dataset = torch.utils.data.Subset(MNE_Data, val_indices)\n",
    "\n",
    "    train_dataloader = torch.utils.data.DataLoader(train_dataset, batch_size=1, shuffle=True)\n",
    "    val_dataloader = torch.utils.data.DataLoader(val_dataset, batch_size=1, shuffle=False)\n",
    "\n",
    "    test_log = []\n",
    "    log = []\n",
    "\n",
    "\n",
    "    model = config\n",
    "    optimizer = optim.Adam(model.parameters(), lr=0.001)\n",
    "\n",
    "    for epoch in trange(epochs):\n",
    "        \n",
    "        model.train()   \n",
    "        for index, data in enumerate(train_dataloader):\n",
    "                \n",
    "                x, y = data\n",
    "                y = y.to(torch.float64)\n",
    "                x = x.reshape(-1, 1, 19, 3000).float()\n",
    "                x = x[torch.randperm(x.shape[0])]\n",
    "                y = F.one_hot(torch.tensor(torch.tensor([y.item()]).to(torch.int64)), num_classes=4).expand(x.shape[0], -1).float()\n",
    "                \n",
    "                train_count = x.shape[0]\n",
    "                x, y = x.to(device), y.to(device)\n",
    "                y_pred = model(x)\n",
    "                loss = criterion(y_pred, y)\n",
    "                \n",
    "                optimizer.zero_grad()\n",
    "                loss.backward()\n",
    "                optimizer.step()\n",
    "                #scheduler.step()\n",
    "                torch.cuda.empty_cache()\n",
    "\n",
    "    \n",
    "        model.eval()\n",
    "        val_loss = 0\n",
    "        val_log = []\n",
    "        with torch.no_grad():\n",
    "            for batch_idx, (data, target) in enumerate(val_dataloader):\n",
    "                        data = data.reshape(-1, 1, 19, 3000).float().cuda()\n",
    "                        target = F.one_hot(torch.tensor(torch.tensor([target.item()]).to(torch.int64)), num_classes=4).expand(data.shape[0], -1).float().cuda()\n",
    "                        \n",
    "\n",
    "                        output = model(data)\n",
    "\n",
    "                        \n",
    "\n",
    "                        loss = criterion(output, target)\n",
    "                        \n",
    "                        val_loss += loss.item()\n",
    "\n",
    "                        val_log.append(Accuracy(output, target, target.shape[0]))\n",
    "\n",
    "        print(model(x.cuda())[-1])     \n",
    "        print(y[-1])           \n",
    "        print('Epoch: {}, Validation Loss: {:.4f}, Validation Accuracy: {:.2f}%'.format(\n",
    "                    epoch, val_loss / len(val_dataloader), statistics.mean(val_log)))\n",
    "\n",
    "    model_list.append(model)\n",
    "        \n",
    "\n",
    "\n",
    "    \n"
   ]
  },
  {
   "cell_type": "code",
   "execution_count": null,
   "metadata": {},
   "outputs": [
    {
     "name": "stdout",
     "output_type": "stream",
     "text": [
      "Test Accuracy: 23.131672597864767\n"
     ]
    },
    {
     "data": {
      "text/plain": [
       "(array([65., 37., 90., 89.]),\n",
       " tensor([[1.4743e-31, 1.6310e-10, 1.0000e+00, 2.1900e-24],\n",
       "         [1.6089e-04, 1.0834e-01, 8.0976e-03, 8.8340e-01],\n",
       "         [6.2954e-09, 2.9452e-03, 9.9705e-01, 1.9661e-07],\n",
       "         ...,\n",
       "         [1.6314e-04, 7.8533e-02, 4.2660e-03, 9.1704e-01],\n",
       "         [3.5881e-08, 5.4861e-03, 9.9451e-01, 1.5662e-06],\n",
       "         [7.4658e-06, 3.4232e-02, 9.6568e-01, 8.1046e-05]], device='cuda:0',\n",
       "        grad_fn=<SoftmaxBackward0>))"
      ]
     },
     "execution_count": 53,
     "metadata": {},
     "output_type": "execute_result"
    }
   ],
   "source": [
    "test_model = model_list[2]\n",
    "test(test_path=r\"C:\\Users\\admin\\Desktop\\TEST\\FOCAL\\zahmatbin.fif\", model=test_model, test_class= 0)"
   ]
  },
  {
   "cell_type": "code",
   "execution_count": null,
   "metadata": {},
   "outputs": [
    {
     "data": {
      "text/plain": [
       "\"\\nstate_dict = model.state_dict()\\navg_state_dict = state_dict\\nfor key in state_dict:\\n    avg_state_dict[key] += state_dict[key]\\n    print(state_dict[key].shape)\\n    print('lol')\\n    \""
      ]
     },
     "execution_count": 36,
     "metadata": {},
     "output_type": "execute_result"
    }
   ],
   "source": [
    "\"\"\"\n",
    "state_dict = model.state_dict()\n",
    "avg_state_dict = state_dict\n",
    "for key in state_dict:\n",
    "    avg_state_dict[key] += state_dict[key]\n",
    "    print(state_dict[key].shape)\n",
    "    print('lol')\n",
    "    \"\"\""
   ]
  },
  {
   "cell_type": "code",
   "execution_count": null,
   "metadata": {},
   "outputs": [],
   "source": [
    "test_model = model_list[0]"
   ]
  },
  {
   "cell_type": "code",
   "execution_count": null,
   "metadata": {},
   "outputs": [
    {
     "name": "stdout",
     "output_type": "stream",
     "text": [
      "Test Accuracy: 51.95729537366548\n"
     ]
    },
    {
     "data": {
      "text/plain": [
       "(array([146., 106.,  15.,  14.]),\n",
       " tensor([[8.8442e-01, 1.1008e-01, 5.4600e-03, 3.8965e-05],\n",
       "         [9.9245e-01, 7.4040e-03, 1.4256e-04, 9.8928e-07],\n",
       "         [9.9193e-01, 7.7498e-03, 3.2317e-04, 1.6995e-06],\n",
       "         ...,\n",
       "         [1.5126e-01, 7.6858e-01, 7.3789e-02, 6.3660e-03],\n",
       "         [3.6706e-04, 5.0423e-01, 2.7345e-01, 2.2195e-01],\n",
       "         [3.6685e-01, 6.0269e-01, 2.9392e-02, 1.0718e-03]], device='cuda:0',\n",
       "        grad_fn=<SoftmaxBackward0>))"
      ]
     },
     "execution_count": 17,
     "metadata": {},
     "output_type": "execute_result"
    }
   ],
   "source": [
    "test(test_path=r\"C:\\Users\\admin\\Desktop\\TEST\\FOCAL\\zahmatbin.fif\", model=model, test_class= 0)"
   ]
  },
  {
   "cell_type": "code",
   "execution_count": null,
   "metadata": {},
   "outputs": [
    {
     "data": {
      "text/plain": [
       "<All keys matched successfully>"
      ]
     },
     "execution_count": 14,
     "metadata": {},
     "output_type": "execute_result"
    }
   ],
   "source": [
    "file_path = 'D:\\model weights\\model_weights.pth'\n",
    "torch.save(model.state_dict(), file_path)\n",
    "model.load_state_dict(torch.load(file_path))"
   ]
  }
 ],
 "metadata": {
  "kernelspec": {
   "display_name": "base",
   "language": "python",
   "name": "python3"
  },
  "language_info": {
   "codemirror_mode": {
    "name": "ipython",
    "version": 3
   },
   "file_extension": ".py",
   "mimetype": "text/x-python",
   "name": "python",
   "nbconvert_exporter": "python",
   "pygments_lexer": "ipython3",
   "version": "3.9.13"
  }
 },
 "nbformat": 4,
 "nbformat_minor": 2
}
