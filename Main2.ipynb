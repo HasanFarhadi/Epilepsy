{
 "cells": [
  {
   "cell_type": "code",
   "execution_count": 1,
   "metadata": {},
   "outputs": [],
   "source": [
    "import os\n",
    "import warnings\n",
    "os.environ[\"KMP_DUPLICATE_LIB_OK\"]=\"TRUE\"\n",
    "#os.environ['CUDA_LAUNCH_BLOCKING'] = str(1)\n",
    "#os.environ[\"TORCH_USE_CUDA_DSA\"]= str(0)\n",
    "warnings.filterwarnings('ignore') \n"
   ]
  },
  {
   "cell_type": "code",
   "execution_count": 2,
   "metadata": {},
   "outputs": [],
   "source": [
    "import copy\n",
    "import torch\n",
    "import torch.nn as nn\n",
    "from torch.nn import functional as F\n",
    "from torch.utils.data import Dataset\n",
    "import torch.optim as optim\n",
    "from torch.autograd import Variable\n",
    "from tqdm import tqdm\n",
    "import numpy as np\n",
    "import pandas as pd\n",
    "import matplotlib.pyplot as plt\n",
    "import time\n",
    "import math\n",
    "from collections import OrderedDict\n",
    "import random\n",
    "from torchsummary import summary\n",
    "from torchvision import transforms\n",
    "from torch.utils.data import Dataset\n",
    "import sys\n",
    "import torch\n",
    "import numpy as np\n",
    "from tqdm import trange\n",
    "from torch.utils.data import DataLoader\n",
    "from sklearn.metrics import accuracy_score\n",
    "from sklearn.model_selection import train_test_split\n",
    "import mne\n",
    "from sklearn.preprocessing import StandardScaler\n",
    "import logging\n",
    "from torch.nn.utils.rnn import pack_sequence, pad_packed_sequence\n",
    "import statistics\n",
    "import torch.optim.lr_scheduler as lr_scheduler\n",
    "from scipy.special import softmax\n",
    "from sklearn.model_selection import StratifiedKFold"
   ]
  },
  {
   "cell_type": "code",
   "execution_count": 3,
   "metadata": {},
   "outputs": [
    {
     "name": "stdout",
     "output_type": "stream",
     "text": [
      "importing Jupyter notebook from Dataloader2.ipynb\n"
     ]
    }
   ],
   "source": [
    "logging.getLogger('mne').setLevel(logging.WARNING)\n",
    "device = torch.device(\"cuda\" if torch.cuda.is_available() else \"cpu\")\n",
    "import import_ipynb\n",
    "#from Model import net\n",
    "from Dataloader2 import EEGDataset"
   ]
  },
  {
   "cell_type": "code",
   "execution_count": 4,
   "metadata": {},
   "outputs": [],
   "source": [
    "def Accuracy(y_pred, y, train_count):\n",
    "    max_values, _ = torch.max(y_pred, dim=1, keepdim=True)\n",
    "    mask = y_pred == max_values\n",
    "    y_pred = mask.int()\n",
    "    correct_num = torch.sum(torch.all(torch.eq(y, y_pred), dim=1)).item()\n",
    "    accuracy = correct_num / train_count\n",
    "    return accuracy * 100"
   ]
  },
  {
   "cell_type": "code",
   "execution_count": 5,
   "metadata": {},
   "outputs": [],
   "source": [
    "def test(model, test_path, test_class, verbose=True):\n",
    "    \n",
    "\n",
    "    x_test = mne.read_epochs(test_path, preload=False).get_data(picks='eeg');\n",
    "    normals = []\n",
    "    scaler = StandardScaler()\n",
    "    for idx in range(len(x_test)):\n",
    "        normals.append(scaler.fit_transform(x_test[idx]))\n",
    "    normals = torch.tensor(normals).cuda().float()\n",
    "    result = torch.argmax(model(normals), axis=1)\n",
    "    unique_elements, counts = torch.unique(result, return_counts=True)\n",
    "\n",
    "    votes = np.zeros([4])\n",
    "    for i in range(len(unique_elements)):\n",
    "        votes[unique_elements[i]] = counts[i]\n",
    "\n",
    "\n",
    "    if(verbose):\n",
    "        print(f\"Test Accuracy: {(votes[test_class] / result.shape[0]) * 100}\")\n",
    "    return votes\n"
   ]
  },
  {
   "cell_type": "code",
   "execution_count": 6,
   "metadata": {},
   "outputs": [],
   "source": [
    "class net(nn.Module):\n",
    "    def __init__(self, T, C, input_size, hidden_size, num_layers, spatial_num, dropout, pool):\n",
    "        super(net, self).__init__()\n",
    "        \n",
    "        self.T = T\n",
    "        self.C = C\n",
    "        self.spatial_num = spatial_num\n",
    "        self.dropout = dropout\n",
    "        self.pool = pool\n",
    "\n",
    "        self.input_size = input_size\n",
    "        self.hidden_size = hidden_size\n",
    "        self.num_layers = num_layers\n",
    "\n",
    "        self.cell_count = self.T // self.input_size\n",
    "\n",
    "        self.fcn_in = (spatial_num * self.hidden_size)\n",
    "\n",
    "        self._lstm = nn.LSTM(self.input_size, self.hidden_size, self.num_layers, batch_first=True)\n",
    "\n",
    "        self.lstm = nn.ModuleList([self._lstm for i in range(self.C)])\n",
    "\n",
    "        self.cnn_block = nn.Sequential(nn.Conv2d(1, self.spatial_num, (self.C, 1)),\n",
    "                                       nn.BatchNorm2d(self.spatial_num),\n",
    "                                       nn.ELU(),\n",
    "\n",
    "\n",
    "\n",
    "                                       nn.Dropout(self.dropout))\n",
    "\n",
    "        \n",
    "        self.fcn = nn.Sequential(nn.Linear(self.fcn_in, 128), \n",
    "                                 nn.ReLU(),\n",
    "                                 nn.Linear(128, 16),\n",
    "                                 nn.Dropout(self.dropout),\n",
    "                                 nn.ReLU(),\n",
    "                                 nn.Linear(16, 4))\n",
    "\n",
    "        #self.fcn = nn.Linear(self.fcn_in, 4)\n",
    "        self.results = nn.Softmax(dim=1)\n",
    "    def forward(self, x):\n",
    "        x = x.reshape(-1, 1, 19, 3000)\n",
    "        self.N = x.shape[0]\n",
    "        x = x.reshape(self.N, self.C, self.cell_count, self.input_size)\n",
    "        _x = None\n",
    "\n",
    "        for index, cell in enumerate(self.lstm):\n",
    "            cell_out, _ = cell(x[:, index, :, :], None)\n",
    "            last_layer_out = cell_out[:, -1, :]\n",
    "            \n",
    "            last_layer_out = last_layer_out.unsqueeze(0)\n",
    "            if _x is None:\n",
    "                _x = last_layer_out\n",
    "            else:\n",
    "                _x = torch.cat((_x, last_layer_out), dim=0)\n",
    "            \n",
    "\n",
    "        x = _x.permute(1, 0, 2).unsqueeze(1)\n",
    "\n",
    "        x = self.cnn_block(x)\n",
    "\n",
    "\n",
    "        x = x.reshape(self.N, -1)\n",
    "\n",
    "        x = self.fcn(x)\n",
    "        x = self.results(x)\n",
    "\n",
    "        return x"
   ]
  },
  {
   "cell_type": "code",
   "execution_count": 7,
   "metadata": {},
   "outputs": [
    {
     "data": {
      "text/plain": [
       "torch.Size([7, 4])"
      ]
     },
     "execution_count": 7,
     "metadata": {},
     "output_type": "execute_result"
    }
   ],
   "source": [
    "class CNN_LSTM(nn.Module):\n",
    "    def __init__(self, num_classes, hidden_size):\n",
    "        super(CNN_LSTM, self).__init__()\n",
    "        \n",
    "        self.num_classes = num_classes\n",
    "        self.hidden_size =hidden_size\n",
    "        self.dropout = 0.5\n",
    "        # CNN layers\n",
    "        self.conv1 = nn.Conv1d(19, 32, kernel_size=3, stride=1, padding=1)\n",
    "        self.conv2 = nn.Conv1d(32, 64, kernel_size=3, stride=1, padding=1)\n",
    "        self.conv3 = nn.Conv1d(64, 128, kernel_size=3, stride=1, padding=1)\n",
    "        self.pool = nn.MaxPool1d(2)\n",
    "        \n",
    "        # LSTM layers\n",
    "        self.lstm = nn.LSTM(3000, self.hidden_size, num_layers=1, batch_first=True)\n",
    "        \n",
    "        # Fully connected layer\n",
    "        self.fc = nn.Sequential(nn.Linear(self.hidden_size * 128, 128), \n",
    "                                 nn.ReLU(),\n",
    "                                 nn.Linear(128, 16),\n",
    "                                 nn.Dropout(self.dropout),\n",
    "                                 nn.ReLU(),\n",
    "                                 nn.Linear(16, self.num_classes))\n",
    "        \n",
    "\n",
    "        self.results = nn.Softmax(dim=1)\n",
    "        \n",
    "        \n",
    "    def forward(self, x):\n",
    "        x = x.reshape(-1, 19, 3000)\n",
    "        self.N = x.shape[0]\n",
    "        # Apply CNN\n",
    "        x = F.relu(self.conv1(x))\n",
    "        #x = self.pool(x)\n",
    "        \n",
    "        \n",
    "        x = F.relu(self.conv2(x))\n",
    "        #x = self.pool(x)\n",
    "        \n",
    "        x = F.relu(self.conv3(x))\n",
    "        # Reshape for LSTM\n",
    "        \n",
    "        #x = x.transpose(1, 2)\n",
    "        xx = x\n",
    "        # Apply LSTM\n",
    "        h_n, (__, _) = self.lstm(x)\n",
    "\n",
    "        x = h_n[:, :, :]\n",
    "        \n",
    "        # Apply fully connected layer\n",
    "        x = x.reshape(self.N, -1)\n",
    "        x = self.fc(x)\n",
    "        x = self.results(x)\n",
    "        \"\"\"\n",
    "        \"\"\"\n",
    "        return x\n",
    "    \n",
    "model = CNN_LSTM(num_classes=4, hidden_size=100).cuda()\n",
    "model(torch.rand(7, 19, 3000).cuda()).shape"
   ]
  },
  {
   "cell_type": "code",
   "execution_count": 8,
   "metadata": {},
   "outputs": [],
   "source": [
    "MNE_Data = EEGDataset(root_dir=r\"C:\\Users\\admin\\Desktop\\MNE_Data\")\n",
    "labels = MNE_Data.labels\n",
    "#MNE_Data = EEGDataset(root_dir=r\"D:\\TEST MNE\")\n",
    "test_path = r\"C:\\Users\\admin\\Desktop\\TEST\\amirifateme.fif\"\n",
    "test_class = 0"
   ]
  },
  {
   "cell_type": "code",
   "execution_count": 9,
   "metadata": {},
   "outputs": [],
   "source": [
    "train_dataloader = DataLoader(MNE_Data, batch_size=1, shuffle=True)"
   ]
  },
  {
   "cell_type": "code",
   "execution_count": 10,
   "metadata": {},
   "outputs": [
    {
     "name": "stdout",
     "output_type": "stream",
     "text": [
      "Number of parameters: 5089660\n"
     ]
    }
   ],
   "source": [
    "model = net(T = 3000, C = 19, input_size = 3000, hidden_size = 100, num_layers=1, spatial_num= 300, dropout=0.5, pool=1).to(device)\n",
    "#model = CNN_LSTM(num_classes=4, hidden_size=100).cuda()\n",
    "num_params = sum(p.numel() for p in model.parameters())\n",
    "print(\"Number of parameters:\", num_params)"
   ]
  },
  {
   "cell_type": "code",
   "execution_count": 11,
   "metadata": {},
   "outputs": [],
   "source": [
    "criterion = nn.CrossEntropyLoss(weight = torch.Tensor([5.3125, 1.8333, 3.5417, 6.6667]).cuda())\n",
    "\n",
    "optimizer = optim.Adam(model.parameters(), lr=0.001)\n",
    "#optimizer = optim.Adagrad(model.parameters(), lr=0.001)\n",
    "\n",
    "\n",
    "scheduler = lr_scheduler.ExponentialLR(optimizer, gamma=0.1)\n",
    "epochs = 40\n",
    "kf = StratifiedKFold(n_splits=5)\n",
    "model_list = []"
   ]
  },
  {
   "cell_type": "code",
   "execution_count": 12,
   "metadata": {},
   "outputs": [
    {
     "name": "stderr",
     "output_type": "stream",
     "text": [
      "  2%|▎         | 1/40 [00:47<30:38, 47.14s/it]"
     ]
    },
    {
     "name": "stdout",
     "output_type": "stream",
     "text": [
      "tensor([5.4358e-06, 9.9991e-01, 8.0506e-05, 8.0854e-06], device='cuda:0',\n",
      "       grad_fn=<SelectBackward0>)\n",
      "tensor([0., 0., 1., 0.], device='cuda:0')\n",
      "Epoch: 0, Validation Loss: 5.9834, Validation Accuracy: 35.29%\n"
     ]
    },
    {
     "name": "stderr",
     "output_type": "stream",
     "text": [
      "  5%|▌         | 2/40 [01:34<29:46, 47.00s/it]"
     ]
    },
    {
     "name": "stdout",
     "output_type": "stream",
     "text": [
      "tensor([0.2712, 0.2465, 0.2343, 0.2480], device='cuda:0',\n",
      "       grad_fn=<SelectBackward0>)\n",
      "tensor([0., 1., 0., 0.], device='cuda:0')\n",
      "Epoch: 1, Validation Loss: 5.2731, Validation Accuracy: 17.65%\n"
     ]
    },
    {
     "name": "stderr",
     "output_type": "stream",
     "text": [
      "  8%|▊         | 3/40 [02:20<28:53, 46.86s/it]"
     ]
    },
    {
     "name": "stdout",
     "output_type": "stream",
     "text": [
      "tensor([0.2704, 0.2428, 0.2359, 0.2509], device='cuda:0',\n",
      "       grad_fn=<SelectBackward0>)\n",
      "tensor([0., 0., 1., 0.], device='cuda:0')\n",
      "Epoch: 2, Validation Loss: 5.2711, Validation Accuracy: 17.67%\n"
     ]
    },
    {
     "name": "stderr",
     "output_type": "stream",
     "text": [
      " 10%|█         | 4/40 [03:08<28:13, 47.04s/it]"
     ]
    },
    {
     "name": "stdout",
     "output_type": "stream",
     "text": [
      "tensor([0.2702, 0.2393, 0.2362, 0.2543], device='cuda:0',\n",
      "       grad_fn=<SelectBackward0>)\n",
      "tensor([0., 1., 0., 0.], device='cuda:0')\n",
      "Epoch: 3, Validation Loss: 5.2694, Validation Accuracy: 17.72%\n"
     ]
    },
    {
     "name": "stderr",
     "output_type": "stream",
     "text": [
      " 12%|█▎        | 5/40 [03:55<27:25, 47.01s/it]"
     ]
    },
    {
     "name": "stdout",
     "output_type": "stream",
     "text": [
      "tensor([0.2706, 0.2357, 0.2380, 0.2557], device='cuda:0',\n",
      "       grad_fn=<SelectBackward0>)\n",
      "tensor([0., 1., 0., 0.], device='cuda:0')\n",
      "Epoch: 4, Validation Loss: 5.2678, Validation Accuracy: 17.65%\n"
     ]
    },
    {
     "name": "stderr",
     "output_type": "stream",
     "text": [
      " 15%|█▌        | 6/40 [04:43<26:59, 47.64s/it]"
     ]
    },
    {
     "name": "stdout",
     "output_type": "stream",
     "text": [
      "tensor([0.2706, 0.2326, 0.2382, 0.2587], device='cuda:0',\n",
      "       grad_fn=<SelectBackward0>)\n",
      "tensor([0., 0., 1., 0.], device='cuda:0')\n",
      "Epoch: 5, Validation Loss: 5.2661, Validation Accuracy: 17.89%\n"
     ]
    },
    {
     "name": "stderr",
     "output_type": "stream",
     "text": [
      " 18%|█▊        | 7/40 [05:32<26:26, 48.09s/it]"
     ]
    },
    {
     "name": "stdout",
     "output_type": "stream",
     "text": [
      "tensor([0.2711, 0.2300, 0.2396, 0.2593], device='cuda:0',\n",
      "       grad_fn=<SelectBackward0>)\n",
      "tensor([1., 0., 0., 0.], device='cuda:0')\n",
      "Epoch: 6, Validation Loss: 5.2650, Validation Accuracy: 17.70%\n"
     ]
    },
    {
     "name": "stderr",
     "output_type": "stream",
     "text": [
      " 20%|██        | 8/40 [06:20<25:35, 48.00s/it]"
     ]
    },
    {
     "name": "stdout",
     "output_type": "stream",
     "text": [
      "tensor([0.1337, 0.2337, 0.3730, 0.2595], device='cuda:0',\n",
      "       grad_fn=<SelectBackward0>)\n",
      "tensor([0., 1., 0., 0.], device='cuda:0')\n",
      "Epoch: 7, Validation Loss: 5.2638, Validation Accuracy: 21.79%\n"
     ]
    },
    {
     "name": "stderr",
     "output_type": "stream",
     "text": [
      " 22%|██▎       | 9/40 [07:07<24:39, 47.72s/it]"
     ]
    },
    {
     "name": "stdout",
     "output_type": "stream",
     "text": [
      "tensor([0.2718, 0.2234, 0.2401, 0.2646], device='cuda:0',\n",
      "       grad_fn=<SelectBackward0>)\n",
      "tensor([0., 0., 0., 1.], device='cuda:0')\n",
      "Epoch: 8, Validation Loss: 5.2594, Validation Accuracy: 18.00%\n"
     ]
    },
    {
     "name": "stderr",
     "output_type": "stream",
     "text": [
      " 25%|██▌       | 10/40 [07:54<23:41, 47.37s/it]"
     ]
    },
    {
     "name": "stdout",
     "output_type": "stream",
     "text": [
      "tensor([0.2711, 0.2208, 0.2410, 0.2671], device='cuda:0',\n",
      "       grad_fn=<SelectBackward0>)\n",
      "tensor([0., 0., 1., 0.], device='cuda:0')\n",
      "Epoch: 9, Validation Loss: 5.2549, Validation Accuracy: 18.35%\n"
     ]
    },
    {
     "name": "stderr",
     "output_type": "stream",
     "text": [
      " 28%|██▊       | 11/40 [08:42<22:56, 47.48s/it]"
     ]
    },
    {
     "name": "stdout",
     "output_type": "stream",
     "text": [
      "tensor([0.2706, 0.2179, 0.2423, 0.2692], device='cuda:0',\n",
      "       grad_fn=<SelectBackward0>)\n",
      "tensor([1., 0., 0., 0.], device='cuda:0')\n",
      "Epoch: 10, Validation Loss: 5.2462, Validation Accuracy: 19.98%\n"
     ]
    },
    {
     "name": "stderr",
     "output_type": "stream",
     "text": [
      " 30%|███       | 12/40 [09:30<22:18, 47.79s/it]"
     ]
    },
    {
     "name": "stdout",
     "output_type": "stream",
     "text": [
      "tensor([0.2725, 0.2141, 0.2412, 0.2722], device='cuda:0',\n",
      "       grad_fn=<SelectBackward0>)\n",
      "tensor([0., 1., 0., 0.], device='cuda:0')\n",
      "Epoch: 11, Validation Loss: 5.2502, Validation Accuracy: 20.63%\n"
     ]
    },
    {
     "name": "stderr",
     "output_type": "stream",
     "text": [
      " 32%|███▎      | 13/40 [10:19<21:38, 48.07s/it]"
     ]
    },
    {
     "name": "stdout",
     "output_type": "stream",
     "text": [
      "tensor([0.2730, 0.2111, 0.2409, 0.2750], device='cuda:0',\n",
      "       grad_fn=<SelectBackward0>)\n",
      "tensor([1., 0., 0., 0.], device='cuda:0')\n",
      "Epoch: 12, Validation Loss: 5.2694, Validation Accuracy: 22.73%\n"
     ]
    },
    {
     "name": "stderr",
     "output_type": "stream",
     "text": [
      " 35%|███▌      | 14/40 [11:06<20:44, 47.86s/it]"
     ]
    },
    {
     "name": "stdout",
     "output_type": "stream",
     "text": [
      "tensor([3.8612e-07, 3.9155e-06, 1.0000e+00, 4.5043e-11], device='cuda:0',\n",
      "       grad_fn=<SelectBackward0>)\n",
      "tensor([0., 1., 0., 0.], device='cuda:0')\n",
      "Epoch: 13, Validation Loss: 5.4286, Validation Accuracy: 25.08%\n"
     ]
    },
    {
     "name": "stderr",
     "output_type": "stream",
     "text": [
      " 38%|███▊      | 15/40 [11:54<19:53, 47.74s/it]"
     ]
    },
    {
     "name": "stdout",
     "output_type": "stream",
     "text": [
      "tensor([3.0991e-12, 1.0000e+00, 7.9214e-13, 2.4696e-10], device='cuda:0',\n",
      "       grad_fn=<SelectBackward0>)\n",
      "tensor([0., 1., 0., 0.], device='cuda:0')\n",
      "Epoch: 14, Validation Loss: 5.2880, Validation Accuracy: 20.80%\n"
     ]
    },
    {
     "name": "stderr",
     "output_type": "stream",
     "text": [
      " 40%|████      | 16/40 [12:41<19:01, 47.57s/it]"
     ]
    },
    {
     "name": "stdout",
     "output_type": "stream",
     "text": [
      "tensor([0.2757, 0.2037, 0.2373, 0.2833], device='cuda:0',\n",
      "       grad_fn=<SelectBackward0>)\n",
      "tensor([0., 1., 0., 0.], device='cuda:0')\n",
      "Epoch: 15, Validation Loss: 5.2917, Validation Accuracy: 21.37%\n"
     ]
    },
    {
     "name": "stderr",
     "output_type": "stream",
     "text": [
      " 42%|████▎     | 17/40 [13:28<18:09, 47.38s/it]"
     ]
    },
    {
     "name": "stdout",
     "output_type": "stream",
     "text": [
      "tensor([0.2762, 0.2011, 0.2356, 0.2871], device='cuda:0',\n",
      "       grad_fn=<SelectBackward0>)\n",
      "tensor([0., 0., 1., 0.], device='cuda:0')\n",
      "Epoch: 16, Validation Loss: 5.3210, Validation Accuracy: 21.76%\n"
     ]
    },
    {
     "name": "stderr",
     "output_type": "stream",
     "text": [
      " 45%|████▌     | 18/40 [14:15<17:23, 47.45s/it]"
     ]
    },
    {
     "name": "stdout",
     "output_type": "stream",
     "text": [
      "tensor([1.6460e-23, 3.0534e-18, 1.0000e+00, 7.0177e-29], device='cuda:0',\n",
      "       grad_fn=<SelectBackward0>)\n",
      "tensor([0., 0., 1., 0.], device='cuda:0')\n",
      "Epoch: 17, Validation Loss: 5.3154, Validation Accuracy: 22.48%\n"
     ]
    },
    {
     "name": "stderr",
     "output_type": "stream",
     "text": [
      " 48%|████▊     | 19/40 [15:03<16:35, 47.39s/it]"
     ]
    },
    {
     "name": "stdout",
     "output_type": "stream",
     "text": [
      "tensor([3.3333e-15, 7.2799e-13, 1.0000e+00, 4.1452e-20], device='cuda:0',\n",
      "       grad_fn=<SelectBackward0>)\n",
      "tensor([0., 0., 1., 0.], device='cuda:0')\n",
      "Epoch: 18, Validation Loss: 5.2918, Validation Accuracy: 22.47%\n"
     ]
    },
    {
     "name": "stderr",
     "output_type": "stream",
     "text": [
      " 50%|█████     | 20/40 [15:50<15:49, 47.46s/it]"
     ]
    },
    {
     "name": "stdout",
     "output_type": "stream",
     "text": [
      "tensor([0.2789, 0.1935, 0.2310, 0.2966], device='cuda:0',\n",
      "       grad_fn=<SelectBackward0>)\n",
      "tensor([1., 0., 0., 0.], device='cuda:0')\n",
      "Epoch: 19, Validation Loss: 5.2953, Validation Accuracy: 21.19%\n"
     ]
    },
    {
     "name": "stderr",
     "output_type": "stream",
     "text": [
      " 52%|█████▎    | 21/40 [16:37<14:56, 47.21s/it]"
     ]
    },
    {
     "name": "stdout",
     "output_type": "stream",
     "text": [
      "tensor([1.5051e-18, 4.5545e-12, 1.0000e+00, 1.8796e-21], device='cuda:0',\n",
      "       grad_fn=<SelectBackward0>)\n",
      "tensor([0., 0., 1., 0.], device='cuda:0')\n",
      "Epoch: 20, Validation Loss: 5.3049, Validation Accuracy: 21.41%\n"
     ]
    },
    {
     "name": "stderr",
     "output_type": "stream",
     "text": [
      " 55%|█████▌    | 22/40 [17:25<14:15, 47.56s/it]"
     ]
    },
    {
     "name": "stdout",
     "output_type": "stream",
     "text": [
      "tensor([6.4021e-24, 4.6495e-21, 1.0000e+00, 2.3772e-31], device='cuda:0',\n",
      "       grad_fn=<SelectBackward0>)\n",
      "tensor([0., 0., 1., 0.], device='cuda:0')\n",
      "Epoch: 21, Validation Loss: 5.2957, Validation Accuracy: 21.60%\n"
     ]
    },
    {
     "name": "stderr",
     "output_type": "stream",
     "text": [
      " 57%|█████▊    | 23/40 [18:13<13:31, 47.75s/it]"
     ]
    },
    {
     "name": "stdout",
     "output_type": "stream",
     "text": [
      "tensor([0.2842, 0.1861, 0.2239, 0.3058], device='cuda:0',\n",
      "       grad_fn=<SelectBackward0>)\n",
      "tensor([0., 0., 0., 1.], device='cuda:0')\n",
      "Epoch: 22, Validation Loss: 5.3201, Validation Accuracy: 21.62%\n"
     ]
    },
    {
     "name": "stderr",
     "output_type": "stream",
     "text": [
      " 60%|██████    | 24/40 [19:01<12:41, 47.62s/it]"
     ]
    },
    {
     "name": "stdout",
     "output_type": "stream",
     "text": [
      "tensor([0.2851, 0.1834, 0.2220, 0.3095], device='cuda:0',\n",
      "       grad_fn=<SelectBackward0>)\n",
      "tensor([0., 0., 0., 1.], device='cuda:0')\n",
      "Epoch: 23, Validation Loss: 5.3206, Validation Accuracy: 22.20%\n"
     ]
    },
    {
     "name": "stderr",
     "output_type": "stream",
     "text": [
      " 62%|██████▎   | 25/40 [19:48<11:51, 47.46s/it]"
     ]
    },
    {
     "name": "stdout",
     "output_type": "stream",
     "text": [
      "tensor([0.2872, 0.1809, 0.2183, 0.3136], device='cuda:0',\n",
      "       grad_fn=<SelectBackward0>)\n",
      "tensor([0., 0., 1., 0.], device='cuda:0')\n",
      "Epoch: 24, Validation Loss: 5.3565, Validation Accuracy: 21.93%\n"
     ]
    },
    {
     "name": "stderr",
     "output_type": "stream",
     "text": [
      " 65%|██████▌   | 26/40 [20:34<10:58, 47.04s/it]"
     ]
    },
    {
     "name": "stdout",
     "output_type": "stream",
     "text": [
      "tensor([0.2883, 0.1785, 0.2171, 0.3160], device='cuda:0',\n",
      "       grad_fn=<SelectBackward0>)\n",
      "tensor([0., 0., 0., 1.], device='cuda:0')\n",
      "Epoch: 25, Validation Loss: 5.3227, Validation Accuracy: 21.83%\n"
     ]
    },
    {
     "name": "stderr",
     "output_type": "stream",
     "text": [
      " 68%|██████▊   | 27/40 [21:20<10:09, 46.90s/it]"
     ]
    },
    {
     "name": "stdout",
     "output_type": "stream",
     "text": [
      "tensor([0.2892, 0.1760, 0.2144, 0.3204], device='cuda:0',\n",
      "       grad_fn=<SelectBackward0>)\n",
      "tensor([0., 0., 1., 0.], device='cuda:0')\n",
      "Epoch: 26, Validation Loss: 5.3173, Validation Accuracy: 21.64%\n"
     ]
    },
    {
     "name": "stderr",
     "output_type": "stream",
     "text": [
      " 70%|███████   | 28/40 [22:07<09:20, 46.74s/it]"
     ]
    },
    {
     "name": "stdout",
     "output_type": "stream",
     "text": [
      "tensor([0.2908, 0.1737, 0.2119, 0.3236], device='cuda:0',\n",
      "       grad_fn=<SelectBackward0>)\n",
      "tensor([0., 0., 0., 1.], device='cuda:0')\n",
      "Epoch: 27, Validation Loss: 5.3172, Validation Accuracy: 21.28%\n"
     ]
    },
    {
     "name": "stderr",
     "output_type": "stream",
     "text": [
      " 72%|███████▎  | 29/40 [22:53<08:32, 46.55s/it]"
     ]
    },
    {
     "name": "stdout",
     "output_type": "stream",
     "text": [
      "tensor([0.2915, 0.1709, 0.2095, 0.3281], device='cuda:0',\n",
      "       grad_fn=<SelectBackward0>)\n",
      "tensor([0., 1., 0., 0.], device='cuda:0')\n",
      "Epoch: 28, Validation Loss: 5.3076, Validation Accuracy: 21.85%\n"
     ]
    },
    {
     "name": "stderr",
     "output_type": "stream",
     "text": [
      " 75%|███████▌  | 30/40 [23:39<07:44, 46.45s/it]"
     ]
    },
    {
     "name": "stdout",
     "output_type": "stream",
     "text": [
      "tensor([0.2923, 0.1691, 0.2073, 0.3313], device='cuda:0',\n",
      "       grad_fn=<SelectBackward0>)\n",
      "tensor([0., 0., 0., 1.], device='cuda:0')\n",
      "Epoch: 29, Validation Loss: 5.3495, Validation Accuracy: 21.57%\n"
     ]
    },
    {
     "name": "stderr",
     "output_type": "stream",
     "text": [
      " 78%|███████▊  | 31/40 [24:25<06:56, 46.30s/it]"
     ]
    },
    {
     "name": "stdout",
     "output_type": "stream",
     "text": [
      "tensor([0.0954, 0.4522, 0.0683, 0.3841], device='cuda:0',\n",
      "       grad_fn=<SelectBackward0>)\n",
      "tensor([0., 0., 0., 1.], device='cuda:0')\n",
      "Epoch: 30, Validation Loss: 5.3579, Validation Accuracy: 21.78%\n"
     ]
    },
    {
     "name": "stderr",
     "output_type": "stream",
     "text": [
      " 80%|████████  | 32/40 [25:11<06:10, 46.25s/it]"
     ]
    },
    {
     "name": "stdout",
     "output_type": "stream",
     "text": [
      "tensor([3.8368e-12, 7.0015e-09, 1.0000e+00, 1.1034e-12], device='cuda:0',\n",
      "       grad_fn=<SelectBackward0>)\n",
      "tensor([0., 0., 1., 0.], device='cuda:0')\n",
      "Epoch: 31, Validation Loss: 5.3699, Validation Accuracy: 22.55%\n"
     ]
    },
    {
     "name": "stderr",
     "output_type": "stream",
     "text": [
      " 82%|████████▎ | 33/40 [25:57<05:22, 46.03s/it]"
     ]
    },
    {
     "name": "stdout",
     "output_type": "stream",
     "text": [
      "tensor([0.2967, 0.1617, 0.1995, 0.3420], device='cuda:0',\n",
      "       grad_fn=<SelectBackward0>)\n",
      "tensor([0., 1., 0., 0.], device='cuda:0')\n",
      "Epoch: 32, Validation Loss: 5.3415, Validation Accuracy: 22.35%\n"
     ]
    },
    {
     "name": "stderr",
     "output_type": "stream",
     "text": [
      " 85%|████████▌ | 34/40 [26:43<04:35, 45.94s/it]"
     ]
    },
    {
     "name": "stdout",
     "output_type": "stream",
     "text": [
      "tensor([3.5369e-21, 1.0000e+00, 7.4109e-22, 1.7650e-10], device='cuda:0',\n",
      "       grad_fn=<SelectBackward0>)\n",
      "tensor([0., 1., 0., 0.], device='cuda:0')\n",
      "Epoch: 33, Validation Loss: 5.3558, Validation Accuracy: 22.57%\n"
     ]
    },
    {
     "name": "stderr",
     "output_type": "stream",
     "text": [
      " 88%|████████▊ | 35/40 [27:29<03:49, 45.97s/it]"
     ]
    },
    {
     "name": "stdout",
     "output_type": "stream",
     "text": [
      "tensor([0.2987, 0.1575, 0.1954, 0.3485], device='cuda:0',\n",
      "       grad_fn=<SelectBackward0>)\n",
      "tensor([1., 0., 0., 0.], device='cuda:0')\n",
      "Epoch: 34, Validation Loss: 5.3107, Validation Accuracy: 22.32%\n"
     ]
    },
    {
     "name": "stderr",
     "output_type": "stream",
     "text": [
      " 90%|█████████ | 36/40 [28:14<03:02, 45.74s/it]"
     ]
    },
    {
     "name": "stdout",
     "output_type": "stream",
     "text": [
      "tensor([0.3003, 0.1547, 0.1919, 0.3531], device='cuda:0',\n",
      "       grad_fn=<SelectBackward0>)\n",
      "tensor([0., 0., 1., 0.], device='cuda:0')\n",
      "Epoch: 35, Validation Loss: 5.3566, Validation Accuracy: 22.31%\n"
     ]
    },
    {
     "name": "stderr",
     "output_type": "stream",
     "text": [
      " 92%|█████████▎| 37/40 [28:57<02:14, 44.97s/it]"
     ]
    },
    {
     "name": "stdout",
     "output_type": "stream",
     "text": [
      "tensor([0.3009, 0.1528, 0.1896, 0.3567], device='cuda:0',\n",
      "       grad_fn=<SelectBackward0>)\n",
      "tensor([0., 0., 1., 0.], device='cuda:0')\n",
      "Epoch: 36, Validation Loss: 5.3119, Validation Accuracy: 22.27%\n"
     ]
    },
    {
     "name": "stderr",
     "output_type": "stream",
     "text": [
      " 95%|█████████▌| 38/40 [29:40<01:28, 44.45s/it]"
     ]
    },
    {
     "name": "stdout",
     "output_type": "stream",
     "text": [
      "tensor([2.6608e-20, 1.0000e+00, 3.0673e-20, 1.6013e-08], device='cuda:0',\n",
      "       grad_fn=<SelectBackward0>)\n",
      "tensor([0., 1., 0., 0.], device='cuda:0')\n",
      "Epoch: 37, Validation Loss: 5.3162, Validation Accuracy: 22.25%\n"
     ]
    },
    {
     "name": "stderr",
     "output_type": "stream",
     "text": [
      " 98%|█████████▊| 39/40 [30:23<00:44, 44.01s/it]"
     ]
    },
    {
     "name": "stdout",
     "output_type": "stream",
     "text": [
      "tensor([0.3033, 0.1478, 0.1844, 0.3646], device='cuda:0',\n",
      "       grad_fn=<SelectBackward0>)\n",
      "tensor([0., 1., 0., 0.], device='cuda:0')\n",
      "Epoch: 38, Validation Loss: 5.3995, Validation Accuracy: 22.53%\n"
     ]
    },
    {
     "name": "stderr",
     "output_type": "stream",
     "text": [
      "100%|██████████| 40/40 [31:06<00:00, 46.67s/it]\n"
     ]
    },
    {
     "name": "stdout",
     "output_type": "stream",
     "text": [
      "tensor([0.3048, 0.1459, 0.1823, 0.3669], device='cuda:0',\n",
      "       grad_fn=<SelectBackward0>)\n",
      "tensor([0., 0., 0., 1.], device='cuda:0')\n",
      "Epoch: 39, Validation Loss: 5.3580, Validation Accuracy: 21.99%\n"
     ]
    },
    {
     "name": "stderr",
     "output_type": "stream",
     "text": [
      "  2%|▎         | 1/40 [00:43<28:00, 43.10s/it]"
     ]
    },
    {
     "name": "stdout",
     "output_type": "stream",
     "text": [
      "tensor([7.7220e-14, 1.6491e-10, 1.0000e+00, 2.1990e-08], device='cuda:0',\n",
      "       grad_fn=<SelectBackward0>)\n",
      "tensor([0., 1., 0., 0.], device='cuda:0')\n",
      "Epoch: 0, Validation Loss: 5.5890, Validation Accuracy: 29.41%\n"
     ]
    },
    {
     "name": "stderr",
     "output_type": "stream",
     "text": [
      "  5%|▌         | 2/40 [01:25<27:11, 42.94s/it]"
     ]
    },
    {
     "name": "stdout",
     "output_type": "stream",
     "text": [
      "tensor([4.8167e-14, 3.1870e-11, 1.0000e+00, 5.0703e-08], device='cuda:0',\n",
      "       grad_fn=<SelectBackward0>)\n",
      "tensor([0., 1., 0., 0.], device='cuda:0')\n",
      "Epoch: 1, Validation Loss: 5.5890, Validation Accuracy: 29.41%\n"
     ]
    },
    {
     "name": "stderr",
     "output_type": "stream",
     "text": [
      "  8%|▊         | 3/40 [02:08<26:29, 42.95s/it]"
     ]
    },
    {
     "name": "stdout",
     "output_type": "stream",
     "text": [
      "tensor([1.7281e-14, 1.4075e-11, 1.0000e+00, 2.8070e-08], device='cuda:0',\n",
      "       grad_fn=<SelectBackward0>)\n",
      "tensor([1., 0., 0., 0.], device='cuda:0')\n",
      "Epoch: 2, Validation Loss: 5.5890, Validation Accuracy: 29.41%\n"
     ]
    },
    {
     "name": "stderr",
     "output_type": "stream",
     "text": [
      " 10%|█         | 4/40 [02:52<25:49, 43.04s/it]"
     ]
    },
    {
     "name": "stdout",
     "output_type": "stream",
     "text": [
      "tensor([1.8534e-14, 1.5014e-11, 1.0000e+00, 3.4592e-08], device='cuda:0',\n",
      "       grad_fn=<SelectBackward0>)\n",
      "tensor([1., 0., 0., 0.], device='cuda:0')\n",
      "Epoch: 3, Validation Loss: 5.5890, Validation Accuracy: 29.41%\n"
     ]
    },
    {
     "name": "stderr",
     "output_type": "stream",
     "text": [
      " 12%|█▎        | 5/40 [03:34<25:04, 43.00s/it]"
     ]
    },
    {
     "name": "stdout",
     "output_type": "stream",
     "text": [
      "tensor([4.7468e-09, 2.4880e-07, 9.9999e-01, 1.1244e-05], device='cuda:0',\n",
      "       grad_fn=<SelectBackward0>)\n",
      "tensor([0., 0., 1., 0.], device='cuda:0')\n",
      "Epoch: 4, Validation Loss: 5.5890, Validation Accuracy: 29.41%\n"
     ]
    },
    {
     "name": "stderr",
     "output_type": "stream",
     "text": [
      " 15%|█▌        | 6/40 [04:17<24:19, 42.94s/it]"
     ]
    },
    {
     "name": "stdout",
     "output_type": "stream",
     "text": [
      "tensor([8.3797e-05, 4.2606e-04, 9.9902e-01, 4.7459e-04], device='cuda:0',\n",
      "       grad_fn=<SelectBackward0>)\n",
      "tensor([0., 0., 1., 0.], device='cuda:0')\n",
      "Epoch: 5, Validation Loss: 5.5874, Validation Accuracy: 29.41%\n"
     ]
    },
    {
     "name": "stderr",
     "output_type": "stream",
     "text": [
      " 18%|█▊        | 7/40 [05:00<23:38, 42.98s/it]"
     ]
    },
    {
     "name": "stdout",
     "output_type": "stream",
     "text": [
      "tensor([4.7602e-05, 2.9964e-04, 9.9933e-01, 3.2725e-04], device='cuda:0',\n",
      "       grad_fn=<SelectBackward0>)\n",
      "tensor([0., 0., 1., 0.], device='cuda:0')\n",
      "Epoch: 6, Validation Loss: 5.5874, Validation Accuracy: 29.41%\n"
     ]
    },
    {
     "name": "stderr",
     "output_type": "stream",
     "text": [
      " 20%|██        | 8/40 [05:44<23:02, 43.21s/it]"
     ]
    },
    {
     "name": "stdout",
     "output_type": "stream",
     "text": [
      "tensor([0.0014, 0.0044, 0.9889, 0.0053], device='cuda:0',\n",
      "       grad_fn=<SelectBackward0>)\n",
      "tensor([0., 1., 0., 0.], device='cuda:0')\n",
      "Epoch: 7, Validation Loss: 5.5837, Validation Accuracy: 29.41%\n"
     ]
    },
    {
     "name": "stderr",
     "output_type": "stream",
     "text": [
      " 22%|██▎       | 9/40 [06:27<22:15, 43.09s/it]"
     ]
    },
    {
     "name": "stdout",
     "output_type": "stream",
     "text": [
      "tensor([0.0684, 0.0912, 0.7009, 0.1396], device='cuda:0',\n",
      "       grad_fn=<SelectBackward0>)\n",
      "tensor([1., 0., 0., 0.], device='cuda:0')\n",
      "Epoch: 8, Validation Loss: 5.2932, Validation Accuracy: 28.88%\n"
     ]
    },
    {
     "name": "stderr",
     "output_type": "stream",
     "text": [
      " 25%|██▌       | 10/40 [07:11<21:37, 43.27s/it]"
     ]
    },
    {
     "name": "stdout",
     "output_type": "stream",
     "text": [
      "tensor([0.2704, 0.1992, 0.2700, 0.2603], device='cuda:0',\n",
      "       grad_fn=<SelectBackward0>)\n",
      "tensor([1., 0., 0., 0.], device='cuda:0')\n",
      "Epoch: 9, Validation Loss: 5.2399, Validation Accuracy: 18.80%\n"
     ]
    },
    {
     "name": "stderr",
     "output_type": "stream",
     "text": [
      " 28%|██▊       | 11/40 [07:54<20:53, 43.22s/it]"
     ]
    },
    {
     "name": "stdout",
     "output_type": "stream",
     "text": [
      "tensor([0.2706, 0.1955, 0.2721, 0.2618], device='cuda:0',\n",
      "       grad_fn=<SelectBackward0>)\n",
      "tensor([0., 1., 0., 0.], device='cuda:0')\n",
      "Epoch: 10, Validation Loss: 5.2592, Validation Accuracy: 22.70%\n"
     ]
    },
    {
     "name": "stderr",
     "output_type": "stream",
     "text": [
      " 30%|███       | 12/40 [08:37<20:08, 43.15s/it]"
     ]
    },
    {
     "name": "stdout",
     "output_type": "stream",
     "text": [
      "tensor([0.3209, 0.1850, 0.2374, 0.2567], device='cuda:0',\n",
      "       grad_fn=<SelectBackward0>)\n",
      "tensor([0., 1., 0., 0.], device='cuda:0')\n",
      "Epoch: 11, Validation Loss: 5.2851, Validation Accuracy: 21.99%\n"
     ]
    },
    {
     "name": "stderr",
     "output_type": "stream",
     "text": [
      " 32%|███▎      | 13/40 [09:20<19:30, 43.34s/it]"
     ]
    },
    {
     "name": "stdout",
     "output_type": "stream",
     "text": [
      "tensor([1.3642e-27, 1.4620e-27, 3.1327e-14, 1.0000e+00], device='cuda:0',\n",
      "       grad_fn=<SelectBackward0>)\n",
      "tensor([0., 0., 0., 1.], device='cuda:0')\n",
      "Epoch: 12, Validation Loss: 5.3560, Validation Accuracy: 19.29%\n"
     ]
    },
    {
     "name": "stderr",
     "output_type": "stream",
     "text": [
      " 35%|███▌      | 14/40 [10:04<18:48, 43.42s/it]"
     ]
    },
    {
     "name": "stdout",
     "output_type": "stream",
     "text": [
      "tensor([0.2883, 0.1866, 0.2673, 0.2579], device='cuda:0',\n",
      "       grad_fn=<SelectBackward0>)\n",
      "tensor([1., 0., 0., 0.], device='cuda:0')\n",
      "Epoch: 13, Validation Loss: 5.3006, Validation Accuracy: 22.57%\n"
     ]
    },
    {
     "name": "stderr",
     "output_type": "stream",
     "text": [
      " 38%|███▊      | 15/40 [10:48<18:12, 43.69s/it]"
     ]
    },
    {
     "name": "stdout",
     "output_type": "stream",
     "text": [
      "tensor([0.2685, 0.1898, 0.2818, 0.2600], device='cuda:0',\n",
      "       grad_fn=<SelectBackward0>)\n",
      "tensor([1., 0., 0., 0.], device='cuda:0')\n",
      "Epoch: 14, Validation Loss: 5.2907, Validation Accuracy: 23.40%\n"
     ]
    },
    {
     "name": "stderr",
     "output_type": "stream",
     "text": [
      " 40%|████      | 16/40 [11:33<17:38, 44.08s/it]"
     ]
    },
    {
     "name": "stdout",
     "output_type": "stream",
     "text": [
      "tensor([0.0134, 0.0193, 0.2758, 0.6915], device='cuda:0',\n",
      "       grad_fn=<SelectBackward0>)\n",
      "tensor([0., 0., 0., 1.], device='cuda:0')\n",
      "Epoch: 15, Validation Loss: 5.3069, Validation Accuracy: 25.24%\n"
     ]
    },
    {
     "name": "stderr",
     "output_type": "stream",
     "text": [
      " 42%|████▎     | 17/40 [12:18<16:59, 44.31s/it]"
     ]
    },
    {
     "name": "stdout",
     "output_type": "stream",
     "text": [
      "tensor([0.2674, 0.1878, 0.2856, 0.2591], device='cuda:0',\n",
      "       grad_fn=<SelectBackward0>)\n",
      "tensor([0., 1., 0., 0.], device='cuda:0')\n",
      "Epoch: 16, Validation Loss: 5.3380, Validation Accuracy: 24.64%\n"
     ]
    },
    {
     "name": "stderr",
     "output_type": "stream",
     "text": [
      " 45%|████▌     | 18/40 [13:04<16:25, 44.80s/it]"
     ]
    },
    {
     "name": "stdout",
     "output_type": "stream",
     "text": [
      "tensor([9.9997e-01, 2.1230e-06, 2.1117e-06, 2.1856e-05], device='cuda:0',\n",
      "       grad_fn=<SelectBackward0>)\n",
      "tensor([1., 0., 0., 0.], device='cuda:0')\n",
      "Epoch: 17, Validation Loss: 5.3084, Validation Accuracy: 24.51%\n"
     ]
    },
    {
     "name": "stderr",
     "output_type": "stream",
     "text": [
      " 48%|████▊     | 19/40 [13:49<15:42, 44.87s/it]"
     ]
    },
    {
     "name": "stdout",
     "output_type": "stream",
     "text": [
      "tensor([2.6162e-07, 6.3458e-08, 6.8383e-04, 9.9932e-01], device='cuda:0',\n",
      "       grad_fn=<SelectBackward0>)\n",
      "tensor([0., 1., 0., 0.], device='cuda:0')\n",
      "Epoch: 18, Validation Loss: 5.3027, Validation Accuracy: 26.91%\n"
     ]
    },
    {
     "name": "stderr",
     "output_type": "stream",
     "text": [
      " 50%|█████     | 20/40 [14:34<14:59, 44.97s/it]"
     ]
    },
    {
     "name": "stdout",
     "output_type": "stream",
     "text": [
      "tensor([0.0826, 0.2324, 0.5134, 0.1715], device='cuda:0',\n",
      "       grad_fn=<SelectBackward0>)\n",
      "tensor([0., 1., 0., 0.], device='cuda:0')\n",
      "Epoch: 19, Validation Loss: 5.3002, Validation Accuracy: 26.53%\n"
     ]
    },
    {
     "name": "stderr",
     "output_type": "stream",
     "text": [
      " 52%|█████▎    | 21/40 [15:20<14:19, 45.24s/it]"
     ]
    },
    {
     "name": "stdout",
     "output_type": "stream",
     "text": [
      "tensor([1.8724e-09, 8.2973e-09, 1.2201e-04, 9.9988e-01], device='cuda:0',\n",
      "       grad_fn=<SelectBackward0>)\n",
      "tensor([0., 0., 0., 1.], device='cuda:0')\n",
      "Epoch: 20, Validation Loss: 5.2897, Validation Accuracy: 27.40%\n"
     ]
    },
    {
     "name": "stderr",
     "output_type": "stream",
     "text": [
      " 55%|█████▌    | 22/40 [16:06<13:34, 45.25s/it]"
     ]
    },
    {
     "name": "stdout",
     "output_type": "stream",
     "text": [
      "tensor([1.4766e-09, 1.5120e-04, 9.9978e-01, 7.3016e-05], device='cuda:0',\n",
      "       grad_fn=<SelectBackward0>)\n",
      "tensor([0., 0., 1., 0.], device='cuda:0')\n",
      "Epoch: 21, Validation Loss: 5.3116, Validation Accuracy: 25.16%\n"
     ]
    },
    {
     "name": "stderr",
     "output_type": "stream",
     "text": [
      " 57%|█████▊    | 23/40 [16:50<12:45, 45.01s/it]"
     ]
    },
    {
     "name": "stdout",
     "output_type": "stream",
     "text": [
      "tensor([1.3889e-14, 2.4297e-06, 1.0000e+00, 5.0298e-08], device='cuda:0',\n",
      "       grad_fn=<SelectBackward0>)\n",
      "tensor([0., 0., 1., 0.], device='cuda:0')\n",
      "Epoch: 22, Validation Loss: 5.3109, Validation Accuracy: 26.29%\n"
     ]
    },
    {
     "name": "stderr",
     "output_type": "stream",
     "text": [
      " 60%|██████    | 24/40 [17:34<11:56, 44.77s/it]"
     ]
    },
    {
     "name": "stdout",
     "output_type": "stream",
     "text": [
      "tensor([3.4930e-10, 1.0735e-04, 9.9985e-01, 4.2502e-05], device='cuda:0',\n",
      "       grad_fn=<SelectBackward0>)\n",
      "tensor([1., 0., 0., 0.], device='cuda:0')\n",
      "Epoch: 23, Validation Loss: 5.3102, Validation Accuracy: 26.88%\n"
     ]
    },
    {
     "name": "stderr",
     "output_type": "stream",
     "text": [
      " 62%|██████▎   | 25/40 [18:18<11:07, 44.51s/it]"
     ]
    },
    {
     "name": "stdout",
     "output_type": "stream",
     "text": [
      "tensor([9.9999e-01, 3.8403e-06, 4.7991e-07, 3.5503e-06], device='cuda:0',\n",
      "       grad_fn=<SelectBackward0>)\n",
      "tensor([0., 1., 0., 0.], device='cuda:0')\n",
      "Epoch: 24, Validation Loss: 5.3305, Validation Accuracy: 25.77%\n"
     ]
    },
    {
     "name": "stderr",
     "output_type": "stream",
     "text": [
      " 65%|██████▌   | 26/40 [19:02<10:20, 44.30s/it]"
     ]
    },
    {
     "name": "stdout",
     "output_type": "stream",
     "text": [
      "tensor([0.2786, 0.1893, 0.2855, 0.2467], device='cuda:0',\n",
      "       grad_fn=<SelectBackward0>)\n",
      "tensor([0., 1., 0., 0.], device='cuda:0')\n",
      "Epoch: 25, Validation Loss: 5.3214, Validation Accuracy: 25.72%\n"
     ]
    },
    {
     "name": "stderr",
     "output_type": "stream",
     "text": [
      " 68%|██████▊   | 27/40 [19:47<09:37, 44.42s/it]"
     ]
    },
    {
     "name": "stdout",
     "output_type": "stream",
     "text": [
      "tensor([1.2825e-10, 2.1348e-04, 9.9748e-01, 2.3052e-03], device='cuda:0',\n",
      "       grad_fn=<SelectBackward0>)\n",
      "tensor([0., 0., 1., 0.], device='cuda:0')\n",
      "Epoch: 26, Validation Loss: 5.3094, Validation Accuracy: 27.23%\n"
     ]
    },
    {
     "name": "stderr",
     "output_type": "stream",
     "text": [
      " 70%|███████   | 28/40 [20:32<08:57, 44.83s/it]"
     ]
    },
    {
     "name": "stdout",
     "output_type": "stream",
     "text": [
      "tensor([1.2439e-16, 2.2528e-14, 1.9603e-09, 1.0000e+00], device='cuda:0',\n",
      "       grad_fn=<SelectBackward0>)\n",
      "tensor([0., 0., 0., 1.], device='cuda:0')\n",
      "Epoch: 27, Validation Loss: 5.3038, Validation Accuracy: 26.39%\n"
     ]
    },
    {
     "name": "stderr",
     "output_type": "stream",
     "text": [
      " 72%|███████▎  | 29/40 [21:17<08:11, 44.64s/it]"
     ]
    },
    {
     "name": "stdout",
     "output_type": "stream",
     "text": [
      "tensor([8.5324e-18, 3.2502e-06, 1.0000e+00, 2.4871e-10], device='cuda:0',\n",
      "       grad_fn=<SelectBackward0>)\n",
      "tensor([0., 0., 1., 0.], device='cuda:0')\n",
      "Epoch: 28, Validation Loss: 5.3129, Validation Accuracy: 27.48%\n"
     ]
    },
    {
     "name": "stderr",
     "output_type": "stream",
     "text": [
      " 75%|███████▌  | 30/40 [22:02<07:29, 44.91s/it]"
     ]
    },
    {
     "name": "stdout",
     "output_type": "stream",
     "text": [
      "tensor([5.3003e-23, 3.6806e-18, 8.6987e-13, 1.0000e+00], device='cuda:0',\n",
      "       grad_fn=<SelectBackward0>)\n",
      "tensor([0., 1., 0., 0.], device='cuda:0')\n",
      "Epoch: 29, Validation Loss: 5.3107, Validation Accuracy: 26.77%\n"
     ]
    },
    {
     "name": "stderr",
     "output_type": "stream",
     "text": [
      " 78%|███████▊  | 31/40 [23:16<08:03, 53.70s/it]"
     ]
    },
    {
     "name": "stdout",
     "output_type": "stream",
     "text": [
      "tensor([1.0074e-24, 1.0541e-17, 1.7711e-13, 1.0000e+00], device='cuda:0',\n",
      "       grad_fn=<SelectBackward0>)\n",
      "tensor([0., 0., 0., 1.], device='cuda:0')\n",
      "Epoch: 30, Validation Loss: 5.3105, Validation Accuracy: 27.09%\n"
     ]
    },
    {
     "name": "stderr",
     "output_type": "stream",
     "text": [
      " 80%|████████  | 32/40 [24:33<08:05, 60.73s/it]"
     ]
    },
    {
     "name": "stdout",
     "output_type": "stream",
     "text": [
      "tensor([0.6245, 0.1306, 0.1194, 0.1254], device='cuda:0',\n",
      "       grad_fn=<SelectBackward0>)\n",
      "tensor([0., 0., 0., 1.], device='cuda:0')\n",
      "Epoch: 31, Validation Loss: 5.2957, Validation Accuracy: 27.49%\n"
     ]
    },
    {
     "name": "stderr",
     "output_type": "stream",
     "text": [
      " 82%|████████▎ | 33/40 [25:51<07:41, 65.87s/it]"
     ]
    },
    {
     "name": "stdout",
     "output_type": "stream",
     "text": [
      "tensor([1.0000e+00, 6.1547e-08, 1.1206e-10, 1.2892e-10], device='cuda:0',\n",
      "       grad_fn=<SelectBackward0>)\n",
      "tensor([1., 0., 0., 0.], device='cuda:0')\n",
      "Epoch: 32, Validation Loss: 5.3362, Validation Accuracy: 26.25%\n"
     ]
    }
   ],
   "source": [
    "for train_indices, val_indices in kf.split(MNE_Data, labels):\n",
    "    train_dataset = torch.utils.data.Subset(MNE_Data, train_indices)\n",
    "    val_dataset = torch.utils.data.Subset(MNE_Data, val_indices)\n",
    "\n",
    "    train_dataloader = torch.utils.data.DataLoader(train_dataset, batch_size=1, shuffle=True)\n",
    "    val_dataloader = torch.utils.data.DataLoader(val_dataset, batch_size=1, shuffle=False)\n",
    "\n",
    "    test_log = []\n",
    "    log = []\n",
    "\n",
    "\n",
    "    model = net(T = 3000, C = 19, input_size = 3000, hidden_size = 100, num_layers=1, spatial_num= 300, dropout=0.5, pool=1).to(device)\n",
    "    optimizer = optim.Adam(model.parameters(), lr=0.001)\n",
    "\n",
    "    for epoch in trange(epochs):\n",
    "        \n",
    "        model.train()   \n",
    "        for index, data in enumerate(train_dataloader):\n",
    "                \n",
    "                x, y = data\n",
    "                y = y.to(torch.float64)\n",
    "                x = x.reshape(-1, 1, 19, 3000).float()\n",
    "                x = x[torch.randperm(x.shape[0])]\n",
    "                y = F.one_hot(torch.tensor(torch.tensor([y.item()]).to(torch.int64)), num_classes=4).expand(x.shape[0], -1).float()\n",
    "                \n",
    "                train_count = x.shape[0]\n",
    "                x, y = x.to(device), y.to(device)\n",
    "                y_pred = model(x)\n",
    "                loss = criterion(y_pred, y)\n",
    "                \n",
    "                optimizer.zero_grad()\n",
    "                loss.backward()\n",
    "                optimizer.step()\n",
    "                #scheduler.step()\n",
    "                torch.cuda.empty_cache()\n",
    "\n",
    "    \n",
    "        model.eval()\n",
    "        val_loss = 0\n",
    "        val_log = []\n",
    "        with torch.no_grad():\n",
    "            for batch_idx, (data, target) in enumerate(val_dataloader):\n",
    "                        data = data.reshape(-1, 1, 19, 3000).float().cuda()\n",
    "                        target = F.one_hot(torch.tensor(torch.tensor([target.item()]).to(torch.int64)), num_classes=4).expand(data.shape[0], -1).float().cuda()\n",
    "                        \n",
    "\n",
    "                        output = model(data)\n",
    "\n",
    "                        \n",
    "\n",
    "                        loss = criterion(output, target)\n",
    "                        \n",
    "                        val_loss += loss.item()\n",
    "\n",
    "                        val_log.append(Accuracy(output, target, target.shape[0]))\n",
    "\n",
    "        print(model(x.cuda())[-1])     \n",
    "        print(y[-1])           \n",
    "        print('Epoch: {}, Validation Loss: {:.4f}, Validation Accuracy: {:.2f}%'.format(\n",
    "                    epoch, val_loss / len(val_dataloader), statistics.mean(val_log)))\n",
    "\n",
    "    model_list.append(model)\n",
    "        \n",
    "\n",
    "\n",
    "    \n"
   ]
  },
  {
   "cell_type": "code",
   "execution_count": null,
   "metadata": {},
   "outputs": [
    {
     "name": "stdout",
     "output_type": "stream",
     "text": [
      "torch.Size([400, 3000])\n",
      "lol\n",
      "torch.Size([400, 100])\n",
      "lol\n",
      "torch.Size([400])\n",
      "lol\n",
      "torch.Size([400])\n",
      "lol\n",
      "torch.Size([400, 3000])\n",
      "lol\n",
      "torch.Size([400, 100])\n",
      "lol\n",
      "torch.Size([400])\n",
      "lol\n",
      "torch.Size([400])\n",
      "lol\n",
      "torch.Size([400, 3000])\n",
      "lol\n",
      "torch.Size([400, 100])\n",
      "lol\n",
      "torch.Size([400])\n",
      "lol\n",
      "torch.Size([400])\n",
      "lol\n",
      "torch.Size([400, 3000])\n",
      "lol\n",
      "torch.Size([400, 100])\n",
      "lol\n",
      "torch.Size([400])\n",
      "lol\n",
      "torch.Size([400])\n",
      "lol\n",
      "torch.Size([400, 3000])\n",
      "lol\n",
      "torch.Size([400, 100])\n",
      "lol\n",
      "torch.Size([400])\n",
      "lol\n",
      "torch.Size([400])\n",
      "lol\n",
      "torch.Size([400, 3000])\n",
      "lol\n",
      "torch.Size([400, 100])\n",
      "lol\n",
      "torch.Size([400])\n",
      "lol\n",
      "torch.Size([400])\n",
      "lol\n",
      "torch.Size([400, 3000])\n",
      "lol\n",
      "torch.Size([400, 100])\n",
      "lol\n",
      "torch.Size([400])\n",
      "lol\n",
      "torch.Size([400])\n",
      "lol\n",
      "torch.Size([400, 3000])\n",
      "lol\n",
      "torch.Size([400, 100])\n",
      "lol\n",
      "torch.Size([400])\n",
      "lol\n",
      "torch.Size([400])\n",
      "lol\n",
      "torch.Size([400, 3000])\n",
      "lol\n",
      "torch.Size([400, 100])\n",
      "lol\n",
      "torch.Size([400])\n",
      "lol\n",
      "torch.Size([400])\n",
      "lol\n",
      "torch.Size([400, 3000])\n",
      "lol\n",
      "torch.Size([400, 100])\n",
      "lol\n",
      "torch.Size([400])\n",
      "lol\n",
      "torch.Size([400])\n",
      "lol\n",
      "torch.Size([400, 3000])\n",
      "lol\n",
      "torch.Size([400, 100])\n",
      "lol\n",
      "torch.Size([400])\n",
      "lol\n",
      "torch.Size([400])\n",
      "lol\n",
      "torch.Size([400, 3000])\n",
      "lol\n",
      "torch.Size([400, 100])\n",
      "lol\n",
      "torch.Size([400])\n",
      "lol\n",
      "torch.Size([400])\n",
      "lol\n",
      "torch.Size([400, 3000])\n",
      "lol\n",
      "torch.Size([400, 100])\n",
      "lol\n",
      "torch.Size([400])\n",
      "lol\n",
      "torch.Size([400])\n",
      "lol\n",
      "torch.Size([400, 3000])\n",
      "lol\n",
      "torch.Size([400, 100])\n",
      "lol\n",
      "torch.Size([400])\n",
      "lol\n",
      "torch.Size([400])\n",
      "lol\n",
      "torch.Size([400, 3000])\n",
      "lol\n",
      "torch.Size([400, 100])\n",
      "lol\n",
      "torch.Size([400])\n",
      "lol\n",
      "torch.Size([400])\n",
      "lol\n",
      "torch.Size([400, 3000])\n",
      "lol\n",
      "torch.Size([400, 100])\n",
      "lol\n",
      "torch.Size([400])\n",
      "lol\n",
      "torch.Size([400])\n",
      "lol\n",
      "torch.Size([400, 3000])\n",
      "lol\n",
      "torch.Size([400, 100])\n",
      "lol\n",
      "torch.Size([400])\n",
      "lol\n",
      "torch.Size([400])\n",
      "lol\n",
      "torch.Size([400, 3000])\n",
      "lol\n",
      "torch.Size([400, 100])\n",
      "lol\n",
      "torch.Size([400])\n",
      "lol\n",
      "torch.Size([400])\n",
      "lol\n",
      "torch.Size([400, 3000])\n",
      "lol\n",
      "torch.Size([400, 100])\n",
      "lol\n",
      "torch.Size([400])\n",
      "lol\n",
      "torch.Size([400])\n",
      "lol\n",
      "torch.Size([400, 3000])\n",
      "lol\n",
      "torch.Size([400, 100])\n",
      "lol\n",
      "torch.Size([400])\n",
      "lol\n",
      "torch.Size([400])\n",
      "lol\n",
      "torch.Size([300, 1, 19, 1])\n",
      "lol\n",
      "torch.Size([300])\n",
      "lol\n",
      "torch.Size([300])\n",
      "lol\n",
      "torch.Size([300])\n",
      "lol\n",
      "torch.Size([300])\n",
      "lol\n",
      "torch.Size([300])\n",
      "lol\n",
      "torch.Size([])\n",
      "lol\n",
      "torch.Size([128, 30000])\n",
      "lol\n",
      "torch.Size([128])\n",
      "lol\n",
      "torch.Size([16, 128])\n",
      "lol\n",
      "torch.Size([16])\n",
      "lol\n",
      "torch.Size([4, 16])\n",
      "lol\n",
      "torch.Size([4])\n",
      "lol\n"
     ]
    }
   ],
   "source": [
    "state_dict = model.state_dict()\n",
    "avg_state_dict = state_dict\n",
    "for key in state_dict:\n",
    "    avg_state_dict[key] += state_dict[key]\n",
    "    print(state_dict[key].shape)\n",
    "    print('lol')"
   ]
  },
  {
   "cell_type": "code",
   "execution_count": null,
   "metadata": {},
   "outputs": [
    {
     "ename": "FileNotFoundError",
     "evalue": "File does not exist: \"C:\\Users\\admin\\Desktop\\TEST\\FOCAL\\aliabdollahi.fif\"",
     "output_type": "error",
     "traceback": [
      "\u001b[1;31m---------------------------------------------------------------------------\u001b[0m",
      "\u001b[1;31mFileNotFoundError\u001b[0m                         Traceback (most recent call last)",
      "\u001b[1;32m~\\AppData\\Local\\Temp\\ipykernel_14556\\836344177.py\u001b[0m in \u001b[0;36m<module>\u001b[1;34m\u001b[0m\n\u001b[1;32m----> 1\u001b[1;33m \u001b[0mtest\u001b[0m\u001b[1;33m(\u001b[0m\u001b[0mtest_path\u001b[0m\u001b[1;33m=\u001b[0m\u001b[1;34mr\"C:\\Users\\admin\\Desktop\\TEST\\FOCAL\\aliabdollahi.fif\"\u001b[0m\u001b[1;33m,\u001b[0m \u001b[0mmodel\u001b[0m\u001b[1;33m=\u001b[0m\u001b[0mmodel\u001b[0m\u001b[1;33m,\u001b[0m \u001b[0mtest_class\u001b[0m\u001b[1;33m=\u001b[0m \u001b[1;36m3\u001b[0m\u001b[1;33m)\u001b[0m\u001b[1;33m\u001b[0m\u001b[1;33m\u001b[0m\u001b[0m\n\u001b[0m",
      "\u001b[1;32m~\\AppData\\Local\\Temp\\ipykernel_14556\\810576613.py\u001b[0m in \u001b[0;36mtest\u001b[1;34m(model, test_path, test_class, verbose)\u001b[0m\n\u001b[0;32m      2\u001b[0m \u001b[1;33m\u001b[0m\u001b[0m\n\u001b[0;32m      3\u001b[0m \u001b[1;33m\u001b[0m\u001b[0m\n\u001b[1;32m----> 4\u001b[1;33m     \u001b[0mx_test\u001b[0m \u001b[1;33m=\u001b[0m \u001b[0mmne\u001b[0m\u001b[1;33m.\u001b[0m\u001b[0mread_epochs\u001b[0m\u001b[1;33m(\u001b[0m\u001b[0mtest_path\u001b[0m\u001b[1;33m,\u001b[0m \u001b[0mpreload\u001b[0m\u001b[1;33m=\u001b[0m\u001b[1;32mFalse\u001b[0m\u001b[1;33m)\u001b[0m\u001b[1;33m.\u001b[0m\u001b[0mget_data\u001b[0m\u001b[1;33m(\u001b[0m\u001b[0mpicks\u001b[0m\u001b[1;33m=\u001b[0m\u001b[1;34m'eeg'\u001b[0m\u001b[1;33m)\u001b[0m\u001b[1;33m;\u001b[0m\u001b[1;33m\u001b[0m\u001b[1;33m\u001b[0m\u001b[0m\n\u001b[0m\u001b[0;32m      5\u001b[0m     \u001b[0mnormals\u001b[0m \u001b[1;33m=\u001b[0m \u001b[1;33m[\u001b[0m\u001b[1;33m]\u001b[0m\u001b[1;33m\u001b[0m\u001b[1;33m\u001b[0m\u001b[0m\n\u001b[0;32m      6\u001b[0m     \u001b[0mscaler\u001b[0m \u001b[1;33m=\u001b[0m \u001b[0mStandardScaler\u001b[0m\u001b[1;33m(\u001b[0m\u001b[1;33m)\u001b[0m\u001b[1;33m\u001b[0m\u001b[1;33m\u001b[0m\u001b[0m\n",
      "\u001b[1;32m<decorator-gen-206>\u001b[0m in \u001b[0;36mread_epochs\u001b[1;34m(fname, proj, preload, verbose)\u001b[0m\n",
      "\u001b[1;32mc:\\Users\\admin\\anaconda3\\lib\\site-packages\\mne\\epochs.py\u001b[0m in \u001b[0;36mread_epochs\u001b[1;34m(fname, proj, preload, verbose)\u001b[0m\n\u001b[0;32m   3868\u001b[0m         \u001b[0mThe\u001b[0m \u001b[0mepochs\u001b[0m\u001b[1;33m.\u001b[0m\u001b[1;33m\u001b[0m\u001b[1;33m\u001b[0m\u001b[0m\n\u001b[0;32m   3869\u001b[0m     \"\"\"\n\u001b[1;32m-> 3870\u001b[1;33m     \u001b[1;32mreturn\u001b[0m \u001b[0mEpochsFIF\u001b[0m\u001b[1;33m(\u001b[0m\u001b[0mfname\u001b[0m\u001b[1;33m,\u001b[0m \u001b[0mproj\u001b[0m\u001b[1;33m,\u001b[0m \u001b[0mpreload\u001b[0m\u001b[1;33m,\u001b[0m \u001b[0mverbose\u001b[0m\u001b[1;33m)\u001b[0m\u001b[1;33m\u001b[0m\u001b[1;33m\u001b[0m\u001b[0m\n\u001b[0m\u001b[0;32m   3871\u001b[0m \u001b[1;33m\u001b[0m\u001b[0m\n\u001b[0;32m   3872\u001b[0m \u001b[1;33m\u001b[0m\u001b[0m\n",
      "\u001b[1;32m<decorator-gen-207>\u001b[0m in \u001b[0;36m__init__\u001b[1;34m(self, fname, proj, preload, verbose)\u001b[0m\n",
      "\u001b[1;32mc:\\Users\\admin\\anaconda3\\lib\\site-packages\\mne\\epochs.py\u001b[0m in \u001b[0;36m__init__\u001b[1;34m(self, fname, proj, preload, verbose)\u001b[0m\n\u001b[0;32m   3919\u001b[0m                 \u001b[0mendings\u001b[0m\u001b[1;33m=\u001b[0m\u001b[1;33m(\u001b[0m\u001b[1;34m\"-epo.fif\"\u001b[0m\u001b[1;33m,\u001b[0m \u001b[1;34m\"-epo.fif.gz\"\u001b[0m\u001b[1;33m,\u001b[0m \u001b[1;34m\"_epo.fif\"\u001b[0m\u001b[1;33m,\u001b[0m \u001b[1;34m\"_epo.fif.gz\"\u001b[0m\u001b[1;33m)\u001b[0m\u001b[1;33m,\u001b[0m\u001b[1;33m\u001b[0m\u001b[1;33m\u001b[0m\u001b[0m\n\u001b[0;32m   3920\u001b[0m             )\n\u001b[1;32m-> 3921\u001b[1;33m             \u001b[0mfname\u001b[0m \u001b[1;33m=\u001b[0m \u001b[0mstr\u001b[0m\u001b[1;33m(\u001b[0m\u001b[0m_check_fname\u001b[0m\u001b[1;33m(\u001b[0m\u001b[0mfname\u001b[0m\u001b[1;33m=\u001b[0m\u001b[0mfname\u001b[0m\u001b[1;33m,\u001b[0m \u001b[0mmust_exist\u001b[0m\u001b[1;33m=\u001b[0m\u001b[1;32mTrue\u001b[0m\u001b[1;33m,\u001b[0m \u001b[0moverwrite\u001b[0m\u001b[1;33m=\u001b[0m\u001b[1;34m\"read\"\u001b[0m\u001b[1;33m)\u001b[0m\u001b[1;33m)\u001b[0m\u001b[1;33m\u001b[0m\u001b[1;33m\u001b[0m\u001b[0m\n\u001b[0m\u001b[0;32m   3922\u001b[0m         \u001b[1;32melif\u001b[0m \u001b[1;32mnot\u001b[0m \u001b[0mpreload\u001b[0m\u001b[1;33m:\u001b[0m\u001b[1;33m\u001b[0m\u001b[1;33m\u001b[0m\u001b[0m\n\u001b[0;32m   3923\u001b[0m             \u001b[1;32mraise\u001b[0m \u001b[0mValueError\u001b[0m\u001b[1;33m(\u001b[0m\u001b[1;34m\"preload must be used with file-like objects\"\u001b[0m\u001b[1;33m)\u001b[0m\u001b[1;33m\u001b[0m\u001b[1;33m\u001b[0m\u001b[0m\n",
      "\u001b[1;32m<decorator-gen-0>\u001b[0m in \u001b[0;36m_check_fname\u001b[1;34m(fname, overwrite, must_exist, name, need_dir, verbose)\u001b[0m\n",
      "\u001b[1;32mc:\\Users\\admin\\anaconda3\\lib\\site-packages\\mne\\utils\\check.py\u001b[0m in \u001b[0;36m_check_fname\u001b[1;34m(fname, overwrite, must_exist, name, need_dir, verbose)\u001b[0m\n\u001b[0;32m    261\u001b[0m                 \u001b[1;32mraise\u001b[0m \u001b[0mPermissionError\u001b[0m\u001b[1;33m(\u001b[0m\u001b[1;34mf\"{name} does not have read permissions: {fname}\"\u001b[0m\u001b[1;33m)\u001b[0m\u001b[1;33m\u001b[0m\u001b[1;33m\u001b[0m\u001b[0m\n\u001b[0;32m    262\u001b[0m     \u001b[1;32melif\u001b[0m \u001b[0mmust_exist\u001b[0m\u001b[1;33m:\u001b[0m\u001b[1;33m\u001b[0m\u001b[1;33m\u001b[0m\u001b[0m\n\u001b[1;32m--> 263\u001b[1;33m         \u001b[1;32mraise\u001b[0m \u001b[0mFileNotFoundError\u001b[0m\u001b[1;33m(\u001b[0m\u001b[1;34mf'{name} does not exist: \"{fname}\"'\u001b[0m\u001b[1;33m)\u001b[0m\u001b[1;33m\u001b[0m\u001b[1;33m\u001b[0m\u001b[0m\n\u001b[0m\u001b[0;32m    264\u001b[0m \u001b[1;33m\u001b[0m\u001b[0m\n\u001b[0;32m    265\u001b[0m     \u001b[1;32mreturn\u001b[0m \u001b[0mfname\u001b[0m\u001b[1;33m\u001b[0m\u001b[1;33m\u001b[0m\u001b[0m\n",
      "\u001b[1;31mFileNotFoundError\u001b[0m: File does not exist: \"C:\\Users\\admin\\Desktop\\TEST\\FOCAL\\aliabdollahi.fif\""
     ]
    }
   ],
   "source": [
    "test(test_path=r\"C:\\Users\\admin\\Desktop\\TEST\\FOCAL\\aliabdollahi.fif\", model=model, test_class= 3)"
   ]
  },
  {
   "cell_type": "code",
   "execution_count": null,
   "metadata": {},
   "outputs": [
    {
     "data": {
      "text/plain": [
       "<All keys matched successfully>"
      ]
     },
     "execution_count": 14,
     "metadata": {},
     "output_type": "execute_result"
    }
   ],
   "source": [
    "file_path = 'D:\\model weights\\model_weights.pth'\n",
    "torch.save(model.state_dict(), file_path)\n",
    "model.load_state_dict(torch.load(file_path))"
   ]
  }
 ],
 "metadata": {
  "kernelspec": {
   "display_name": "base",
   "language": "python",
   "name": "python3"
  },
  "language_info": {
   "codemirror_mode": {
    "name": "ipython",
    "version": 3
   },
   "file_extension": ".py",
   "mimetype": "text/x-python",
   "name": "python",
   "nbconvert_exporter": "python",
   "pygments_lexer": "ipython3",
   "version": "3.9.13"
  }
 },
 "nbformat": 4,
 "nbformat_minor": 2
}
