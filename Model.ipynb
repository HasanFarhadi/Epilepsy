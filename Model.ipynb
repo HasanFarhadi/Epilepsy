{
 "cells": [
  {
   "cell_type": "code",
   "execution_count": 1,
   "metadata": {},
   "outputs": [],
   "source": [
    "import os\n",
    "import warnings\n",
    "os.environ[\"KMP_DUPLICATE_LIB_OK\"]=\"TRUE\"\n",
    "#os.environ['CUDA_LAUNCH_BLOCKING'] = str(1)\n",
    "#os.environ[\"TORCH_USE_CUDA_DSA\"]= str(0)\n",
    "warnings.filterwarnings('ignore') \n",
    "device = \"cuda\""
   ]
  },
  {
   "cell_type": "code",
   "execution_count": 2,
   "metadata": {},
   "outputs": [],
   "source": [
    "import copy\n",
    "import torch\n",
    "import torch.nn as nn\n",
    "from torch.nn import functional as F\n",
    "from torch.utils.data import Dataset\n",
    "import torch.optim as optim\n",
    "from torch.autograd import Variable\n",
    "from tqdm import tqdm\n",
    "import numpy as np\n",
    "import pandas as pd\n",
    "import matplotlib.pyplot as plt\n",
    "import time\n",
    "import math\n",
    "from collections import OrderedDict\n",
    "import random\n",
    "from torchsummary import summary\n",
    "from torchvision import transforms\n",
    "from torch.utils.data import Dataset\n",
    "import sys\n",
    "import torch\n",
    "import numpy as np\n",
    "from tqdm import trange\n",
    "from torch.utils.data import DataLoader\n",
    "from sklearn.metrics import accuracy_score\n",
    "from sklearn.model_selection import train_test_split\n",
    "import mne\n",
    "from sklearn.preprocessing import StandardScaler"
   ]
  },
  {
   "cell_type": "code",
   "execution_count": 3,
   "metadata": {},
   "outputs": [],
   "source": [
    "import import_ipynb"
   ]
  },
  {
   "cell_type": "code",
   "execution_count": 4,
   "metadata": {},
   "outputs": [],
   "source": [
    "class MyDataset(Dataset):\n",
    "    def __init__(self, x, y):\n",
    "        super(MyDataset, self).__init__()\n",
    "        self.transforms = transforms.ToTensor()\n",
    "        self.x = x\n",
    "        self.y = y\n",
    "        \n",
    "    def __getitem__(self, index):\n",
    "        x = self.x[index, ...]\n",
    "        y = self.y[index, ...]\n",
    "        return x, y\n",
    "    \n",
    "    def __len__(self):\n",
    "        return len(self.x)"
   ]
  },
  {
   "cell_type": "code",
   "execution_count": 5,
   "metadata": {},
   "outputs": [],
   "source": [
    "def Normalzie(data):\n",
    "    normals = []\n",
    "    scaler = StandardScaler()\n",
    "    for idx in range(len(data)):\n",
    "        normals.append(scaler.fit_transform(data[idx]))\n",
    "    return np.array(normals)"
   ]
  },
  {
   "cell_type": "code",
   "execution_count": 6,
   "metadata": {},
   "outputs": [
    {
     "name": "stdout",
     "output_type": "stream",
     "text": [
      "Reading K:\\MNE_Data\\PNES\\heydarimohammad.fif ...\n",
      "    Found the data of interest:\n",
      "        t =       0.00 ...    9996.67 ms\n",
      "        0 CTF compensation matrices available\n",
      "Not setting metadata\n",
      "320 matching events found\n",
      "No baseline correction applied\n",
      "0 projection items activated\n",
      "Loading data for 320 events and 3000 original time points ...\n",
      "Reading K:\\MNE_Data\\TLE\\NikzadMohammad.fif ...\n",
      "    Found the data of interest:\n",
      "        t =       0.00 ...    9996.67 ms\n",
      "        0 CTF compensation matrices available\n",
      "Not setting metadata\n",
      "405 matching events found\n",
      "No baseline correction applied\n",
      "0 projection items activated\n",
      "Loading data for 405 events and 3000 original time points ...\n"
     ]
    }
   ],
   "source": [
    "PNES_data = mne.read_epochs(r\"K:\\MNE_Data\\PNES\\heydarimohammad.fif\", preload=False).get_data(picks='eeg');\n",
    "TLE_data = mne.read_epochs(r\"K:\\MNE_Data\\TLE\\NikzadMohammad.fif\", preload=False).get_data(picks='eeg');"
   ]
  },
  {
   "cell_type": "code",
   "execution_count": 7,
   "metadata": {},
   "outputs": [],
   "source": [
    "PNES_data = Normalzie(PNES_data)\n",
    "TLE_data = Normalzie(TLE_data)"
   ]
  },
  {
   "cell_type": "code",
   "execution_count": 8,
   "metadata": {},
   "outputs": [],
   "source": [
    "PNES_labels = np.zeros((PNES_data.shape[0]))\n",
    "TLE_labels = np.ones((TLE_data.shape[0]))"
   ]
  },
  {
   "cell_type": "code",
   "execution_count": 9,
   "metadata": {},
   "outputs": [],
   "source": [
    "data = np.concatenate((PNES_data, TLE_data), axis=0).reshape(-1, 1, 19, 3000)\n",
    "labels = np.concatenate((PNES_labels, TLE_labels))"
   ]
  },
  {
   "cell_type": "code",
   "execution_count": 10,
   "metadata": {},
   "outputs": [],
   "source": [
    "X_train, X_test, y_train, y_test = train_test_split(data, labels, test_size=0.2)"
   ]
  },
  {
   "cell_type": "code",
   "execution_count": 11,
   "metadata": {},
   "outputs": [],
   "source": [
    "class network(nn.Module):\n",
    "    def __init__(self, lstm_input_size, lstm_hidden_size, cnn_out_channels = 1, cnn_kernel = 1, cnn_stride=1, ):\n",
    "        super(network, self).__init__()\n",
    "        self.cnn_out_channels = cnn_out_channels\n",
    "        self.cnn_kernel = cnn_kernel\n",
    "        self.cnn_stride = cnn_stride\n",
    "        self.lstm_input_size = lstm_input_size\n",
    "        self.lstm_hidden_size = lstm_hidden_size\n",
    "        self.cnn = nn.Conv2d(1, self.cnn_out_channels, self.cnn_kernel, self.cnn_stride)\n",
    "        self.lstm = nn.LSTM(input_size = self.lstm_input_size, hidden_size = self.lstm_hidden_size, batch_first=True)\n",
    "\n",
    "    def forward(self, x):\n",
    "        return self.lstm(x)"
   ]
  },
  {
   "cell_type": "code",
   "execution_count": 20,
   "metadata": {},
   "outputs": [
    {
     "data": {
      "text/plain": [
       "torch.Size([479, 3000, 50])"
      ]
     },
     "execution_count": 20,
     "metadata": {},
     "output_type": "execute_result"
    }
   ],
   "source": [
    "b = torch.Tensor(479, 3000, 19)\n",
    "m = network(lstm_input_size = 30, lstm_hidden_size = 50)\n",
    "m(b)[0].shape"
   ]
  }
 ],
 "metadata": {
  "kernelspec": {
   "display_name": "base",
   "language": "python",
   "name": "python3"
  },
  "language_info": {
   "codemirror_mode": {
    "name": "ipython",
    "version": 3
   },
   "file_extension": ".py",
   "mimetype": "text/x-python",
   "name": "python",
   "nbconvert_exporter": "python",
   "pygments_lexer": "ipython3",
   "version": "3.10.9"
  }
 },
 "nbformat": 4,
 "nbformat_minor": 2
}
