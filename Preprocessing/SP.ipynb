{
 "cells": [
  {
   "cell_type": "code",
   "execution_count": 61,
   "metadata": {},
   "outputs": [],
   "source": [
    "import spkit as sp\n",
    "import numpy as np\n",
    "import pandas as pd\n",
    "import matplotlib.pyplot as plt\n",
    "%matplotlib inline  \n",
    "import mne\n",
    "from copy import deepcopy\n",
    "from mne.preprocessing import compute_proj_ecg\n",
    "from mne_connectivity import envelope_correlation\n",
    "from sklearn.pipeline import make_pipeline\n",
    "from sklearn.preprocessing import StandardScaler\n",
    "from sklearn.linear_model import LogisticRegression\n",
    "import random\n",
    "from mne.preprocessing import ICA, corrmap, create_ecg_epochs, create_eog_epochs\n",
    "import autoreject\n",
    "from autoreject import AutoReject\n",
    "from autoreject import get_rejection_threshold\n",
    "from autoreject import Ransac\n",
    "from mne.preprocessing import annotate_amplitude\n",
    "from sklearn.preprocessing import PowerTransformer\n",
    "from sklearn.preprocessing import MinMaxScaler"
   ]
  },
  {
   "cell_type": "code",
   "execution_count": 62,
   "metadata": {},
   "outputs": [],
   "source": [
    "def Load_Raw(path, sfreq = 300, plot_raw = False):\n",
    "    data = np.array(pd.read_csv(path, skiprows=2))\n",
    "\n",
    "    data = np.delete(data, [0, 1, -1, -3, -4], axis=1)\n",
    "    #data = np.delete(data, [0, 1, -1], axis=1)\n",
    "\n",
    "\n",
    "    #ch_name = ['Fp1', 'Fp2', 'F3', 'F4', 'C3', 'C4', 'P3', 'P4', 'O1', 'O2', 'F7', 'F8', 'T3', 'T4', 'T5', 'T6', 'A1', 'A2', 'Fz', 'Cz', 'Pz', 'T2', 'T1', 'ECG']\n",
    "    channel_names = ['Fp1', 'Fp2', 'F3', 'F4', 'C3', 'C4', 'P3', 'P4', 'O1', 'O2', 'F7', 'F8', 'T3', 'T4', 'T5', 'T6', 'A1', 'A2', 'Fz', 'Cz', 'Pz', 'ECG']\n",
    "    #ch_name = ['F3', 'F4', 'C3', 'C4', 'P3', 'P4', 'O1', 'O2', 'F7', 'F8', 'T3', 'T4', 'T5', 'T6', 'A1', 'A2', 'Fz', 'Cz', 'Pz', 'T2', 'T1']\n",
    "\n",
    "    X = deepcopy(data)\n",
    "    X = deepcopy(X[10000:-10000])\n",
    "\n",
    "    sfreq = 300\n",
    "    info = mne.create_info(channel_names, sfreq, ch_types=['eeg', 'eeg', 'eeg', 'eeg', 'eeg', 'eeg', 'eeg', 'eeg', 'eeg', 'eeg', 'eeg', 'eeg', 'eeg', 'eeg', 'eeg', 'eeg', 'eeg', 'eeg', 'eeg', 'eeg', 'eeg', 'ecg'])\n",
    "    raw = mne.io.RawArray(X.T, info);\n",
    "    raw.set_montage('standard_1020')\n",
    "\n",
    "    if(plot_raw):\n",
    "        raw.plot(scalings='auto');\n",
    "\n",
    "    return raw\n"
   ]
  },
  {
   "cell_type": "code",
   "execution_count": 63,
   "metadata": {},
   "outputs": [],
   "source": [
    "def Artifact_Correction(raw, plot_source=False):\n",
    "    ica = ICA(n_components=21, max_iter=\"auto\", random_state=97)\n",
    "    ica.fit(raw)\n",
    "\n",
    "    explained_var_ratio = ica.get_explained_variance_ratio(raw)\n",
    "    for channel_type, ratio in explained_var_ratio.items():\n",
    "        print(\n",
    "            f\"Fraction of {channel_type} variance explained by all components: \" f\"{ratio}\"\n",
    "        )\n",
    "\n",
    "    raw.load_data()\n",
    "    if(plot_source):\n",
    "        ica.plot_sources(raw, show_scrollbars=False);\n",
    "    \n",
    "    n_max_ecg = 15  \n",
    "    ecg_epochs = create_ecg_epochs(raw, tmin=-.3, tmax=.3)\n",
    "    #ecg_epochs.decimate(5).apply_baseline((None, None))\n",
    "    ecg_inds, scores_ecg = ica.find_bads_ecg(ecg_epochs, threshold='auto', method='correlation')\n",
    "    print('Found %d ECG component(s)' % (len(ecg_inds),))\n",
    "    ica.exclude += ecg_inds[:n_max_ecg]\n",
    "    ica.plot_scores(scores_ecg, exclude=ecg_inds, title='ECG scores');\n",
    "\n",
    "\n",
    "    print(ica.exclude)\n",
    "    ica.apply(raw, exclude=ica.exclude)\n",
    "\n",
    "    bad_segments = annotate_amplitude(raw, peak=5, flat=0.5, min_duration=0.5)\n",
    "    raw.set_annotations(bad_segments[0])\n",
    "    \n",
    "    epochs = mne.make_fixed_length_epochs(raw, duration=10, preload=True, overlap= 1)\n",
    "\n",
    "    return epochs"
   ]
  },
  {
   "cell_type": "code",
   "execution_count": 64,
   "metadata": {},
   "outputs": [],
   "source": [
    "def Reject_Bad_Epochs(epochs):\n",
    "    ar = AutoReject()\n",
    "    new_epochs = ar.fit_transform(epochs, random)\n",
    "    return new_epochs"
   ]
  },
  {
   "cell_type": "code",
   "execution_count": 65,
   "metadata": {},
   "outputs": [],
   "source": [
    "def Bipolar(new_epochs):\n",
    "    anode = ['Fp1', 'Fp2', 'F3', 'F4', 'C3', 'C4', 'P3', 'P4', 'F7', 'F8', 'T3', 'T4', 'T5', 'T6']\n",
    "    cathode = ['F3', 'F8', 'C3', 'C4', 'P3', 'P4', 'O1', 'O2', 'T3', 'T4', 'T5', 'T6', 'O1', 'O2']\n",
    "    bipolar_data = mne.set_bipolar_reference(new_epochs[0], anode, cathode);\n",
    "    \n",
    "    return bipolar_data"
   ]
  },
  {
   "cell_type": "code",
   "execution_count": 66,
   "metadata": {},
   "outputs": [
    {
     "name": "stderr",
     "output_type": "stream",
     "text": [
      "C:\\Users\\admin\\AppData\\Local\\Temp\\ipykernel_18704\\1989074984.py:2: RuntimeWarning: module cupy not found, CUDA not enabled\n"
     ]
    }
   ],
   "source": [
    "mne.set_config(\"MNE_USE_CUDA\", \"True\")\n",
    "mne.cuda.init_cuda()"
   ]
  },
  {
   "cell_type": "code",
   "execution_count": 67,
   "metadata": {},
   "outputs": [
    {
     "name": "stdout",
     "output_type": "stream",
     "text": [
      "Creating RawArray with float64 data, n_channels=22, n_times=1743996\n",
      "    Range : 0 ... 1743995 =      0.000 ...  5813.317 secs\n",
      "Ready.\n"
     ]
    }
   ],
   "source": [
    "path = r\"D:\\Clean Data\\TLE\\FarahmandianHakime\\samples.csv\"\n",
    "name = 'FarahmandianHakime'\n",
    "raw = Load_Raw(path);"
   ]
  },
  {
   "cell_type": "code",
   "execution_count": 68,
   "metadata": {},
   "outputs": [
    {
     "name": "stdout",
     "output_type": "stream",
     "text": [
      "Fitting ICA to data using 21 channels (please be patient, this may take a while)\n"
     ]
    },
    {
     "name": "stderr",
     "output_type": "stream",
     "text": [
      "C:\\Users\\admin\\AppData\\Local\\Temp\\ipykernel_18704\\2675175726.py:3: RuntimeWarning: The data has not been high-pass filtered. For good ICA performance, it should be high-pass filtered (e.g., with a 1.0 Hz lower bound) before fitting ICA.\n"
     ]
    },
    {
     "name": "stdout",
     "output_type": "stream",
     "text": [
      "Selecting by number: 21 components\n",
      "Fitting ICA took 23.4s.\n",
      "Fraction of eeg variance explained by all components: 1.0\n",
      "Using channel ECG to identify heart beats.\n",
      "Setting up band-pass filter from 8 - 16 Hz\n",
      "\n",
      "FIR filter parameters\n",
      "---------------------\n",
      "Designing a two-pass forward and reverse, zero-phase, non-causal bandpass filter:\n",
      "- Windowed frequency-domain design (firwin2) method\n",
      "- Hann window\n",
      "- Lower passband edge: 8.00\n",
      "- Lower transition bandwidth: 0.50 Hz (-12 dB cutoff frequency: 7.75 Hz)\n",
      "- Upper passband edge: 16.00 Hz\n",
      "- Upper transition bandwidth: 0.50 Hz (-12 dB cutoff frequency: 16.25 Hz)\n",
      "- Filter length: 3000 samples (10.000 s)\n",
      "\n",
      "Number of ECG events detected : 7558 (average pulse 78 / min.)\n",
      "Not setting metadata\n",
      "7558 matching events found\n",
      "No baseline correction applied\n",
      "Using data from preloaded Raw for 7558 events and 181 original time points ...\n",
      "0 bad epochs dropped\n",
      "Found 1 ECG component(s)\n"
     ]
    },
    {
     "data": {
      "image/png": "[encoded data removed]",
      "text/plain": [
       "<Figure size 640x270 with 1 Axes>"
      ]
     },
     "metadata": {},
     "output_type": "display_data"
    },
    {
     "name": "stdout",
     "output_type": "stream",
     "text": [
      "[12]\n",
      "Applying ICA to Raw instance\n",
      "    Transforming to ICA space (21 components)\n",
      "    Zeroing out 1 ICA component\n",
      "    Projecting back using 21 PCA components\n",
      "Finding segments below or above PTP threshold.\n",
      "Not setting metadata\n",
      "645 matching events found\n",
      "No baseline correction applied\n",
      "0 projection items activated\n",
      "Using data from preloaded Raw for 645 events and 3000 original time points ...\n",
      "42 bad epochs dropped\n"
     ]
    }
   ],
   "source": [
    "epochs = Artifact_Correction(raw)"
   ]
  },
  {
   "cell_type": "code",
   "execution_count": 69,
   "metadata": {},
   "outputs": [
    {
     "name": "stdout",
     "output_type": "stream",
     "text": [
      "Running autoreject on ch_type=eeg\n"
     ]
    },
    {
     "data": {
      "application/vnd.jupyter.widget-view+json": {
       "model_id": "4c9d1564cf004360a5491dec9b05ed32",
       "version_major": 2,
       "version_minor": 0
      },
      "text/plain": [
       "  0%|          | Creating augmented epochs : 0/21 [00:00<?,       ?it/s]"
      ]
     },
     "metadata": {},
     "output_type": "display_data"
    },
    {
     "data": {
      "application/vnd.jupyter.widget-view+json": {
       "model_id": "2b3f5b836e5644fda1ede04a87dd549f",
       "version_major": 2,
       "version_minor": 0
      },
      "text/plain": [
       "  0%|          | Computing thresholds ... : 0/21 [00:00<?,       ?it/s]"
      ]
     },
     "metadata": {},
     "output_type": "display_data"
    },
    {
     "data": {
      "application/vnd.jupyter.widget-view+json": {
       "model_id": "ff40f48afbbb471db52c4120369113e8",
       "version_major": 2,
       "version_minor": 0
      },
      "text/plain": [
       "  0%|          | Repairing epochs : 0/603 [00:00<?,       ?it/s]"
      ]
     },
     "metadata": {},
     "output_type": "display_data"
    },
    {
     "data": {
      "application/vnd.jupyter.widget-view+json": {
       "model_id": "0114b1af2fec474fb4d42000a72d5ee8",
       "version_major": 2,
       "version_minor": 0
      },
      "text/plain": [
       "  0%|          | n_interp : 0/3 [00:00<?,       ?it/s]"
      ]
     },
     "metadata": {},
     "output_type": "display_data"
    },
    {
     "data": {
      "application/vnd.jupyter.widget-view+json": {
       "model_id": "3ac2423429d74587988957830f03a3fb",
       "version_major": 2,
       "version_minor": 0
      },
      "text/plain": [
       "  0%|          | Repairing epochs : 0/603 [00:00<?,       ?it/s]"
      ]
     },
     "metadata": {},
     "output_type": "display_data"
    },
    {
     "data": {
      "application/vnd.jupyter.widget-view+json": {
       "model_id": "ff50323d26104be5aefc921517badd8e",
       "version_major": 2,
       "version_minor": 0
      },
      "text/plain": [
       "  0%|          | Fold : 0/10 [00:00<?,       ?it/s]"
      ]
     },
     "metadata": {},
     "output_type": "display_data"
    },
    {
     "data": {
      "application/vnd.jupyter.widget-view+json": {
       "model_id": "6f4a52f57f94439ea5a0211469602c65",
       "version_major": 2,
       "version_minor": 0
      },
      "text/plain": [
       "  0%|          | Repairing epochs : 0/603 [00:00<?,       ?it/s]"
      ]
     },
     "metadata": {},
     "output_type": "display_data"
    },
    {
     "data": {
      "application/vnd.jupyter.widget-view+json": {
       "model_id": "b0a505aec9204f48bf60c098f572d27a",
       "version_major": 2,
       "version_minor": 0
      },
      "text/plain": [
       "  0%|          | Fold : 0/10 [00:00<?,       ?it/s]"
      ]
     },
     "metadata": {},
     "output_type": "display_data"
    },
    {
     "data": {
      "application/vnd.jupyter.widget-view+json": {
       "model_id": "3a5e00feddfd4749b6c6037025f722ab",
       "version_major": 2,
       "version_minor": 0
      },
      "text/plain": [
       "  0%|          | Repairing epochs : 0/603 [00:00<?,       ?it/s]"
      ]
     },
     "metadata": {},
     "output_type": "display_data"
    },
    {
     "name": "stderr",
     "output_type": "stream",
     "text": [
      "c:\\Users\\admin\\anaconda3\\lib\\site-packages\\mne\\bem.py:1134: RuntimeWarning: Mean of empty slice.\n",
      "c:\\Users\\admin\\anaconda3\\lib\\site-packages\\numpy\\core\\_methods.py:189: RuntimeWarning: invalid value encountered in double_scalars\n",
      "c:\\Users\\admin\\anaconda3\\lib\\site-packages\\numpy\\core\\fromnumeric.py:3440: RuntimeWarning: Mean of empty slice.\n",
      "c:\\Users\\admin\\anaconda3\\lib\\site-packages\\numpy\\core\\_methods.py:181: RuntimeWarning: invalid value encountered in true_divide\n"
     ]
    },
    {
     "data": {
      "application/vnd.jupyter.widget-view+json": {
       "model_id": "418e80553940432f9fb38f468b18b985",
       "version_major": 2,
       "version_minor": 0
      },
      "text/plain": [
       "  0%|          | Fold : 0/10 [00:00<?,       ?it/s]"
      ]
     },
     "metadata": {},
     "output_type": "display_data"
    },
    {
     "name": "stdout",
     "output_type": "stream",
     "text": [
      "\n",
      "\n",
      "\n",
      "\n",
      "Estimated consensus=0.50 and n_interpolate=4\n"
     ]
    },
    {
     "data": {
      "application/vnd.jupyter.widget-view+json": {
       "model_id": "2b3e71b18811459db97501ee894937e7",
       "version_major": 2,
       "version_minor": 0
      },
      "text/plain": [
       "  0%|          | Repairing epochs : 0/603 [00:00<?,       ?it/s]"
      ]
     },
     "metadata": {},
     "output_type": "display_data"
    },
    {
     "name": "stdout",
     "output_type": "stream",
     "text": [
      "Dropped 204 epochs: 5, 9, 86, 91, 92, 95, 108, 116, 118, 127, 130, 133, 138, 140, 144, 145, 149, 150, 151, 153, 154, 155, 161, 162, 163, 166, 167, 168, 170, 175, 176, 177, 178, 179, 182, 187, 188, 189, 193, 195, 196, 198, 199, 201, 202, 204, 205, 206, 211, 214, 218, 219, 220, 222, 226, 228, 229, 230, 234, 236, 237, 239, 242, 244, 245, 246, 247, 248, 249, 252, 253, 254, 255, 256, 257, 258, 260, 261, 262, 264, 265, 266, 268, 269, 270, 271, 273, 275, 276, 277, 278, 280, 282, 283, 288, 289, 294, 297, 298, 300, 310, 311, 324, 328, 332, 337, 345, 346, 350, 351, 352, 355, 357, 358, 364, 370, 375, 379, 389, 394, 396, 397, 398, 399, 403, 404, 406, 408, 409, 412, 416, 419, 420, 428, 431, 434, 436, 437, 439, 440, 443, 444, 445, 446, 447, 449, 452, 456, 457, 459, 460, 461, 462, 464, 466, 468, 469, 470, 471, 472, 473, 474, 475, 476, 477, 478, 479, 480, 481, 482, 484, 485, 486, 487, 488, 489, 490, 491, 492, 493, 494, 497, 498, 500, 501, 502, 504, 505, 507, 508, 509, 510, 513, 514, 515, 516, 517, 518, 519, 521, 524, 525, 573, 578\n"
     ]
    }
   ],
   "source": [
    "new_epochs = Reject_Bad_Epochs(epochs)"
   ]
  },
  {
   "cell_type": "code",
   "execution_count": 70,
   "metadata": {},
   "outputs": [
    {
     "name": "stdout",
     "output_type": "stream",
     "text": [
      "EEG channel type selected for re-referencing\n",
      "Not setting metadata\n",
      "399 matching events found\n",
      "No baseline correction applied\n",
      "0 projection items activated\n",
      "Added the following bipolar channels:\n",
      "Fp1-F3, Fp2-F8, F3-C3, F4-C4, C3-P3, C4-P4, P3-O1, P4-O2, F7-T3, F8-T4, T3-T5, T4-T6, T5-O1, T6-O2\n"
     ]
    }
   ],
   "source": [
    "bipolar_data = Bipolar(new_epochs)"
   ]
  },
  {
   "cell_type": "code",
   "execution_count": 71,
   "metadata": {},
   "outputs": [
    {
     "name": "stderr",
     "output_type": "stream",
     "text": [
      "C:\\Users\\admin\\AppData\\Local\\Temp\\ipykernel_18704\\3222617806.py:1: RuntimeWarning: This filename (FarahmandianHakime.fif) does not conform to MNE naming conventions. All epochs files should end with -epo.fif, -epo.fif.gz, _epo.fif or _epo.fif.gz\n"
     ]
    }
   ],
   "source": [
    "bipolar_data.save(name + \".fif\", overwrite=True)\n",
    "#bipolar_data_from_file = mne.read_epochs(\"test.fif\", preload=False)"
   ]
  },
  {
   "cell_type": "code",
   "execution_count": 72,
   "metadata": {},
   "outputs": [
    {
     "data": {
      "text/plain": [
       "\"\\n#bipolar_data = mne.set_bipolar_reference(new_epochs[0], anode, cathode);\\nbipolar_data = bipolar_data.get_data(picks='eeg')\\n#scaler = mne.decoding.Scaler(info = info, scalings=None)\\n\\n\\n#bipolar_data = bipolar_data.reshape(-1, 3000, 20)\\npre = bipolar_data[141]\\nscaler = StandardScaler()\\n\\n\\npost = scaler.fit_transform(pre)\\n\\nnormals = []\\nscaler = StandardScaler()\\nfor idx in range(len(bipolar_data)):\\n    normals.append(scaler.fit_transform(bipolar_data[idx]))\\nnormals = np.array(normals)\\n\\n\\nnormals.shape\\n\""
      ]
     },
     "execution_count": 72,
     "metadata": {},
     "output_type": "execute_result"
    }
   ],
   "source": [
    "\"\"\"\n",
    "#bipolar_data = mne.set_bipolar_reference(new_epochs[0], anode, cathode);\n",
    "bipolar_data = bipolar_data.get_data(picks='eeg')\n",
    "#scaler = mne.decoding.Scaler(info = info, scalings=None)\n",
    "\n",
    "\n",
    "#bipolar_data = bipolar_data.reshape(-1, 3000, 20)\n",
    "pre = bipolar_data[141]\n",
    "scaler = StandardScaler()\n",
    "\n",
    "\n",
    "post = scaler.fit_transform(pre)\n",
    "\n",
    "normals = []\n",
    "scaler = StandardScaler()\n",
    "for idx in range(len(bipolar_data)):\n",
    "    normals.append(scaler.fit_transform(bipolar_data[idx]))\n",
    "normals = np.array(normals)\n",
    "\n",
    "\n",
    "normals.shape\n",
    "\"\"\""
   ]
  }
 ],
 "metadata": {
  "kernelspec": {
   "display_name": "base",
   "language": "python",
   "name": "python3"
  },
  "language_info": {
   "codemirror_mode": {
    "name": "ipython",
    "version": 3
   },
   "file_extension": ".py",
   "mimetype": "text/x-python",
   "name": "python",
   "nbconvert_exporter": "python",
   "pygments_lexer": "ipython3",
   "version": "3.9.13"
  }
 },
 "nbformat": 4,
 "nbformat_minor": 2
}
