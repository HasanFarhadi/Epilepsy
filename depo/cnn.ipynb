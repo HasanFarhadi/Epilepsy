{
 "cells": [
  {
   "cell_type": "code",
   "execution_count": 2,
   "metadata": {},
   "outputs": [],
   "source": [
    "import os\n",
    "os.environ[\"KMP_DUPLICATE_LIB_OK\"]=\"TRUE\"\n",
    "#os.environ['CUDA_LAUNCH_BLOCKING'] = str(1)\n",
    "#os.environ[\"TORCH_USE_CUDA_DSA\"]= str(0)\n",
    "device = \"cuda\""
   ]
  },
  {
   "cell_type": "code",
   "execution_count": 3,
   "metadata": {},
   "outputs": [
    {
     "name": "stderr",
     "output_type": "stream",
     "text": [
      "c:\\Users\\admin\\anaconda3\\lib\\site-packages\\torchvision\\io\\image.py:13: UserWarning: Failed to load image Python extension: '[WinError 127] The specified procedure could not be found'If you don't plan on using image functionality from `torchvision.io`, you can ignore this warning. Otherwise, there might be something wrong with your environment. Did you have `libjpeg` or `libpng` installed before building `torchvision` from source?\n",
      "  warn(\n"
     ]
    }
   ],
   "source": [
    "from __future__ import print_function\n",
    "\n",
    "import os\n",
    "import torch\n",
    "import torch.nn as nn\n",
    "import torch.optim as optim\n",
    "import torch.nn.functional as F\n",
    "import torch.nn.utils as utils\n",
    "import torchvision\n",
    "import torchvision.transforms as transforms\n",
    "import matplotlib.pyplot as plt\n",
    "import numpy as np\n",
    "from torch.utils.data import Dataset\n",
    "from torchvision import datasets\n",
    "from torchvision.transforms import ToTensor\n",
    "import matplotlib.pyplot as plt\n",
    "from torch.autograd import Variable\n",
    "from sklearn.metrics import roc_auc_score, precision_score, recall_score, accuracy_score\n",
    "from torchsummary import summary\n",
    "import time\n",
    "import torch.nn.init as init"
   ]
  },
  {
   "cell_type": "code",
   "execution_count": 4,
   "metadata": {},
   "outputs": [
    {
     "data": {
      "text/plain": [
       "'\\nX_train = torch.randn([14231, 1, 9000, 18])\\nY_train = torch.ones([14231, 1])\\nX_val = torch.randn([1581, 1, 9000, 18])\\nY_val = torch.ones([1581, 1])\\nX_test = torch.randn([10249, 1, 9000, 18])\\nY_test = torch.ones([10249, 1])\\n'"
      ]
     },
     "execution_count": 4,
     "metadata": {},
     "output_type": "execute_result"
    }
   ],
   "source": [
    "\"\"\"\n",
    "X_train = torch.randn([14231, 1, 9000, 18])\n",
    "Y_train = torch.ones([14231, 1])\n",
    "X_val = torch.randn([1581, 1, 9000, 18])\n",
    "Y_val = torch.ones([1581, 1])\n",
    "X_test = torch.randn([10249, 1, 9000, 18])\n",
    "Y_test = torch.ones([10249, 1])\n",
    "\"\"\""
   ]
  },
  {
   "cell_type": "code",
   "execution_count": 9,
   "metadata": {},
   "outputs": [
    {
     "name": "stdout",
     "output_type": "stream",
     "text": [
      "----------------------------------------------------------------\n",
      "        Layer (type)               Output Shape         Param #\n",
      "================================================================\n",
      "            Conv2d-1         [-1, 16, 8983, 14]           1,456\n",
      "       BatchNorm2d-2         [-1, 16, 8983, 14]              32\n",
      "         ZeroPad2d-3         [-1, 16, 9003, 34]               0\n",
      "            Conv2d-4          [-1, 32, 1800, 6]          12,832\n",
      "       BatchNorm2d-5          [-1, 32, 1800, 6]              64\n",
      "         MaxPool2d-6           [-1, 32, 450, 2]               0\n",
      "            Conv2d-7            [-1, 64, 90, 1]          10,304\n",
      "       BatchNorm2d-8            [-1, 64, 90, 1]             128\n",
      "            Linear-9                    [-1, 1]           5,761\n",
      "================================================================\n",
      "Total params: 30,577\n",
      "Trainable params: 30,577\n",
      "Non-trainable params: 0\n",
      "----------------------------------------------------------------\n",
      "Input size (MB): 0.62\n",
      "Forward/backward pass size (MB): 73.65\n",
      "Params size (MB): 0.12\n",
      "Estimated Total Size (MB): 74.39\n",
      "----------------------------------------------------------------\n"
     ]
    }
   ],
   "source": [
    "class CNN(nn.Module):\n",
    "    def __init__(self):\n",
    "        super(CNN, self).__init__()\n",
    "        self.T = 9000\n",
    "\n",
    "        # Layer 1\n",
    "        self.conv1 = nn.Conv2d(1, 16, (18, 5))\n",
    "        self.batchnorm1 = nn.BatchNorm2d(16, False)\n",
    "        self.padding1 = nn.ZeroPad2d(10)\n",
    "        \n",
    "\n",
    "        # Layer 2\n",
    "        self.conv2 = nn.Conv2d(16, 32, (5, 5), stride=5)\n",
    "        self.batchnorm2 = nn.BatchNorm2d(32, False)\n",
    "        self.pooling2 = nn.MaxPool2d(2, 4)\n",
    "        self.padding2 = nn.ZeroPad2d(1)\n",
    "\n",
    "        # Layer 3\n",
    "        self.conv3 = nn.Conv2d(32, 64, (5, 1), stride=5)\n",
    "        self.batchnorm3 = nn.BatchNorm2d(64, False)\n",
    "        self.padding3 = nn.ZeroPad2d(1)\n",
    "\n",
    "        # Layer 4\n",
    "        self.conv4 = nn.Conv2d(64, 128, (5, 1), stride=5)\n",
    "        self.batchnorm4 = nn.BatchNorm2d(128, False)\n",
    "        self.padding4 = nn.ZeroPad2d(1)\n",
    "\n",
    "        # Layer 5\n",
    "        self.conv5 = nn.Conv2d(128, 256, (5, 1), stride=5)\n",
    "        self.batchnorm5 = nn.BatchNorm2d(256, False)\n",
    "        self.padding5 = nn.ZeroPad2d(1)\n",
    "\n",
    "\n",
    "        # FC\n",
    "        self.fc1 = nn.Linear(5760, 1)\n",
    "        init.xavier_uniform_(self.fc1.weight)\n",
    "\n",
    "    def forward(self, x):\n",
    "\n",
    "\n",
    "        # Layer 1\n",
    "        x = F.relu(self.conv1(x))\n",
    "        x = self.batchnorm1(x)\n",
    "        x = F.dropout(x, 0.25)\n",
    "        x = self.padding1(x)\n",
    "\n",
    "        \n",
    "        # Layer 2\n",
    "        x = F.relu(self.conv2(x))\n",
    "        x = self.batchnorm2(x)\n",
    "        x = self.pooling2(x)\n",
    "\n",
    "        \n",
    "\n",
    "        # Layer 3\n",
    "        x = F.relu(self.conv3(x))\n",
    "        x = self.batchnorm3(x)\n",
    "        \"\"\"\n",
    "        # Layer 4\n",
    "        x = F.relu(self.conv4(x))\n",
    "        x = self.batchnorm4(x)\n",
    "        x = self.padding4(x)\n",
    "\n",
    "        # Layer 5\n",
    "        x = F.relu(self.conv5(x))\n",
    "        x = self.batchnorm5(x)\n",
    "        x = self.padding5(x)\n",
    "\n",
    "\n",
    "        #x = x.permute(0, 3, 1, 2)\n",
    "\n",
    "        \"\"\"\n",
    "\n",
    "        x = x.reshape(-1, x.shape[1]* x.shape[2]* x.shape[3])\n",
    "        x = F.sigmoid(self.fc1(x))\n",
    "        return x\n",
    "\n",
    "if __name__ == \"__main__\":\n",
    "\n",
    "\n",
    "    model = CNN().cuda()\n",
    "\n",
    "    summary(model.cuda(), (1, 9000, 18))"
   ]
  }
 ],
 "metadata": {
  "kernelspec": {
   "display_name": "base",
   "language": "python",
   "name": "python3"
  },
  "language_info": {
   "codemirror_mode": {
    "name": "ipython",
    "version": 3
   },
   "file_extension": ".py",
   "mimetype": "text/x-python",
   "name": "python",
   "nbconvert_exporter": "python",
   "pygments_lexer": "ipython3",
   "version": "3.9.13"
  },
  "orig_nbformat": 4
 },
 "nbformat": 4,
 "nbformat_minor": 2
}
