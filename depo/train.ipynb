{
 "cells": [
  {
   "cell_type": "code",
   "execution_count": 41,
   "metadata": {},
   "outputs": [],
   "source": [
    "import os\n",
    "import warnings\n",
    "os.environ[\"KMP_DUPLICATE_LIB_OK\"]=\"TRUE\"\n",
    "#os.environ['CUDA_LAUNCH_BLOCKING'] = str(1)\n",
    "#os.environ[\"TORCH_USE_CUDA_DSA\"]= str(0)\n",
    "warnings.filterwarnings('ignore') \n",
    "device = \"cuda\""
   ]
  },
  {
   "cell_type": "code",
   "execution_count": 42,
   "metadata": {},
   "outputs": [],
   "source": [
    "from __future__ import print_function\n",
    "\n",
    "import copy\n",
    "import torch\n",
    "import torch.nn as nn\n",
    "from torch.nn import functional as F\n",
    "from torch.utils.data import Dataset\n",
    "import torch.optim as optim\n",
    "from torch.autograd import Variable\n",
    "from tqdm import tqdm\n",
    "import numpy as np\n",
    "import pandas as pd\n",
    "import matplotlib.pyplot as plt\n",
    "import time\n",
    "import math\n",
    "from collections import OrderedDict\n",
    "import random\n",
    "from torchsummary import summary\n",
    "from torchvision import transforms\n",
    "from torch.utils.data import Dataset\n",
    "import sys\n",
    "import torch\n",
    "import numpy as np\n",
    "from tqdm import trange\n",
    "from torch.utils.data import DataLoader\n",
    "from sklearn.metrics import accuracy_score\n",
    "from sklearn.model_selection import train_test_split"
   ]
  },
  {
   "cell_type": "code",
   "execution_count": 43,
   "metadata": {},
   "outputs": [],
   "source": [
    "import import_ipynb\n",
    "from Datagen import Data"
   ]
  },
  {
   "cell_type": "code",
   "execution_count": 44,
   "metadata": {},
   "outputs": [],
   "source": [
    "def likeliness(y_pred, y):\n",
    "    pred = torch.zeros([len(y_pred), y.shape[1]])\n",
    "    for idx, unit in enumerate(torch.argmax(y_pred, axis = 1)):\n",
    "        pred[idx, unit] = 1\n",
    "    return accuracy_score(pred.cpu(), y.cpu())"
   ]
  },
  {
   "cell_type": "code",
   "execution_count": 45,
   "metadata": {},
   "outputs": [],
   "source": [
    "class MyDataset(Dataset):\n",
    "    def __init__(self, x, y):\n",
    "        super(MyDataset, self).__init__()\n",
    "        self.transforms = transforms.ToTensor()\n",
    "        self.x = x\n",
    "        self.y = y\n",
    "        \n",
    "    def __getitem__(self, index):\n",
    "        x = self.x[index, ...]\n",
    "        y = self.y[index, ...]\n",
    "        return x, y\n",
    "    \n",
    "    def __len__(self):\n",
    "        return len(self.x)"
   ]
  },
  {
   "cell_type": "code",
   "execution_count": 46,
   "metadata": {},
   "outputs": [],
   "source": [
    "def load_data(seglength, val_ratio):\n",
    "    focal, focal_labels = Data('D:\\EEG\\FOCAL', seglength, class_num = 1)\n",
    "    ige, ige_labels = Data('D:\\EEG\\IGE', seglength, class_num = 2)\n",
    "\n",
    "    X_train = torch.cat((focal, ige))\n",
    "    Y_train = torch.cat((focal_labels, ige_labels))\n",
    "\n",
    "    del focal, focal_labels, ige, ige_labels\n",
    "\n",
    "    pnes, pnes_labels = Data('D:\\EEG\\PNES', seglength, class_num = 3)\n",
    "\n",
    "    X_train = torch.cat((X_train, pnes))\n",
    "    Y_train = torch.cat((Y_train, pnes_labels))\n",
    "\n",
    "    del pnes, pnes_labels\n",
    "\n",
    "    temporal, temporal_labels = Data('D:\\EEG\\TLE', seglength, class_num = 4)\n",
    "\n",
    "    X_train = torch.cat((X_train, temporal))\n",
    "    Y_train = torch.cat((Y_train, temporal_labels))\n",
    "\n",
    "    del temporal, temporal_labels\n",
    "\n",
    "    X_train, X_val, Y_train, y_val = train_test_split(X_train, Y_train, test_size= val_ratio, random_state=42, stratify=Y_train)\n",
    "    \n",
    "\n",
    "    return X_train, Y_train, X_val, y_val"
   ]
  },
  {
   "cell_type": "code",
   "execution_count": 47,
   "metadata": {},
   "outputs": [],
   "source": [
    "def load_test_data(seglength):\n",
    "    focal, focal_labels = Data('D:\\TEST EEG\\FOCAL', seglength, class_num = 1)\n",
    "    ige, ige_labels = Data('D:\\TEST EEG\\IGE', seglength, class_num = 2)\n",
    "\n",
    "    X = torch.cat((focal, ige))\n",
    "    Y = torch.cat((focal_labels, ige_labels))\n",
    "\n",
    "    del focal, focal_labels, ige, ige_labels\n",
    "\n",
    "    pnes, pnes_labels = Data('D:\\TEST EEG\\PNES', seglength, class_num = 3)\n",
    "\n",
    "    X = torch.cat((X, pnes))\n",
    "    Y = torch.cat((Y, pnes_labels))\n",
    "\n",
    "    del pnes, pnes_labels\n",
    "\n",
    "    temporal, temporal_labels = Data('D:\\TEST EEG\\TLE', seglength, class_num = 4)\n",
    "\n",
    "    X = torch.cat((X, temporal))\n",
    "    Y = torch.cat((Y, temporal_labels))\n",
    "\n",
    "    del temporal, temporal_labels\n",
    "\n",
    "    return X, Y"
   ]
  },
  {
   "cell_type": "code",
   "execution_count": 48,
   "metadata": {},
   "outputs": [],
   "source": [
    "seglength = 90000"
   ]
  },
  {
   "cell_type": "code",
   "execution_count": 49,
   "metadata": {},
   "outputs": [],
   "source": [
    "#x_test, y_test = load_test_data(seglength)"
   ]
  },
  {
   "cell_type": "code",
   "execution_count": 50,
   "metadata": {},
   "outputs": [],
   "source": [
    "#x_train, y_train, x_val, y_val = load_data(seglength, val_ratio = 0.1)"
   ]
  },
  {
   "cell_type": "code",
   "execution_count": 51,
   "metadata": {},
   "outputs": [],
   "source": [
    "\n",
    "#x_train = x_train.view(-1, 1, 18, seglength)\n",
    "#x_test = x_test.view(-1, 1, 18, seglength)\n",
    "#x_val = x_val.view(-1, 1, 18, seglength)\n"
   ]
  },
  {
   "cell_type": "code",
   "execution_count": 52,
   "metadata": {},
   "outputs": [
    {
     "data": {
      "text/plain": [
       "'\\nx_train = torch.rand([42583, 1, 18, 300])\\ny_train = torch.ones([42583, 4]) \\ny_train[:, :3] = 0\\nx_val = torch.rand([4731, 1, 18, 300])\\ny_val = torch.ones([4731, 4]) \\ny_val[:, :3] = 0\\nx_test = torch.rand([11828, 1, 18, 300])\\ny_test = torch.ones([11828, 4]) \\ny_test[:, :3] = 0\\n'"
      ]
     },
     "execution_count": 52,
     "metadata": {},
     "output_type": "execute_result"
    }
   ],
   "source": [
    "\"\"\"\n",
    "x_train = torch.rand([42583, 1, 18, 300])\n",
    "y_train = torch.ones([42583, 4]) \n",
    "y_train[:, :3] = 0\n",
    "x_val = torch.rand([4731, 1, 18, 300])\n",
    "y_val = torch.ones([4731, 4]) \n",
    "y_val[:, :3] = 0\n",
    "x_test = torch.rand([11828, 1, 18, 300])\n",
    "y_test = torch.ones([11828, 4]) \n",
    "y_test[:, :3] = 0\n",
    "\"\"\""
   ]
  },
  {
   "cell_type": "code",
   "execution_count": 53,
   "metadata": {},
   "outputs": [],
   "source": [
    "class LSTM_CNN_Spatial(nn.Module):\n",
    "    def __init__(self, num_classes, batch_size, T, C, input_size, hidden_size,\n",
    "                 num_layers, spatial_num=8, drop_out=0.5):\n",
    "        super(LSTM_CNN_Spatial, self).__init__()\n",
    "\n",
    "        self.N = batch_size\n",
    "        self.T = T\n",
    "        self.C = C\n",
    "        self.input_size = input_size\n",
    "        self.hidden_size = hidden_size\n",
    "        self.num_layers = num_layers\n",
    "        self.pool = 4\n",
    "        self.seq_len = self.T // self.input_size\n",
    "        self.fc_in = spatial_num * self.hidden_size // self.pool\n",
    "        \n",
    "        self._lstm = nn.LSTM(self.input_size, self.hidden_size, \n",
    "                            self.num_layers, batch_first=True)\n",
    "        self.lstm = nn.ModuleList([self._lstm for i in range(self.C)])\n",
    "        \n",
    "        self.block_1 = nn.Sequential(\n",
    "            nn.Conv2d(1, spatial_num, (self.C, 1)),\n",
    "            nn.BatchNorm2d(spatial_num),\n",
    "            nn.ELU(),\n",
    "            nn.AvgPool2d((1, self.pool)),\n",
    "            nn.Dropout(drop_out)\n",
    "        )\n",
    "        \n",
    "        self.fc = nn.Linear(self.fc_in , num_classes)\n",
    "        \n",
    "    def forward(self, x):\n",
    "        # input shape of x: (N, 1, C, T)\n",
    "        self.N = x.shape[0]\n",
    "        x = x.reshape(self.N, self.C, self.seq_len, self.input_size)\n",
    "        _x = None\n",
    "        for index, lstm in enumerate(self.lstm):\n",
    "            lstm_out, _ = lstm(x[:, index, :, :], None)\n",
    "            tmp = lstm_out[:, -1, :]\n",
    "            tmp = tmp.unsqueeze(0)\n",
    "            if _x is None:\n",
    "                _x = tmp\n",
    "            else:\n",
    "                _x = torch.cat((_x, tmp), dim=0)\n",
    "        \n",
    "        # (C, N, H) ===> (N, 1, C, H)   H: hidden_size\n",
    "        x = _x.permute(1, 0, 2).unsqueeze(1)\n",
    "        x = self.block_1(x)\n",
    "        \n",
    "        x = x.view(x.size(0), -1)\n",
    "        logits = self.fc(x)\n",
    "        probas = F.softmax(logits, dim=1)\n",
    "        return probas  "
   ]
  },
  {
   "cell_type": "code",
   "execution_count": 54,
   "metadata": {},
   "outputs": [],
   "source": [
    "def train(model, criterion, optimizer, data_loader, device, train_num, epochs, x_val, y_val, logged=False):\n",
    "    for epoch in trange(epochs):\n",
    "        model.train()\n",
    "        running_loss = 0.0\n",
    "        correct_num = 0\n",
    "        batch_size = None\n",
    "        for index, data in enumerate(data_loader):\n",
    "            x, y = data\n",
    "            batch_size = x.shape[0] if index == 0 else batch_size\n",
    "            x, y = x.to(device), y.to(device)\n",
    "            \n",
    "            y_pred = model(x)\n",
    "            _, pred = torch.max(y_pred, 1)\n",
    "            \n",
    "            correct_num += np.sum(pred.cpu().numpy() == y.cpu().numpy())\n",
    "            \n",
    "            loss = criterion(y_pred, y)\n",
    "            optimizer.zero_grad()\n",
    "            loss.backward()\n",
    "            optimizer.step()\n",
    "            \n",
    "            running_loss += float(loss.item())\n",
    "            \n",
    "        batch_num = train_num // batch_size\n",
    "        _loss = running_loss / (batch_num + 1)\n",
    "        acc = correct_num / train_num * 100\n",
    "        if not logged:\n",
    "            print(f'Epoch {epoch+1}/{epochs}\\tTrain loss: {_loss:.4f}')\n",
    "        print('---------')\n",
    "        print(f\"validation accuracy:{test(model,val_loader, DEVICE)}\")\n",
    "        print(f\"test accuracy:{test(model,test_loader, DEVICE)}\")\n",
    "        print('--------------------------------------------')\n",
    "    \n",
    "    \n",
    "    if not logged:\n",
    "        print('Finish Training!')"
   ]
  },
  {
   "cell_type": "code",
   "execution_count": 55,
   "metadata": {},
   "outputs": [],
   "source": [
    "def test(model, data_loader, device):\n",
    "    holder = []\n",
    "    for index, data in enumerate(data_loader):\n",
    "            x, y = data\n",
    "            batch_size = x.shape[0] if index == 0 else batch_size\n",
    "            x, y = x.to(device), y.to(device)\n",
    "            \n",
    "            holder.append(likeliness(model(x), y))\n",
    "\n",
    "\n",
    "    return np.average(holder)\n",
    "    \n",
    "    "
   ]
  },
  {
   "cell_type": "code",
   "execution_count": 56,
   "metadata": {},
   "outputs": [],
   "source": [
    "torch.cuda.empty_cache()"
   ]
  },
  {
   "cell_type": "code",
   "execution_count": 57,
   "metadata": {},
   "outputs": [
    {
     "name": "stdout",
     "output_type": "stream",
     "text": [
      "DEVICE:  cuda:0\n"
     ]
    }
   ],
   "source": [
    "epochs = 80\n",
    "batch_size = 256\n",
    "input_size = 5000\n",
    "hidden_size = 320\n",
    "num_layers = 4\n",
    "spatial_num = 120\n",
    "drop_out = 0.5\n",
    "learning_rate = 1e-5\n",
    "logged = False\n",
    "DEVICE = torch.device('cuda:0' if torch.cuda.is_available() else 'cpu')\n",
    "print('DEVICE: ', DEVICE)\n",
    "group = 1\n",
    "sorted_ = True"
   ]
  },
  {
   "cell_type": "code",
   "execution_count": 58,
   "metadata": {},
   "outputs": [],
   "source": [
    "train_num, test_num = x_train.shape[0], x_test.shape[0]\n",
    "    \n",
    "    \n",
    "train_data = MyDataset(x_train, y_train)\n",
    "test_data = MyDataset(x_test, y_test)\n",
    "val_data = MyDataset(x_val, y_val)\n",
    "train_loader = DataLoader(train_data, batch_size=batch_size)\n",
    "test_loader = DataLoader(test_data, batch_size=batch_size)\n",
    "val_loader = DataLoader(val_data, batch_size=batch_size)"
   ]
  },
  {
   "cell_type": "code",
   "execution_count": 59,
   "metadata": {},
   "outputs": [],
   "source": [
    "# model = LSTM(num_classes=2, input_size=64, hidden_size=256, num_layers=2)\n",
    "    \n",
    "# model = LSTM_CNN(num_classes=2, channels=x_train.shape[1], input_size=input_size, hidden_size=hidden_size, num_layers=num_layers, spatial_num=spatial_num, drop_out=drop_out)\n",
    "    \n",
    "# model = LSTM_CNN_Half(num_classes=2, batch_size=batch_size, T=x_train.shape[-1],\n",
    "#C=x_train.shape[-2], input_size=input_size, hidden_size=hidden_size,\n",
    "#num_layers=num_layers, spatial_num=spatial_num)\n",
    "    \n",
    "model = LSTM_CNN_Spatial(num_classes=4, batch_size=batch_size, T=x_train.shape[-1],\n",
    "                          C=x_train.shape[-2], input_size=input_size, hidden_size=hidden_size,\n",
    "                          num_layers=num_layers, spatial_num=spatial_num)\n",
    "model = torch.nn.DataParallel(model)\n",
    "model = model.to(DEVICE)\n",
    "criterion = nn.CrossEntropyLoss()\n",
    "optimizer = optim.Adam(model.parameters(), lr = learning_rate)"
   ]
  },
  {
   "cell_type": "code",
   "execution_count": null,
   "metadata": {},
   "outputs": [],
   "source": [
    "log = []\n",
    "if logged:\n",
    "    log.append(f'{epochs}\\t{batch_size}\\t{input_size}\\t{hidden_size}\\t'\n",
    "                   f'{num_layers}\\t{spatial_num}\\t{drop_out}\\t')\n",
    "train(model, criterion, optimizer, train_loader, DEVICE,train_num, epochs, x_val, y_val, logged=False)"
   ]
  },
  {
   "cell_type": "code",
   "execution_count": 61,
   "metadata": {},
   "outputs": [
    {
     "data": {
      "text/plain": [
       "tensor([[1.2351e-06, 1.0344e-04, 1.3771e-03, 9.9852e-01]], device='cuda:0',\n",
       "       grad_fn=<SoftmaxBackward0>)"
      ]
     },
     "execution_count": 61,
     "metadata": {},
     "output_type": "execute_result"
    }
   ],
   "source": [
    "model(x_test[300].cuda())"
   ]
  }
 ],
 "metadata": {
  "kernelspec": {
   "display_name": "base",
   "language": "python",
   "name": "python3"
  },
  "language_info": {
   "codemirror_mode": {
    "name": "ipython",
    "version": 3
   },
   "file_extension": ".py",
   "mimetype": "text/x-python",
   "name": "python",
   "nbconvert_exporter": "python",
   "pygments_lexer": "ipython3",
   "version": "3.9.13"
  },
  "orig_nbformat": 4
 },
 "nbformat": 4,
 "nbformat_minor": 2
}
